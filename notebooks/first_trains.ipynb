{
 "cells": [
  {
   "cell_type": "code",
   "execution_count": 8,
   "metadata": {},
   "outputs": [],
   "source": [
    "# %pip uninstall librosa\n",
    "# %pip install librosa==0.9.2"
   ]
  },
  {
   "cell_type": "code",
   "execution_count": 9,
   "metadata": {},
   "outputs": [],
   "source": [
    "# %pip install pydub"
   ]
  },
  {
   "cell_type": "code",
   "execution_count": 1,
   "metadata": {},
   "outputs": [],
   "source": [
    "from catboost import CatBoostClassifier"
   ]
  },
  {
   "cell_type": "code",
   "execution_count": 2,
   "metadata": {},
   "outputs": [
    {
     "name": "stderr",
     "output_type": "stream",
     "text": [
      "/Users/annatekuceva/PycharmProjects/stetoscope/ElectronicStetoscope-Automizer-/.venv/lib/python3.11/site-packages/pydub/utils.py:170: RuntimeWarning: Couldn't find ffmpeg or avconv - defaulting to ffmpeg, but may not work\n",
      "  warn(\"Couldn't find ffmpeg or avconv - defaulting to ffmpeg, but may not work\", RuntimeWarning)\n"
     ]
    }
   ],
   "source": [
    "import librosa\n",
    "import numpy as np\n",
    "from pydub import AudioSegment\n",
    "import os\n",
    "from sklearn.model_selection import train_test_split\n",
    "from sklearn.linear_model import LogisticRegression\n",
    "from sklearn.ensemble import RandomForestClassifier, GradientBoostingClassifier\n",
    "from sklearn.svm import SVC\n",
    "from sklearn.metrics import accuracy_score, f1_score, roc_auc_score, precision_score, recall_score\n",
    "from sklearn.preprocessing import StandardScaler\n",
    "from sklearn.model_selection import GridSearchCV"
   ]
  },
  {
   "cell_type": "markdown",
   "metadata": {},
   "source": [
    "## load cdpd"
   ]
  },
  {
   "cell_type": "code",
   "execution_count": 4,
   "metadata": {},
   "outputs": [],
   "source": [
    "import pandas as pd"
   ]
  },
  {
   "cell_type": "code",
   "execution_count": 5,
   "metadata": {},
   "outputs": [],
   "source": [
    "df = pd.read_csv('../data/CDPD/training_data.csv') "
   ]
  },
  {
   "cell_type": "code",
   "execution_count": 6,
   "metadata": {},
   "outputs": [
    {
     "data": {
      "text/plain": [
       "942"
      ]
     },
     "execution_count": 6,
     "metadata": {},
     "output_type": "execute_result"
    }
   ],
   "source": [
    "len(df)"
   ]
  },
  {
   "cell_type": "markdown",
   "metadata": {},
   "source": [
    "Отделение данных, вообще нам нужны только данные, которые обязательно имеют в себе Аортальный и Митральный клапаны, или хотя бы один из них, поэтому мы только такие и берем, но посмотреть как может обучиться со всеми данными тоже интересно, поэтому таблицы метрик в конце файла есть и для всех данных и для отобранных"
   ]
  },
  {
   "cell_type": "code",
   "execution_count": 7,
   "metadata": {},
   "outputs": [],
   "source": [
    "df = df[df['Locations'].isin(['AV+PV+TV+MV', 'AV+PV+MV', 'AV+AV+PV+PV+TV+MV', 'AV+MV+MV', \n",
    "                                        'AV+PV+MV+Phc+Phc', 'AV+PV+TV+TV+MV', 'AV+AV+MV+MV', 'AV+AV+PV+TV+MV', 'AV+PV+TV+MV+Phc', 'AV+AV+AV+MV', 'AV+AV+PV+TV+MV+MV', ])&(df['Murmur']!='Unknown')]"
   ]
  },
  {
   "cell_type": "code",
   "execution_count": 8,
   "metadata": {},
   "outputs": [
    {
     "data": {
      "text/plain": [
       "595"
      ]
     },
     "execution_count": 8,
     "metadata": {},
     "output_type": "execute_result"
    }
   ],
   "source": [
    "len(df)"
   ]
  },
  {
   "cell_type": "code",
   "execution_count": 9,
   "metadata": {},
   "outputs": [
    {
     "data": {
      "text/html": [
       "<div>\n",
       "<style scoped>\n",
       "    .dataframe tbody tr th:only-of-type {\n",
       "        vertical-align: middle;\n",
       "    }\n",
       "\n",
       "    .dataframe tbody tr th {\n",
       "        vertical-align: top;\n",
       "    }\n",
       "\n",
       "    .dataframe thead th {\n",
       "        text-align: right;\n",
       "    }\n",
       "</style>\n",
       "<table border=\"1\" class=\"dataframe\">\n",
       "  <thead>\n",
       "    <tr style=\"text-align: right;\">\n",
       "      <th></th>\n",
       "      <th>Patient ID</th>\n",
       "      <th>Locations</th>\n",
       "      <th>Age</th>\n",
       "      <th>Sex</th>\n",
       "      <th>Height</th>\n",
       "      <th>Weight</th>\n",
       "      <th>Pregnancy status</th>\n",
       "      <th>Murmur</th>\n",
       "      <th>Murmur locations</th>\n",
       "      <th>Most audible location</th>\n",
       "      <th>...</th>\n",
       "      <th>Systolic murmur grading</th>\n",
       "      <th>Systolic murmur pitch</th>\n",
       "      <th>Systolic murmur quality</th>\n",
       "      <th>Diastolic murmur timing</th>\n",
       "      <th>Diastolic murmur shape</th>\n",
       "      <th>Diastolic murmur grading</th>\n",
       "      <th>Diastolic murmur pitch</th>\n",
       "      <th>Diastolic murmur quality</th>\n",
       "      <th>Campaign</th>\n",
       "      <th>Additional ID</th>\n",
       "    </tr>\n",
       "  </thead>\n",
       "  <tbody>\n",
       "  </tbody>\n",
       "</table>\n",
       "<p>0 rows × 22 columns</p>\n",
       "</div>"
      ],
      "text/plain": [
       "Empty DataFrame\n",
       "Columns: [Patient ID, Locations, Age, Sex, Height, Weight, Pregnancy status, Murmur, Murmur locations, Most audible location, Systolic murmur timing, Systolic murmur shape, Systolic murmur grading, Systolic murmur pitch, Systolic murmur quality, Diastolic murmur timing, Diastolic murmur shape, Diastolic murmur grading, Diastolic murmur pitch, Diastolic murmur quality, Campaign, Additional ID]\n",
       "Index: []\n",
       "\n",
       "[0 rows x 22 columns]"
      ]
     },
     "execution_count": 9,
     "metadata": {},
     "output_type": "execute_result"
    }
   ],
   "source": [
    "df[df['Patient ID'].isna()]"
   ]
  },
  {
   "cell_type": "code",
   "execution_count": 10,
   "metadata": {},
   "outputs": [
    {
     "data": {
      "text/html": [
       "<div>\n",
       "<style scoped>\n",
       "    .dataframe tbody tr th:only-of-type {\n",
       "        vertical-align: middle;\n",
       "    }\n",
       "\n",
       "    .dataframe tbody tr th {\n",
       "        vertical-align: top;\n",
       "    }\n",
       "\n",
       "    .dataframe thead th {\n",
       "        text-align: right;\n",
       "    }\n",
       "</style>\n",
       "<table border=\"1\" class=\"dataframe\">\n",
       "  <thead>\n",
       "    <tr style=\"text-align: right;\">\n",
       "      <th></th>\n",
       "      <th>Patient ID</th>\n",
       "      <th>Locations</th>\n",
       "      <th>Age</th>\n",
       "      <th>Sex</th>\n",
       "      <th>Height</th>\n",
       "      <th>Weight</th>\n",
       "      <th>Pregnancy status</th>\n",
       "      <th>Murmur</th>\n",
       "      <th>Murmur locations</th>\n",
       "      <th>Most audible location</th>\n",
       "      <th>...</th>\n",
       "      <th>Systolic murmur grading</th>\n",
       "      <th>Systolic murmur pitch</th>\n",
       "      <th>Systolic murmur quality</th>\n",
       "      <th>Diastolic murmur timing</th>\n",
       "      <th>Diastolic murmur shape</th>\n",
       "      <th>Diastolic murmur grading</th>\n",
       "      <th>Diastolic murmur pitch</th>\n",
       "      <th>Diastolic murmur quality</th>\n",
       "      <th>Campaign</th>\n",
       "      <th>Additional ID</th>\n",
       "    </tr>\n",
       "  </thead>\n",
       "  <tbody>\n",
       "    <tr>\n",
       "      <th>0</th>\n",
       "      <td>2530</td>\n",
       "      <td>AV+PV+TV+MV</td>\n",
       "      <td>Child</td>\n",
       "      <td>Female</td>\n",
       "      <td>98.0</td>\n",
       "      <td>15.9</td>\n",
       "      <td>False</td>\n",
       "      <td>Absent</td>\n",
       "      <td>NaN</td>\n",
       "      <td>NaN</td>\n",
       "      <td>...</td>\n",
       "      <td>NaN</td>\n",
       "      <td>NaN</td>\n",
       "      <td>NaN</td>\n",
       "      <td>NaN</td>\n",
       "      <td>NaN</td>\n",
       "      <td>NaN</td>\n",
       "      <td>NaN</td>\n",
       "      <td>NaN</td>\n",
       "      <td>CC2015</td>\n",
       "      <td>NaN</td>\n",
       "    </tr>\n",
       "    <tr>\n",
       "      <th>1</th>\n",
       "      <td>9979</td>\n",
       "      <td>AV+PV+TV+MV</td>\n",
       "      <td>Child</td>\n",
       "      <td>Female</td>\n",
       "      <td>103.0</td>\n",
       "      <td>13.1</td>\n",
       "      <td>False</td>\n",
       "      <td>Present</td>\n",
       "      <td>AV+MV+PV+TV</td>\n",
       "      <td>TV</td>\n",
       "      <td>...</td>\n",
       "      <td>III/VI</td>\n",
       "      <td>High</td>\n",
       "      <td>Harsh</td>\n",
       "      <td>NaN</td>\n",
       "      <td>NaN</td>\n",
       "      <td>NaN</td>\n",
       "      <td>NaN</td>\n",
       "      <td>NaN</td>\n",
       "      <td>CC2015</td>\n",
       "      <td>NaN</td>\n",
       "    </tr>\n",
       "    <tr>\n",
       "      <th>3</th>\n",
       "      <td>13918</td>\n",
       "      <td>AV+PV+TV+MV</td>\n",
       "      <td>Child</td>\n",
       "      <td>Male</td>\n",
       "      <td>98.0</td>\n",
       "      <td>15.9</td>\n",
       "      <td>False</td>\n",
       "      <td>Present</td>\n",
       "      <td>TV</td>\n",
       "      <td>TV</td>\n",
       "      <td>...</td>\n",
       "      <td>I/VI</td>\n",
       "      <td>Low</td>\n",
       "      <td>Blowing</td>\n",
       "      <td>NaN</td>\n",
       "      <td>NaN</td>\n",
       "      <td>NaN</td>\n",
       "      <td>NaN</td>\n",
       "      <td>NaN</td>\n",
       "      <td>CC2015</td>\n",
       "      <td>NaN</td>\n",
       "    </tr>\n",
       "    <tr>\n",
       "      <th>4</th>\n",
       "      <td>14241</td>\n",
       "      <td>AV+PV+TV+MV</td>\n",
       "      <td>Child</td>\n",
       "      <td>Male</td>\n",
       "      <td>87.0</td>\n",
       "      <td>11.2</td>\n",
       "      <td>False</td>\n",
       "      <td>Present</td>\n",
       "      <td>AV+MV+PV+TV</td>\n",
       "      <td>PV</td>\n",
       "      <td>...</td>\n",
       "      <td>II/VI</td>\n",
       "      <td>Low</td>\n",
       "      <td>Harsh</td>\n",
       "      <td>NaN</td>\n",
       "      <td>NaN</td>\n",
       "      <td>NaN</td>\n",
       "      <td>NaN</td>\n",
       "      <td>NaN</td>\n",
       "      <td>CC2015</td>\n",
       "      <td>NaN</td>\n",
       "    </tr>\n",
       "    <tr>\n",
       "      <th>5</th>\n",
       "      <td>14998</td>\n",
       "      <td>AV+PV+TV+MV</td>\n",
       "      <td>Child</td>\n",
       "      <td>Male</td>\n",
       "      <td>NaN</td>\n",
       "      <td>NaN</td>\n",
       "      <td>False</td>\n",
       "      <td>Absent</td>\n",
       "      <td>NaN</td>\n",
       "      <td>NaN</td>\n",
       "      <td>...</td>\n",
       "      <td>NaN</td>\n",
       "      <td>NaN</td>\n",
       "      <td>NaN</td>\n",
       "      <td>NaN</td>\n",
       "      <td>NaN</td>\n",
       "      <td>NaN</td>\n",
       "      <td>NaN</td>\n",
       "      <td>NaN</td>\n",
       "      <td>CC2015</td>\n",
       "      <td>NaN</td>\n",
       "    </tr>\n",
       "  </tbody>\n",
       "</table>\n",
       "<p>5 rows × 22 columns</p>\n",
       "</div>"
      ],
      "text/plain": [
       "   Patient ID    Locations    Age     Sex  Height  Weight  Pregnancy status  \\\n",
       "0        2530  AV+PV+TV+MV  Child  Female    98.0    15.9             False   \n",
       "1        9979  AV+PV+TV+MV  Child  Female   103.0    13.1             False   \n",
       "3       13918  AV+PV+TV+MV  Child    Male    98.0    15.9             False   \n",
       "4       14241  AV+PV+TV+MV  Child    Male    87.0    11.2             False   \n",
       "5       14998  AV+PV+TV+MV  Child    Male     NaN     NaN             False   \n",
       "\n",
       "    Murmur Murmur locations Most audible location  ...  \\\n",
       "0   Absent              NaN                   NaN  ...   \n",
       "1  Present      AV+MV+PV+TV                    TV  ...   \n",
       "3  Present               TV                    TV  ...   \n",
       "4  Present      AV+MV+PV+TV                    PV  ...   \n",
       "5   Absent              NaN                   NaN  ...   \n",
       "\n",
       "  Systolic murmur grading Systolic murmur pitch Systolic murmur quality  \\\n",
       "0                     NaN                   NaN                     NaN   \n",
       "1                  III/VI                  High                   Harsh   \n",
       "3                    I/VI                   Low                 Blowing   \n",
       "4                   II/VI                   Low                   Harsh   \n",
       "5                     NaN                   NaN                     NaN   \n",
       "\n",
       "  Diastolic murmur timing Diastolic murmur shape Diastolic murmur grading  \\\n",
       "0                     NaN                    NaN                      NaN   \n",
       "1                     NaN                    NaN                      NaN   \n",
       "3                     NaN                    NaN                      NaN   \n",
       "4                     NaN                    NaN                      NaN   \n",
       "5                     NaN                    NaN                      NaN   \n",
       "\n",
       "  Diastolic murmur pitch Diastolic murmur quality Campaign Additional ID  \n",
       "0                    NaN                      NaN   CC2015           NaN  \n",
       "1                    NaN                      NaN   CC2015           NaN  \n",
       "3                    NaN                      NaN   CC2015           NaN  \n",
       "4                    NaN                      NaN   CC2015           NaN  \n",
       "5                    NaN                      NaN   CC2015           NaN  \n",
       "\n",
       "[5 rows x 22 columns]"
      ]
     },
     "execution_count": 10,
     "metadata": {},
     "output_type": "execute_result"
    }
   ],
   "source": [
    "df.head()"
   ]
  },
  {
   "cell_type": "code",
   "execution_count": 37,
   "metadata": {},
   "outputs": [],
   "source": [
    "# Определение порядка объединения файлов\n",
    "order = ['MV', 'AV', 'PV', 'Ph', 'TV']\n",
    "directory = '../data/CDPD/training_data/'\n",
    "\n",
    "def combine_audio(filename):\n",
    "    # Получение списка файлов для текущей строки\n",
    "    files_to_combine = []\n",
    "    for location in order:\n",
    "        file_name = f\"{directory}{filename}_{location}.wav\"\n",
    "        if os.path.exists(file_name):\n",
    "            files_to_combine.append(file_name)\n",
    "    \n",
    "    # Объединение файлов\n",
    "    combined_audio = AudioSegment.empty()\n",
    "    for file in files_to_combine:\n",
    "        audio = AudioSegment.from_wav(file)\n",
    "        combined_audio += audio\n",
    "    \n",
    "    # Сохранение объединенного аудио\n",
    "    output_file_name = f\"{directory}{filename}_combined.wav\"\n",
    "    combined_audio.export(output_file_name, format=\"wav\")\n",
    "    return output_file_name\n",
    "\n",
    "# Применение функции к каждой строке\n",
    "# df.apply(combine_audio, axis=1)\n"
   ]
  },
  {
   "cell_type": "code",
   "execution_count": 38,
   "metadata": {},
   "outputs": [],
   "source": [
    "\n",
    "def load_audio_data(file_names):\n",
    "    X = []\n",
    "    for file_name in tqdm(file_names):\n",
    "        # Объединение аудиофайлов\n",
    "        combined_file_name = combine_audio(file_name)\n",
    "        try:\n",
    "            # Загрузка объединенного аудиофайла и извлечение признаков\n",
    "            audio, sr = librosa.load(combined_file_name)\n",
    "            mfcc = librosa.feature.mfcc(y=audio, sr=sr)\n",
    "            mfcc_mean = np.mean(mfcc, axis=1)\n",
    "            \n",
    "            # Удаление временного объединенного файла\n",
    "            # os.remove(combined_file_name)\n",
    "            \n",
    "            X.append(mfcc_mean)\n",
    "        except:\n",
    "            print(combined_file_name)\n",
    "            continue\n",
    "    \n",
    "    return np.array(X)"
   ]
  },
  {
   "cell_type": "markdown",
   "metadata": {},
   "source": [
    "## load cda"
   ]
  },
  {
   "cell_type": "code",
   "execution_count": 14,
   "metadata": {},
   "outputs": [],
   "source": [
    "patients = \"../data/Пациенты.csv\"\n",
    "norm_dir = \"../data/норма\"\n",
    "patology_dir = \"../data/патология\""
   ]
  },
  {
   "cell_type": "code",
   "execution_count": 15,
   "metadata": {},
   "outputs": [],
   "source": [
    "def find_wav_files(directory):\n",
    "    X = []\n",
    "\n",
    "    for root, dirs, files in os.walk(directory):\n",
    "        for file in files:\n",
    "            if file.endswith(\".wav\"):\n",
    "                audio, sr = librosa.load(os.path.join(root, file))\n",
    "                mfcc = librosa.feature.mfcc(y=audio, sr=sr)\n",
    "                mfcc_mean = np.mean(mfcc, axis=1)\n",
    "                \n",
    "                X.append(mfcc_mean)\n",
    "    \n",
    "    return X"
   ]
  },
  {
   "cell_type": "markdown",
   "metadata": {},
   "source": [
    "## prepare data"
   ]
  },
  {
   "cell_type": "code",
   "execution_count": 16,
   "metadata": {},
   "outputs": [],
   "source": [
    "cda = find_wav_files(norm_dir)\n",
    "norm = len(cda)\n",
    "cda.extend(find_wav_files(patology_dir))\n",
    "patology = len(cda) - norm\n",
    "\n",
    "cda = np.array(cda)\n",
    "cda_labels = [1]* norm + [0] * patology"
   ]
  },
  {
   "cell_type": "code",
   "execution_count": 24,
   "metadata": {},
   "outputs": [],
   "source": [
    "# !pip install tqdm"
   ]
  },
  {
   "cell_type": "code",
   "execution_count": 17,
   "metadata": {},
   "outputs": [],
   "source": [
    "from tqdm import tqdm"
   ]
  },
  {
   "cell_type": "code",
   "execution_count": null,
   "metadata": {},
   "outputs": [],
   "source": []
  },
  {
   "cell_type": "code",
   "execution_count": 39,
   "metadata": {},
   "outputs": [
    {
     "name": "stderr",
     "output_type": "stream",
     "text": [
      " 24%|██▎       | 140/595 [01:25<05:09,  1.47it/s]"
     ]
    },
    {
     "name": "stdout",
     "output_type": "stream",
     "text": [
      "../data/CDPD/training_data/50321_combined.wav\n"
     ]
    },
    {
     "name": "stderr",
     "output_type": "stream",
     "text": [
      "100%|██████████| 595/595 [05:14<00:00,  1.89it/s]\n"
     ]
    }
   ],
   "source": [
    "file_names_cdpd = list(df['Patient ID']) \n",
    "\n",
    "# 1 - normal, 0 - patology\n",
    "cdpd_data = load_audio_data(file_names_cdpd)"
   ]
  },
  {
   "cell_type": "code",
   "execution_count": 19,
   "metadata": {},
   "outputs": [],
   "source": [
    "cdpd_labels = list(df['Murmur'].apply(lambda x: 1 if x=='Absent' else 0))"
   ]
  },
  {
   "cell_type": "code",
   "execution_count": 114,
   "metadata": {},
   "outputs": [],
   "source": [
    "# del cdpd_labels[267]"
   ]
  },
  {
   "cell_type": "code",
   "execution_count": 20,
   "metadata": {},
   "outputs": [],
   "source": [
    "del cdpd_labels[141]"
   ]
  },
  {
   "cell_type": "code",
   "execution_count": 21,
   "metadata": {},
   "outputs": [],
   "source": [
    "cdpd_labels = np.array(cdpd_labels)"
   ]
  },
  {
   "cell_type": "code",
   "execution_count": 22,
   "metadata": {},
   "outputs": [
    {
     "data": {
      "text/plain": [
       "(594, 20)"
      ]
     },
     "execution_count": 22,
     "metadata": {},
     "output_type": "execute_result"
    }
   ],
   "source": [
    "cdpd_data.shape"
   ]
  },
  {
   "cell_type": "code",
   "execution_count": 23,
   "metadata": {},
   "outputs": [
    {
     "data": {
      "text/plain": [
       "(594,)"
      ]
     },
     "execution_count": 23,
     "metadata": {},
     "output_type": "execute_result"
    }
   ],
   "source": [
    "cdpd_labels.shape"
   ]
  },
  {
   "cell_type": "code",
   "execution_count": 24,
   "metadata": {},
   "outputs": [],
   "source": [
    "# Разделение на обучающую и тестовую выборки\n",
    "X_train, X_test, y_train, y_test = train_test_split(cdpd_data, cdpd_labels, test_size=0.2, random_state=42)\n",
    "\n",
    "# Масштабирование признаков\n",
    "scaler = StandardScaler()\n",
    "X_train_scaled = scaler.fit_transform(X_train)\n",
    "X_test_scaled = scaler.transform(X_test)"
   ]
  },
  {
   "cell_type": "code",
   "execution_count": 25,
   "metadata": {},
   "outputs": [
    {
     "name": "stdout",
     "output_type": "stream",
     "text": [
      "Новые размеры тестовых данных:\n",
      "X_test shape: (119, 20)\n",
      "y_test shape: (119,)\n",
      "X_test_cdatest shape: (170, 20)\n",
      "y_test_cdatest shape: (170,)\n"
     ]
    }
   ],
   "source": [
    "# Добавление новых данных в тестовую выборку\n",
    "X_test_cdatest = np.vstack((X_test, cda))\n",
    "y_test_cdatest = np.concatenate((y_test, cda_labels))\n",
    "\n",
    "X_test_scaled_cdatest = scaler.transform(X_test_cdatest)\n",
    "\n",
    "print(\"Новые размеры тестовых данных:\")\n",
    "print(f\"X_test shape: {X_test.shape}\")\n",
    "print(f\"y_test shape: {y_test.shape}\")\n",
    "print(f\"X_test_cdatest shape: {X_test_cdatest.shape}\")\n",
    "print(f\"y_test_cdatest shape: {y_test_cdatest.shape}\")"
   ]
  },
  {
   "cell_type": "code",
   "execution_count": 26,
   "metadata": {},
   "outputs": [],
   "source": [
    "# cdpd cda train test\n",
    "X_train_cda, X_test_cda, y_train_cda, y_test_cda = train_test_split(cda, cda_labels, test_size=0.2, random_state=42)\n",
    "\n",
    "\n",
    "X_train_cdpd_cda = np.vstack((X_train, X_train_cda))\n",
    "y_train_cdpd_cda = np.concatenate((y_train, y_train_cda))\n",
    "X_test_cdpd_cda = np.vstack((X_test, X_test_cda))\n",
    "y_test_cdpd_cda = np.concatenate((y_test, y_test_cda))\n",
    "\n",
    "scaler = StandardScaler()\n",
    "X_train_scaled_cdpd_cda = scaler.fit_transform(X_train_cdpd_cda)\n",
    "X_test_scaled_cdpd_cda = scaler.transform(X_test_cdpd_cda)"
   ]
  },
  {
   "cell_type": "code",
   "execution_count": 28,
   "metadata": {},
   "outputs": [],
   "source": [
    "import joblib"
   ]
  },
  {
   "cell_type": "code",
   "execution_count": 29,
   "metadata": {},
   "outputs": [
    {
     "data": {
      "text/plain": [
       "['./models/binary_standard_scaler.pkl']"
      ]
     },
     "execution_count": 29,
     "metadata": {},
     "output_type": "execute_result"
    }
   ],
   "source": [
    "joblib.dump(scaler, \"./models/binary_standard_scaler.pkl\")"
   ]
  },
  {
   "cell_type": "markdown",
   "metadata": {},
   "source": [
    "## models"
   ]
  },
  {
   "cell_type": "code",
   "execution_count": 30,
   "metadata": {},
   "outputs": [],
   "source": [
    "from sklearn.ensemble import AdaBoostClassifier"
   ]
  },
  {
   "cell_type": "code",
   "execution_count": 31,
   "metadata": {},
   "outputs": [],
   "source": [
    "models_config = {\n",
    "    'LogisticRegression': {\n",
    "        'model': LogisticRegression(max_iter=1000),\n",
    "        'params': {\n",
    "            'C': [0.1, 1, 10],\n",
    "            'penalty': ['l2']\n",
    "        }\n",
    "    },\n",
    "    'RandomForest': {\n",
    "        'model': RandomForestClassifier(),\n",
    "        'params': {\n",
    "            'n_estimators': [50, 100, 200],\n",
    "            'max_depth': [None, 5, 10]\n",
    "        }\n",
    "    },\n",
    "    'GradientBoosting': {\n",
    "        'model': GradientBoostingClassifier(),\n",
    "        'params': {\n",
    "            'n_estimators': [50, 100, 200],\n",
    "            'learning_rate': [0.1, 0.5, 1]\n",
    "        }\n",
    "    },\n",
    "    'AdaBoost': {\n",
    "        'model': AdaBoostClassifier(random_state=42),\n",
    "        'params': {\n",
    "            'n_estimators': [50, 100, 150, 200],\n",
    "            'learning_rate': [1.0, 0.1, 0.01],\n",
    "            'algorithm': ['SAMME', 'SAMME.R']\n",
    "        }\n",
    "    },\n",
    "    'SVC': {\n",
    "        'model': SVC(probability=True),\n",
    "        'params': {\n",
    "            'C': [0.1, 1, 10],\n",
    "            'kernel': ['linear', 'rbf']\n",
    "        }\n",
    "    },\n",
    "    'CatBoost': {\n",
    "        'model': CatBoostClassifier(),\n",
    "        'params':{\n",
    "            'n_estimators': [100, 200],\n",
    "            'max_depth': [3, 4, 6],\n",
    "            'learning_rate': [0.01, 0.1]\n",
    "}\n",
    "\n",
    "} }"
   ]
  },
  {
   "cell_type": "markdown",
   "metadata": {},
   "source": [
    "## experiments"
   ]
  },
  {
   "cell_type": "markdown",
   "metadata": {},
   "source": [
    "### train_func"
   ]
  },
  {
   "cell_type": "code",
   "execution_count": 32,
   "metadata": {},
   "outputs": [],
   "source": [
    "from sklearn.metrics import precision_score, recall_score, f1_score, accuracy_score, roc_auc_score, confusion_matrix"
   ]
  },
  {
   "cell_type": "code",
   "execution_count": null,
   "metadata": {},
   "outputs": [],
   "source": [
    "import joblib"
   ]
  },
  {
   "cell_type": "code",
   "execution_count": 33,
   "metadata": {},
   "outputs": [],
   "source": [
    "def train_val(models, X_train_scaled, X_test_scaled, y_train, y_test, experiment=''):\n",
    "    results = {'model':[], 'Accuracy': [], 'F1-score': [], 'ROC-AUC': [], 'Presidion': [], 'Recall': [], 'Specificity': [], 'Best params': []}\n",
    "    matrixes = {}\n",
    "    for name, config in models.items():\n",
    "        grid_search = GridSearchCV(config['model'], config['params'], cv=5)\n",
    "        grid_search.fit(X_train_scaled, y_train)\n",
    "        \n",
    "        best_model = grid_search.best_estimator_\n",
    "        y_pred = best_model.predict(X_test_scaled)\n",
    "        y_pred_proba = best_model.predict_proba(X_test_scaled)[:, 1]\n",
    "        \n",
    "        accuracy = accuracy_score(y_test, y_pred)\n",
    "        f1 = f1_score(y_test, y_pred)\n",
    "        # пресижн и рекол хде, вы шо\n",
    "        auc = roc_auc_score(y_test, y_pred_proba)\n",
    "        pres = precision_score(y_test, y_pred)\n",
    "        rec = recall_score(y_test, y_pred)\n",
    "\n",
    "        tn, fp, fn, tp = confusion_matrix(y_test, y_pred).ravel()\n",
    "        specificity = tn / (tn + fp) if (tn + fp) > 0 else None\n",
    "\n",
    "        matrixes[name]=confusion_matrix(y_test, y_pred)\n",
    "        \n",
    "        results['model'].append(name) \n",
    "        results['Accuracy'].append(round(accuracy, 3))\n",
    "        results['F1-score'].append(round(f1, 3))\n",
    "        results['ROC-AUC'].append(round(auc, 3))\n",
    "\n",
    "        results['Presidion'].append(round(pres, 3))\n",
    "        results['Recall'].append(round(rec, 3))\n",
    "        results['Specificity'].append(round(specificity, 3))\n",
    "\n",
    "        results['Best params'].append(grid_search.best_params_)\n",
    "\n",
    "        joblib.dump(best_model, f\"./models/binary_{experiment}_{name}_best_model.pkl\")\n",
    "        \n",
    "    return pd.DataFrame(results), matrixes"
   ]
  },
  {
   "cell_type": "code",
   "execution_count": 34,
   "metadata": {},
   "outputs": [],
   "source": [
    "import matplotlib.pyplot as plt\n",
    "import seaborn as sns\n",
    "from sklearn.metrics import confusion_matrix\n",
    "\n",
    "def show_matrix(cm):\n",
    "    sns.heatmap(cm, annot=True, fmt='d', cmap='Blues', cbar=False,\n",
    "                xticklabels=['Predicted 0', 'Predicted 1'],\n",
    "                yticklabels=['Actual 0', 'Actual 1'])\n",
    "\n",
    "    plt.xlabel('Предсказанные значения')\n",
    "    plt.ylabel('Истинные значения')\n",
    "    plt.title('Матрица ошибок')\n",
    "    plt.show()"
   ]
  },
  {
   "cell_type": "markdown",
   "metadata": {},
   "source": [
    "### cdpd full"
   ]
  },
  {
   "cell_type": "code",
   "execution_count": null,
   "metadata": {},
   "outputs": [],
   "source": [
    "res_cdpd_full, matrixes_cdpd_full = train_val(models_config,  X_train_scaled, X_test_scaled, y_train, y_test)"
   ]
  },
  {
   "cell_type": "code",
   "execution_count": 126,
   "metadata": {},
   "outputs": [
    {
     "data": {
      "text/html": [
       "<div>\n",
       "<style scoped>\n",
       "    .dataframe tbody tr th:only-of-type {\n",
       "        vertical-align: middle;\n",
       "    }\n",
       "\n",
       "    .dataframe tbody tr th {\n",
       "        vertical-align: top;\n",
       "    }\n",
       "\n",
       "    .dataframe thead th {\n",
       "        text-align: right;\n",
       "    }\n",
       "</style>\n",
       "<table border=\"1\" class=\"dataframe\">\n",
       "  <thead>\n",
       "    <tr style=\"text-align: right;\">\n",
       "      <th></th>\n",
       "      <th>model</th>\n",
       "      <th>Accuracy</th>\n",
       "      <th>F1-score</th>\n",
       "      <th>ROC-AUC</th>\n",
       "      <th>Presidion</th>\n",
       "      <th>Recall</th>\n",
       "      <th>Specificity</th>\n",
       "      <th>Best params</th>\n",
       "    </tr>\n",
       "  </thead>\n",
       "  <tbody>\n",
       "    <tr>\n",
       "      <th>0</th>\n",
       "      <td>LogisticRegression</td>\n",
       "      <td>0.799</td>\n",
       "      <td>0.875</td>\n",
       "      <td>0.746</td>\n",
       "      <td>0.801</td>\n",
       "      <td>0.964</td>\n",
       "      <td>0.353</td>\n",
       "      <td>{'C': 1, 'penalty': 'l2'}</td>\n",
       "    </tr>\n",
       "    <tr>\n",
       "      <th>1</th>\n",
       "      <td>RandomForest</td>\n",
       "      <td>0.783</td>\n",
       "      <td>0.867</td>\n",
       "      <td>0.713</td>\n",
       "      <td>0.784</td>\n",
       "      <td>0.971</td>\n",
       "      <td>0.275</td>\n",
       "      <td>{'max_depth': 10, 'n_estimators': 200}</td>\n",
       "    </tr>\n",
       "    <tr>\n",
       "      <th>2</th>\n",
       "      <td>GradientBoosting</td>\n",
       "      <td>0.762</td>\n",
       "      <td>0.852</td>\n",
       "      <td>0.728</td>\n",
       "      <td>0.778</td>\n",
       "      <td>0.942</td>\n",
       "      <td>0.275</td>\n",
       "      <td>{'learning_rate': 0.1, 'n_estimators': 100}</td>\n",
       "    </tr>\n",
       "    <tr>\n",
       "      <th>3</th>\n",
       "      <td>SVC</td>\n",
       "      <td>0.788</td>\n",
       "      <td>0.872</td>\n",
       "      <td>0.756</td>\n",
       "      <td>0.782</td>\n",
       "      <td>0.986</td>\n",
       "      <td>0.255</td>\n",
       "      <td>{'C': 1, 'kernel': 'rbf'}</td>\n",
       "    </tr>\n",
       "    <tr>\n",
       "      <th>4</th>\n",
       "      <td>CatBoost</td>\n",
       "      <td>0.783</td>\n",
       "      <td>0.866</td>\n",
       "      <td>0.718</td>\n",
       "      <td>0.787</td>\n",
       "      <td>0.964</td>\n",
       "      <td>0.294</td>\n",
       "      <td>{'learning_rate': 0.1, 'max_depth': 4, 'n_esti...</td>\n",
       "    </tr>\n",
       "  </tbody>\n",
       "</table>\n",
       "</div>"
      ],
      "text/plain": [
       "                model  Accuracy  F1-score  ROC-AUC  Presidion  Recall  \\\n",
       "0  LogisticRegression     0.799     0.875    0.746      0.801   0.964   \n",
       "1        RandomForest     0.783     0.867    0.713      0.784   0.971   \n",
       "2    GradientBoosting     0.762     0.852    0.728      0.778   0.942   \n",
       "3                 SVC     0.788     0.872    0.756      0.782   0.986   \n",
       "4            CatBoost     0.783     0.866    0.718      0.787   0.964   \n",
       "\n",
       "   Specificity                                        Best params  \n",
       "0        0.353                          {'C': 1, 'penalty': 'l2'}  \n",
       "1        0.275             {'max_depth': 10, 'n_estimators': 200}  \n",
       "2        0.275        {'learning_rate': 0.1, 'n_estimators': 100}  \n",
       "3        0.255                          {'C': 1, 'kernel': 'rbf'}  \n",
       "4        0.294  {'learning_rate': 0.1, 'max_depth': 4, 'n_esti...  "
      ]
     },
     "execution_count": 126,
     "metadata": {},
     "output_type": "execute_result"
    }
   ],
   "source": [
    "# все данные\n",
    "res_cdpd_full"
   ]
  },
  {
   "cell_type": "code",
   "execution_count": 97,
   "metadata": {},
   "outputs": [
    {
     "data": {
      "text/html": [
       "<div>\n",
       "<style scoped>\n",
       "    .dataframe tbody tr th:only-of-type {\n",
       "        vertical-align: middle;\n",
       "    }\n",
       "\n",
       "    .dataframe tbody tr th {\n",
       "        vertical-align: top;\n",
       "    }\n",
       "\n",
       "    .dataframe thead th {\n",
       "        text-align: right;\n",
       "    }\n",
       "</style>\n",
       "<table border=\"1\" class=\"dataframe\">\n",
       "  <thead>\n",
       "    <tr style=\"text-align: right;\">\n",
       "      <th></th>\n",
       "      <th>model</th>\n",
       "      <th>Accuracy</th>\n",
       "      <th>F1-score</th>\n",
       "      <th>ROC-AUC</th>\n",
       "      <th>Presidion</th>\n",
       "      <th>Recall</th>\n",
       "      <th>Specificity</th>\n",
       "      <th>Best params</th>\n",
       "    </tr>\n",
       "  </thead>\n",
       "  <tbody>\n",
       "    <tr>\n",
       "      <th>0</th>\n",
       "      <td>LogisticRegression</td>\n",
       "      <td>0.849</td>\n",
       "      <td>0.911</td>\n",
       "      <td>0.759</td>\n",
       "      <td>0.852</td>\n",
       "      <td>0.979</td>\n",
       "      <td>0.36</td>\n",
       "      <td>{'C': 1, 'penalty': 'l2'}</td>\n",
       "    </tr>\n",
       "    <tr>\n",
       "      <th>1</th>\n",
       "      <td>RandomForest</td>\n",
       "      <td>0.807</td>\n",
       "      <td>0.887</td>\n",
       "      <td>0.708</td>\n",
       "      <td>0.826</td>\n",
       "      <td>0.957</td>\n",
       "      <td>0.24</td>\n",
       "      <td>{'max_depth': None, 'n_estimators': 50}</td>\n",
       "    </tr>\n",
       "    <tr>\n",
       "      <th>2</th>\n",
       "      <td>GradientBoosting</td>\n",
       "      <td>0.832</td>\n",
       "      <td>0.900</td>\n",
       "      <td>0.779</td>\n",
       "      <td>0.849</td>\n",
       "      <td>0.957</td>\n",
       "      <td>0.36</td>\n",
       "      <td>{'learning_rate': 0.1, 'n_estimators': 50}</td>\n",
       "    </tr>\n",
       "    <tr>\n",
       "      <th>3</th>\n",
       "      <td>SVC</td>\n",
       "      <td>0.815</td>\n",
       "      <td>0.891</td>\n",
       "      <td>0.727</td>\n",
       "      <td>0.833</td>\n",
       "      <td>0.957</td>\n",
       "      <td>0.28</td>\n",
       "      <td>{'C': 1, 'kernel': 'rbf'}</td>\n",
       "    </tr>\n",
       "    <tr>\n",
       "      <th>4</th>\n",
       "      <td>CatBoost</td>\n",
       "      <td>0.782</td>\n",
       "      <td>0.867</td>\n",
       "      <td>0.711</td>\n",
       "      <td>0.833</td>\n",
       "      <td>0.904</td>\n",
       "      <td>0.32</td>\n",
       "      <td>{'learning_rate': 0.1, 'max_depth': 6, 'n_esti...</td>\n",
       "    </tr>\n",
       "  </tbody>\n",
       "</table>\n",
       "</div>"
      ],
      "text/plain": [
       "                model  Accuracy  F1-score  ROC-AUC  Presidion  Recall  \\\n",
       "0  LogisticRegression     0.849     0.911    0.759      0.852   0.979   \n",
       "1        RandomForest     0.807     0.887    0.708      0.826   0.957   \n",
       "2    GradientBoosting     0.832     0.900    0.779      0.849   0.957   \n",
       "3                 SVC     0.815     0.891    0.727      0.833   0.957   \n",
       "4            CatBoost     0.782     0.867    0.711      0.833   0.904   \n",
       "\n",
       "   Specificity                                        Best params  \n",
       "0         0.36                          {'C': 1, 'penalty': 'l2'}  \n",
       "1         0.24            {'max_depth': None, 'n_estimators': 50}  \n",
       "2         0.36         {'learning_rate': 0.1, 'n_estimators': 50}  \n",
       "3         0.28                          {'C': 1, 'kernel': 'rbf'}  \n",
       "4         0.32  {'learning_rate': 0.1, 'max_depth': 6, 'n_esti...  "
      ]
     },
     "execution_count": 97,
     "metadata": {},
     "output_type": "execute_result"
    }
   ],
   "source": [
    "# отобранные данные\n",
    "res_cdpd_full"
   ]
  },
  {
   "cell_type": "code",
   "execution_count": 90,
   "metadata": {},
   "outputs": [
    {
     "data": {
      "image/png": "[encoded data removed]",
      "text/plain": [
       "<Figure size 640x480 with 1 Axes>"
      ]
     },
     "metadata": {},
     "output_type": "display_data"
    }
   ],
   "source": [
    "show_matrix(matrixes_cdpd_full['LogisticRegression'])"
   ]
  },
  {
   "cell_type": "markdown",
   "metadata": {},
   "source": [
    "### cdpd + cda test"
   ]
  },
  {
   "cell_type": "code",
   "execution_count": null,
   "metadata": {},
   "outputs": [],
   "source": [
    "res_cdpd_cda_test, matrixes_cdpd_cda_test = train_val(models_config,  X_train_scaled, X_test_scaled_cdatest, y_train, y_test_cdatest)"
   ]
  },
  {
   "cell_type": "code",
   "execution_count": 128,
   "metadata": {},
   "outputs": [
    {
     "data": {
      "text/html": [
       "<div>\n",
       "<style scoped>\n",
       "    .dataframe tbody tr th:only-of-type {\n",
       "        vertical-align: middle;\n",
       "    }\n",
       "\n",
       "    .dataframe tbody tr th {\n",
       "        vertical-align: top;\n",
       "    }\n",
       "\n",
       "    .dataframe thead th {\n",
       "        text-align: right;\n",
       "    }\n",
       "</style>\n",
       "<table border=\"1\" class=\"dataframe\">\n",
       "  <thead>\n",
       "    <tr style=\"text-align: right;\">\n",
       "      <th></th>\n",
       "      <th>model</th>\n",
       "      <th>Accuracy</th>\n",
       "      <th>F1-score</th>\n",
       "      <th>ROC-AUC</th>\n",
       "      <th>Presidion</th>\n",
       "      <th>Recall</th>\n",
       "      <th>Specificity</th>\n",
       "      <th>Best params</th>\n",
       "    </tr>\n",
       "  </thead>\n",
       "  <tbody>\n",
       "    <tr>\n",
       "      <th>0</th>\n",
       "      <td>LogisticRegression</td>\n",
       "      <td>0.642</td>\n",
       "      <td>0.760</td>\n",
       "      <td>0.392</td>\n",
       "      <td>0.627</td>\n",
       "      <td>0.965</td>\n",
       "      <td>0.182</td>\n",
       "      <td>{'C': 1, 'penalty': 'l2'}</td>\n",
       "    </tr>\n",
       "    <tr>\n",
       "      <th>1</th>\n",
       "      <td>RandomForest</td>\n",
       "      <td>0.629</td>\n",
       "      <td>0.755</td>\n",
       "      <td>0.747</td>\n",
       "      <td>0.617</td>\n",
       "      <td>0.972</td>\n",
       "      <td>0.141</td>\n",
       "      <td>{'max_depth': 10, 'n_estimators': 200}</td>\n",
       "    </tr>\n",
       "    <tr>\n",
       "      <th>2</th>\n",
       "      <td>GradientBoosting</td>\n",
       "      <td>0.613</td>\n",
       "      <td>0.741</td>\n",
       "      <td>0.462</td>\n",
       "      <td>0.610</td>\n",
       "      <td>0.943</td>\n",
       "      <td>0.141</td>\n",
       "      <td>{'learning_rate': 0.1, 'n_estimators': 100}</td>\n",
       "    </tr>\n",
       "    <tr>\n",
       "      <th>3</th>\n",
       "      <td>SVC</td>\n",
       "      <td>0.633</td>\n",
       "      <td>0.760</td>\n",
       "      <td>0.831</td>\n",
       "      <td>0.618</td>\n",
       "      <td>0.986</td>\n",
       "      <td>0.131</td>\n",
       "      <td>{'C': 1, 'kernel': 'rbf'}</td>\n",
       "    </tr>\n",
       "    <tr>\n",
       "      <th>4</th>\n",
       "      <td>CatBoost</td>\n",
       "      <td>0.629</td>\n",
       "      <td>0.753</td>\n",
       "      <td>0.484</td>\n",
       "      <td>0.618</td>\n",
       "      <td>0.965</td>\n",
       "      <td>0.152</td>\n",
       "      <td>{'learning_rate': 0.1, 'max_depth': 4, 'n_esti...</td>\n",
       "    </tr>\n",
       "  </tbody>\n",
       "</table>\n",
       "</div>"
      ],
      "text/plain": [
       "                model  Accuracy  F1-score  ROC-AUC  Presidion  Recall  \\\n",
       "0  LogisticRegression     0.642     0.760    0.392      0.627   0.965   \n",
       "1        RandomForest     0.629     0.755    0.747      0.617   0.972   \n",
       "2    GradientBoosting     0.613     0.741    0.462      0.610   0.943   \n",
       "3                 SVC     0.633     0.760    0.831      0.618   0.986   \n",
       "4            CatBoost     0.629     0.753    0.484      0.618   0.965   \n",
       "\n",
       "   Specificity                                        Best params  \n",
       "0        0.182                          {'C': 1, 'penalty': 'l2'}  \n",
       "1        0.141             {'max_depth': 10, 'n_estimators': 200}  \n",
       "2        0.141        {'learning_rate': 0.1, 'n_estimators': 100}  \n",
       "3        0.131                          {'C': 1, 'kernel': 'rbf'}  \n",
       "4        0.152  {'learning_rate': 0.1, 'max_depth': 4, 'n_esti...  "
      ]
     },
     "execution_count": 128,
     "metadata": {},
     "output_type": "execute_result"
    }
   ],
   "source": [
    "# все данные\n",
    "res_cdpd_cda_test"
   ]
  },
  {
   "cell_type": "code",
   "execution_count": 99,
   "metadata": {},
   "outputs": [
    {
     "data": {
      "text/html": [
       "<div>\n",
       "<style scoped>\n",
       "    .dataframe tbody tr th:only-of-type {\n",
       "        vertical-align: middle;\n",
       "    }\n",
       "\n",
       "    .dataframe tbody tr th {\n",
       "        vertical-align: top;\n",
       "    }\n",
       "\n",
       "    .dataframe thead th {\n",
       "        text-align: right;\n",
       "    }\n",
       "</style>\n",
       "<table border=\"1\" class=\"dataframe\">\n",
       "  <thead>\n",
       "    <tr style=\"text-align: right;\">\n",
       "      <th></th>\n",
       "      <th>model</th>\n",
       "      <th>Accuracy</th>\n",
       "      <th>F1-score</th>\n",
       "      <th>ROC-AUC</th>\n",
       "      <th>Presidion</th>\n",
       "      <th>Recall</th>\n",
       "      <th>Specificity</th>\n",
       "      <th>Best params</th>\n",
       "    </tr>\n",
       "  </thead>\n",
       "  <tbody>\n",
       "    <tr>\n",
       "      <th>0</th>\n",
       "      <td>LogisticRegression</td>\n",
       "      <td>0.618</td>\n",
       "      <td>0.745</td>\n",
       "      <td>0.568</td>\n",
       "      <td>0.601</td>\n",
       "      <td>0.979</td>\n",
       "      <td>0.137</td>\n",
       "      <td>{'C': 1, 'penalty': 'l2'}</td>\n",
       "    </tr>\n",
       "    <tr>\n",
       "      <th>1</th>\n",
       "      <td>RandomForest</td>\n",
       "      <td>0.629</td>\n",
       "      <td>0.745</td>\n",
       "      <td>0.838</td>\n",
       "      <td>0.613</td>\n",
       "      <td>0.948</td>\n",
       "      <td>0.205</td>\n",
       "      <td>{'max_depth': None, 'n_estimators': 50}</td>\n",
       "    </tr>\n",
       "    <tr>\n",
       "      <th>2</th>\n",
       "      <td>GradientBoosting</td>\n",
       "      <td>0.600</td>\n",
       "      <td>0.732</td>\n",
       "      <td>0.797</td>\n",
       "      <td>0.592</td>\n",
       "      <td>0.959</td>\n",
       "      <td>0.123</td>\n",
       "      <td>{'learning_rate': 0.1, 'n_estimators': 50}</td>\n",
       "    </tr>\n",
       "    <tr>\n",
       "      <th>3</th>\n",
       "      <td>SVC</td>\n",
       "      <td>0.588</td>\n",
       "      <td>0.727</td>\n",
       "      <td>0.768</td>\n",
       "      <td>0.585</td>\n",
       "      <td>0.959</td>\n",
       "      <td>0.096</td>\n",
       "      <td>{'C': 1, 'kernel': 'rbf'}</td>\n",
       "    </tr>\n",
       "    <tr>\n",
       "      <th>4</th>\n",
       "      <td>CatBoost</td>\n",
       "      <td>0.571</td>\n",
       "      <td>0.707</td>\n",
       "      <td>0.770</td>\n",
       "      <td>0.579</td>\n",
       "      <td>0.907</td>\n",
       "      <td>0.123</td>\n",
       "      <td>{'learning_rate': 0.1, 'max_depth': 6, 'n_esti...</td>\n",
       "    </tr>\n",
       "  </tbody>\n",
       "</table>\n",
       "</div>"
      ],
      "text/plain": [
       "                model  Accuracy  F1-score  ROC-AUC  Presidion  Recall  \\\n",
       "0  LogisticRegression     0.618     0.745    0.568      0.601   0.979   \n",
       "1        RandomForest     0.629     0.745    0.838      0.613   0.948   \n",
       "2    GradientBoosting     0.600     0.732    0.797      0.592   0.959   \n",
       "3                 SVC     0.588     0.727    0.768      0.585   0.959   \n",
       "4            CatBoost     0.571     0.707    0.770      0.579   0.907   \n",
       "\n",
       "   Specificity                                        Best params  \n",
       "0        0.137                          {'C': 1, 'penalty': 'l2'}  \n",
       "1        0.205            {'max_depth': None, 'n_estimators': 50}  \n",
       "2        0.123         {'learning_rate': 0.1, 'n_estimators': 50}  \n",
       "3        0.096                          {'C': 1, 'kernel': 'rbf'}  \n",
       "4        0.123  {'learning_rate': 0.1, 'max_depth': 6, 'n_esti...  "
      ]
     },
     "execution_count": 99,
     "metadata": {},
     "output_type": "execute_result"
    }
   ],
   "source": [
    "# отобранные данные\n",
    "res_cdpd_cda_test"
   ]
  },
  {
   "cell_type": "markdown",
   "metadata": {},
   "source": [
    "### cdpd cda full"
   ]
  },
  {
   "cell_type": "code",
   "execution_count": null,
   "metadata": {},
   "outputs": [],
   "source": [
    "res_cdpd_cda, matrixes_cdpd_cda = train_val(models_config, X_train_scaled_cdpd_cda, \n",
    "                                    X_test_scaled_cdpd_cda, y_train_cdpd_cda, y_test_cdpd_cda, experiment='cdpd_cda') "
   ]
  },
  {
   "cell_type": "code",
   "execution_count": 130,
   "metadata": {},
   "outputs": [
    {
     "data": {
      "text/html": [
       "<div>\n",
       "<style scoped>\n",
       "    .dataframe tbody tr th:only-of-type {\n",
       "        vertical-align: middle;\n",
       "    }\n",
       "\n",
       "    .dataframe tbody tr th {\n",
       "        vertical-align: top;\n",
       "    }\n",
       "\n",
       "    .dataframe thead th {\n",
       "        text-align: right;\n",
       "    }\n",
       "</style>\n",
       "<table border=\"1\" class=\"dataframe\">\n",
       "  <thead>\n",
       "    <tr style=\"text-align: right;\">\n",
       "      <th></th>\n",
       "      <th>model</th>\n",
       "      <th>Accuracy</th>\n",
       "      <th>F1-score</th>\n",
       "      <th>ROC-AUC</th>\n",
       "      <th>Presidion</th>\n",
       "      <th>Recall</th>\n",
       "      <th>Specificity</th>\n",
       "      <th>Best params</th>\n",
       "    </tr>\n",
       "  </thead>\n",
       "  <tbody>\n",
       "    <tr>\n",
       "      <th>0</th>\n",
       "      <td>LogisticRegression</td>\n",
       "      <td>0.790</td>\n",
       "      <td>0.863</td>\n",
       "      <td>0.780</td>\n",
       "      <td>0.786</td>\n",
       "      <td>0.957</td>\n",
       "      <td>0.419</td>\n",
       "      <td>{'C': 10, 'penalty': 'l2'}</td>\n",
       "    </tr>\n",
       "    <tr>\n",
       "      <th>1</th>\n",
       "      <td>RandomForest</td>\n",
       "      <td>0.790</td>\n",
       "      <td>0.864</td>\n",
       "      <td>0.763</td>\n",
       "      <td>0.782</td>\n",
       "      <td>0.964</td>\n",
       "      <td>0.403</td>\n",
       "      <td>{'max_depth': 10, 'n_estimators': 100}</td>\n",
       "    </tr>\n",
       "    <tr>\n",
       "      <th>2</th>\n",
       "      <td>GradientBoosting</td>\n",
       "      <td>0.765</td>\n",
       "      <td>0.845</td>\n",
       "      <td>0.725</td>\n",
       "      <td>0.776</td>\n",
       "      <td>0.928</td>\n",
       "      <td>0.403</td>\n",
       "      <td>{'learning_rate': 1, 'n_estimators': 200}</td>\n",
       "    </tr>\n",
       "    <tr>\n",
       "      <th>3</th>\n",
       "      <td>SVC</td>\n",
       "      <td>0.785</td>\n",
       "      <td>0.863</td>\n",
       "      <td>0.806</td>\n",
       "      <td>0.771</td>\n",
       "      <td>0.978</td>\n",
       "      <td>0.355</td>\n",
       "      <td>{'C': 1, 'kernel': 'rbf'}</td>\n",
       "    </tr>\n",
       "    <tr>\n",
       "      <th>4</th>\n",
       "      <td>CatBoost</td>\n",
       "      <td>0.800</td>\n",
       "      <td>0.872</td>\n",
       "      <td>0.780</td>\n",
       "      <td>0.782</td>\n",
       "      <td>0.986</td>\n",
       "      <td>0.387</td>\n",
       "      <td>{'learning_rate': 0.01, 'max_depth': 6, 'n_est...</td>\n",
       "    </tr>\n",
       "  </tbody>\n",
       "</table>\n",
       "</div>"
      ],
      "text/plain": [
       "                model  Accuracy  F1-score  ROC-AUC  Presidion  Recall  \\\n",
       "0  LogisticRegression     0.790     0.863    0.780      0.786   0.957   \n",
       "1        RandomForest     0.790     0.864    0.763      0.782   0.964   \n",
       "2    GradientBoosting     0.765     0.845    0.725      0.776   0.928   \n",
       "3                 SVC     0.785     0.863    0.806      0.771   0.978   \n",
       "4            CatBoost     0.800     0.872    0.780      0.782   0.986   \n",
       "\n",
       "   Specificity                                        Best params  \n",
       "0        0.419                         {'C': 10, 'penalty': 'l2'}  \n",
       "1        0.403             {'max_depth': 10, 'n_estimators': 100}  \n",
       "2        0.403          {'learning_rate': 1, 'n_estimators': 200}  \n",
       "3        0.355                          {'C': 1, 'kernel': 'rbf'}  \n",
       "4        0.387  {'learning_rate': 0.01, 'max_depth': 6, 'n_est...  "
      ]
     },
     "execution_count": 130,
     "metadata": {},
     "output_type": "execute_result"
    }
   ],
   "source": [
    "# все данные\n",
    "res_cdpd_cda"
   ]
  },
  {
   "cell_type": "code",
   "execution_count": 153,
   "metadata": {},
   "outputs": [
    {
     "data": {
      "text/html": [
       "<div>\n",
       "<style scoped>\n",
       "    .dataframe tbody tr th:only-of-type {\n",
       "        vertical-align: middle;\n",
       "    }\n",
       "\n",
       "    .dataframe tbody tr th {\n",
       "        vertical-align: top;\n",
       "    }\n",
       "\n",
       "    .dataframe thead th {\n",
       "        text-align: right;\n",
       "    }\n",
       "</style>\n",
       "<table border=\"1\" class=\"dataframe\">\n",
       "  <thead>\n",
       "    <tr style=\"text-align: right;\">\n",
       "      <th></th>\n",
       "      <th>model</th>\n",
       "      <th>Accuracy</th>\n",
       "      <th>F1-score</th>\n",
       "      <th>ROC-AUC</th>\n",
       "      <th>Presidion</th>\n",
       "      <th>Recall</th>\n",
       "      <th>Specificity</th>\n",
       "      <th>Best params</th>\n",
       "    </tr>\n",
       "  </thead>\n",
       "  <tbody>\n",
       "    <tr>\n",
       "      <th>0</th>\n",
       "      <td>LogisticRegression</td>\n",
       "      <td>0.831</td>\n",
       "      <td>0.892</td>\n",
       "      <td>0.819</td>\n",
       "      <td>0.827</td>\n",
       "      <td>0.968</td>\n",
       "      <td>0.472</td>\n",
       "      <td>{'C': 0.1, 'penalty': 'l2'}</td>\n",
       "    </tr>\n",
       "    <tr>\n",
       "      <th>1</th>\n",
       "      <td>RandomForest</td>\n",
       "      <td>0.831</td>\n",
       "      <td>0.894</td>\n",
       "      <td>0.834</td>\n",
       "      <td>0.816</td>\n",
       "      <td>0.989</td>\n",
       "      <td>0.417</td>\n",
       "      <td>{'max_depth': 5, 'n_estimators': 200}</td>\n",
       "    </tr>\n",
       "    <tr>\n",
       "      <th>2</th>\n",
       "      <td>GradientBoosting</td>\n",
       "      <td>0.838</td>\n",
       "      <td>0.893</td>\n",
       "      <td>0.823</td>\n",
       "      <td>0.854</td>\n",
       "      <td>0.936</td>\n",
       "      <td>0.583</td>\n",
       "      <td>{'learning_rate': 0.1, 'n_estimators': 100}</td>\n",
       "    </tr>\n",
       "    <tr>\n",
       "      <th>3</th>\n",
       "      <td>SVC</td>\n",
       "      <td>0.808</td>\n",
       "      <td>0.877</td>\n",
       "      <td>0.818</td>\n",
       "      <td>0.817</td>\n",
       "      <td>0.947</td>\n",
       "      <td>0.444</td>\n",
       "      <td>{'C': 1, 'kernel': 'rbf'}</td>\n",
       "    </tr>\n",
       "    <tr>\n",
       "      <th>4</th>\n",
       "      <td>CatBoost</td>\n",
       "      <td>0.808</td>\n",
       "      <td>0.874</td>\n",
       "      <td>0.806</td>\n",
       "      <td>0.829</td>\n",
       "      <td>0.926</td>\n",
       "      <td>0.500</td>\n",
       "      <td>{'learning_rate': 0.1, 'max_depth': 6, 'n_esti...</td>\n",
       "    </tr>\n",
       "  </tbody>\n",
       "</table>\n",
       "</div>"
      ],
      "text/plain": [
       "                model  Accuracy  F1-score  ROC-AUC  Presidion  Recall  \\\n",
       "0  LogisticRegression     0.831     0.892    0.819      0.827   0.968   \n",
       "1        RandomForest     0.831     0.894    0.834      0.816   0.989   \n",
       "2    GradientBoosting     0.838     0.893    0.823      0.854   0.936   \n",
       "3                 SVC     0.808     0.877    0.818      0.817   0.947   \n",
       "4            CatBoost     0.808     0.874    0.806      0.829   0.926   \n",
       "\n",
       "   Specificity                                        Best params  \n",
       "0        0.472                        {'C': 0.1, 'penalty': 'l2'}  \n",
       "1        0.417              {'max_depth': 5, 'n_estimators': 200}  \n",
       "2        0.583        {'learning_rate': 0.1, 'n_estimators': 100}  \n",
       "3        0.444                          {'C': 1, 'kernel': 'rbf'}  \n",
       "4        0.500  {'learning_rate': 0.1, 'max_depth': 6, 'n_esti...  "
      ]
     },
     "execution_count": 153,
     "metadata": {},
     "output_type": "execute_result"
    }
   ],
   "source": [
    "# отобранные данные\n",
    "res_cdpd_cda"
   ]
  },
  {
   "cell_type": "code",
   "execution_count": 36,
   "metadata": {},
   "outputs": [
    {
     "data": {
      "text/html": [
       "<div>\n",
       "<style scoped>\n",
       "    .dataframe tbody tr th:only-of-type {\n",
       "        vertical-align: middle;\n",
       "    }\n",
       "\n",
       "    .dataframe tbody tr th {\n",
       "        vertical-align: top;\n",
       "    }\n",
       "\n",
       "    .dataframe thead th {\n",
       "        text-align: right;\n",
       "    }\n",
       "</style>\n",
       "<table border=\"1\" class=\"dataframe\">\n",
       "  <thead>\n",
       "    <tr style=\"text-align: right;\">\n",
       "      <th></th>\n",
       "      <th>model</th>\n",
       "      <th>Accuracy</th>\n",
       "      <th>F1-score</th>\n",
       "      <th>ROC-AUC</th>\n",
       "      <th>Presidion</th>\n",
       "      <th>Recall</th>\n",
       "      <th>Specificity</th>\n",
       "      <th>Best params</th>\n",
       "    </tr>\n",
       "  </thead>\n",
       "  <tbody>\n",
       "    <tr>\n",
       "      <th>0</th>\n",
       "      <td>LogisticRegression</td>\n",
       "      <td>0.831</td>\n",
       "      <td>0.892</td>\n",
       "      <td>0.819</td>\n",
       "      <td>0.827</td>\n",
       "      <td>0.968</td>\n",
       "      <td>0.472</td>\n",
       "      <td>{'C': 0.1, 'penalty': 'l2'}</td>\n",
       "    </tr>\n",
       "    <tr>\n",
       "      <th>1</th>\n",
       "      <td>RandomForest</td>\n",
       "      <td>0.823</td>\n",
       "      <td>0.887</td>\n",
       "      <td>0.824</td>\n",
       "      <td>0.826</td>\n",
       "      <td>0.957</td>\n",
       "      <td>0.472</td>\n",
       "      <td>{'max_depth': 10, 'n_estimators': 50}</td>\n",
       "    </tr>\n",
       "    <tr>\n",
       "      <th>2</th>\n",
       "      <td>GradientBoosting</td>\n",
       "      <td>0.846</td>\n",
       "      <td>0.899</td>\n",
       "      <td>0.831</td>\n",
       "      <td>0.856</td>\n",
       "      <td>0.947</td>\n",
       "      <td>0.583</td>\n",
       "      <td>{'learning_rate': 0.1, 'n_estimators': 50}</td>\n",
       "    </tr>\n",
       "    <tr>\n",
       "      <th>3</th>\n",
       "      <td>AdaBoost</td>\n",
       "      <td>0.862</td>\n",
       "      <td>0.910</td>\n",
       "      <td>0.832</td>\n",
       "      <td>0.858</td>\n",
       "      <td>0.968</td>\n",
       "      <td>0.583</td>\n",
       "      <td>{'algorithm': 'SAMME', 'learning_rate': 1.0, '...</td>\n",
       "    </tr>\n",
       "    <tr>\n",
       "      <th>4</th>\n",
       "      <td>SVC</td>\n",
       "      <td>0.808</td>\n",
       "      <td>0.877</td>\n",
       "      <td>0.818</td>\n",
       "      <td>0.817</td>\n",
       "      <td>0.947</td>\n",
       "      <td>0.444</td>\n",
       "      <td>{'C': 1, 'kernel': 'rbf'}</td>\n",
       "    </tr>\n",
       "    <tr>\n",
       "      <th>5</th>\n",
       "      <td>CatBoost</td>\n",
       "      <td>0.823</td>\n",
       "      <td>0.884</td>\n",
       "      <td>0.819</td>\n",
       "      <td>0.838</td>\n",
       "      <td>0.936</td>\n",
       "      <td>0.528</td>\n",
       "      <td>{'learning_rate': 0.1, 'max_depth': 4, 'n_esti...</td>\n",
       "    </tr>\n",
       "  </tbody>\n",
       "</table>\n",
       "</div>"
      ],
      "text/plain": [
       "                model  Accuracy  F1-score  ROC-AUC  Presidion  Recall  \\\n",
       "0  LogisticRegression     0.831     0.892    0.819      0.827   0.968   \n",
       "1        RandomForest     0.823     0.887    0.824      0.826   0.957   \n",
       "2    GradientBoosting     0.846     0.899    0.831      0.856   0.947   \n",
       "3            AdaBoost     0.862     0.910    0.832      0.858   0.968   \n",
       "4                 SVC     0.808     0.877    0.818      0.817   0.947   \n",
       "5            CatBoost     0.823     0.884    0.819      0.838   0.936   \n",
       "\n",
       "   Specificity                                        Best params  \n",
       "0        0.472                        {'C': 0.1, 'penalty': 'l2'}  \n",
       "1        0.472              {'max_depth': 10, 'n_estimators': 50}  \n",
       "2        0.583         {'learning_rate': 0.1, 'n_estimators': 50}  \n",
       "3        0.583  {'algorithm': 'SAMME', 'learning_rate': 1.0, '...  \n",
       "4        0.444                          {'C': 1, 'kernel': 'rbf'}  \n",
       "5        0.528  {'learning_rate': 0.1, 'max_depth': 4, 'n_esti...  "
      ]
     },
     "execution_count": 36,
     "metadata": {},
     "output_type": "execute_result"
    }
   ],
   "source": [
    "# с адабустом и без фиксированного рандома\n",
    "res_cdpd_cda"
   ]
  },
  {
   "cell_type": "code",
   "execution_count": 158,
   "metadata": {},
   "outputs": [],
   "source": [
    "res_cdpd_cda.to_excel('results_binary.xlsx')"
   ]
  },
  {
   "cell_type": "code",
   "execution_count": null,
   "metadata": {},
   "outputs": [],
   "source": [
    "RandomForest+++, GradientBoosting+++"
   ]
  },
  {
   "cell_type": "code",
   "execution_count": 154,
   "metadata": {},
   "outputs": [
    {
     "data": {
      "image/png": "[encoded data removed]",
      "text/plain": [
       "<Figure size 640x480 with 1 Axes>"
      ]
     },
     "metadata": {},
     "output_type": "display_data"
    }
   ],
   "source": [
    "show_matrix(matrixes_cdpd_cda['LogisticRegression'])"
   ]
  },
  {
   "cell_type": "markdown",
   "metadata": {},
   "source": [
    "### "
   ]
  }
 ],
 "metadata": {
  "kernelspec": {
   "display_name": "Python 3",
   "language": "python",
   "name": "python3"
  },
  "language_info": {
   "codemirror_mode": {
    "name": "ipython",
    "version": 3
   },
   "file_extension": ".py",
   "mimetype": "text/x-python",
   "name": "python",
   "nbconvert_exporter": "python",
   "pygments_lexer": "ipython3",
   "version": "3.11.8"
  }
 },
 "nbformat": 4,
 "nbformat_minor": 2
}
