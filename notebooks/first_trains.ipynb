{
 "cells": [
  {
   "cell_type": "code",
   "execution_count": null,
   "metadata": {},
   "outputs": [],
   "source": [
    "%pip uninstall librosa\n",
    "%pip install librosa==0.9.2"
   ]
  },
  {
   "cell_type": "code",
   "execution_count": null,
   "metadata": {},
   "outputs": [],
   "source": [
    "%pip install pydub"
   ]
  },
  {
   "cell_type": "code",
   "execution_count": 57,
   "metadata": {},
   "outputs": [],
   "source": [
    "import librosa\n",
    "import numpy as np\n",
    "from pydub import AudioSegment\n",
    "import os\n",
    "from sklearn.model_selection import train_test_split\n",
    "from sklearn.linear_model import LogisticRegression\n",
    "from sklearn.ensemble import RandomForestClassifier, GradientBoostingClassifier\n",
    "from sklearn.svm import SVC\n",
    "from sklearn.metrics import accuracy_score, f1_score, roc_auc_score\n",
    "from sklearn.preprocessing import StandardScaler\n",
    "from sklearn.model_selection import GridSearchCV"
   ]
  },
  {
   "cell_type": "markdown",
   "metadata": {},
   "source": [
    "## load cdpd"
   ]
  },
  {
   "cell_type": "code",
   "execution_count": 17,
   "metadata": {},
   "outputs": [],
   "source": [
    "df = pd.read_csv('../data/CDPD/training_data.csv') "
   ]
  },
  {
   "cell_type": "code",
   "execution_count": 18,
   "metadata": {},
   "outputs": [
    {
     "data": {
      "text/plain": [
       "942"
      ]
     },
     "execution_count": 18,
     "metadata": {},
     "output_type": "execute_result"
    }
   ],
   "source": [
    "len(df)"
   ]
  },
  {
   "cell_type": "code",
   "execution_count": 19,
   "metadata": {},
   "outputs": [],
   "source": [
    "df = df[df['Locations'].isin(['AV+PV+TV+MV', 'AV+PV+MV', 'AV+AV+PV+PV+TV+MV', 'AV+MV+MV', \n",
    "                                        'AV+PV+MV+Phc+Phc', 'AV+PV+TV+TV+MV', 'AV+AV+MV+MV', 'AV+AV+PV+TV+MV', 'AV+PV+TV+MV+Phc', 'AV+AV+AV+MV', 'AV+AV+PV+TV+MV+MV', ])&(df['Murmur']!='Unknown')]"
   ]
  },
  {
   "cell_type": "code",
   "execution_count": 20,
   "metadata": {},
   "outputs": [
    {
     "data": {
      "text/plain": [
       "595"
      ]
     },
     "execution_count": 20,
     "metadata": {},
     "output_type": "execute_result"
    }
   ],
   "source": [
    "len(df)"
   ]
  },
  {
   "cell_type": "code",
   "execution_count": 34,
   "metadata": {},
   "outputs": [
    {
     "data": {
      "text/html": [
       "<div>\n",
       "<style scoped>\n",
       "    .dataframe tbody tr th:only-of-type {\n",
       "        vertical-align: middle;\n",
       "    }\n",
       "\n",
       "    .dataframe tbody tr th {\n",
       "        vertical-align: top;\n",
       "    }\n",
       "\n",
       "    .dataframe thead th {\n",
       "        text-align: right;\n",
       "    }\n",
       "</style>\n",
       "<table border=\"1\" class=\"dataframe\">\n",
       "  <thead>\n",
       "    <tr style=\"text-align: right;\">\n",
       "      <th></th>\n",
       "      <th>Patient ID</th>\n",
       "      <th>Locations</th>\n",
       "      <th>Age</th>\n",
       "      <th>Sex</th>\n",
       "      <th>Height</th>\n",
       "      <th>Weight</th>\n",
       "      <th>Pregnancy status</th>\n",
       "      <th>Murmur</th>\n",
       "      <th>Murmur locations</th>\n",
       "      <th>Most audible location</th>\n",
       "      <th>...</th>\n",
       "      <th>Systolic murmur grading</th>\n",
       "      <th>Systolic murmur pitch</th>\n",
       "      <th>Systolic murmur quality</th>\n",
       "      <th>Diastolic murmur timing</th>\n",
       "      <th>Diastolic murmur shape</th>\n",
       "      <th>Diastolic murmur grading</th>\n",
       "      <th>Diastolic murmur pitch</th>\n",
       "      <th>Diastolic murmur quality</th>\n",
       "      <th>Campaign</th>\n",
       "      <th>Additional ID</th>\n",
       "    </tr>\n",
       "  </thead>\n",
       "  <tbody>\n",
       "  </tbody>\n",
       "</table>\n",
       "<p>0 rows × 22 columns</p>\n",
       "</div>"
      ],
      "text/plain": [
       "Empty DataFrame\n",
       "Columns: [Patient ID, Locations, Age, Sex, Height, Weight, Pregnancy status, Murmur, Murmur locations, Most audible location, Systolic murmur timing, Systolic murmur shape, Systolic murmur grading, Systolic murmur pitch, Systolic murmur quality, Diastolic murmur timing, Diastolic murmur shape, Diastolic murmur grading, Diastolic murmur pitch, Diastolic murmur quality, Campaign, Additional ID]\n",
       "Index: []\n",
       "\n",
       "[0 rows x 22 columns]"
      ]
     },
     "execution_count": 34,
     "metadata": {},
     "output_type": "execute_result"
    }
   ],
   "source": [
    "df[df['Patient ID'].isna()]"
   ]
  },
  {
   "cell_type": "code",
   "execution_count": 21,
   "metadata": {},
   "outputs": [
    {
     "data": {
      "text/html": [
       "<div>\n",
       "<style scoped>\n",
       "    .dataframe tbody tr th:only-of-type {\n",
       "        vertical-align: middle;\n",
       "    }\n",
       "\n",
       "    .dataframe tbody tr th {\n",
       "        vertical-align: top;\n",
       "    }\n",
       "\n",
       "    .dataframe thead th {\n",
       "        text-align: right;\n",
       "    }\n",
       "</style>\n",
       "<table border=\"1\" class=\"dataframe\">\n",
       "  <thead>\n",
       "    <tr style=\"text-align: right;\">\n",
       "      <th></th>\n",
       "      <th>Patient ID</th>\n",
       "      <th>Locations</th>\n",
       "      <th>Age</th>\n",
       "      <th>Sex</th>\n",
       "      <th>Height</th>\n",
       "      <th>Weight</th>\n",
       "      <th>Pregnancy status</th>\n",
       "      <th>Murmur</th>\n",
       "      <th>Murmur locations</th>\n",
       "      <th>Most audible location</th>\n",
       "      <th>...</th>\n",
       "      <th>Systolic murmur grading</th>\n",
       "      <th>Systolic murmur pitch</th>\n",
       "      <th>Systolic murmur quality</th>\n",
       "      <th>Diastolic murmur timing</th>\n",
       "      <th>Diastolic murmur shape</th>\n",
       "      <th>Diastolic murmur grading</th>\n",
       "      <th>Diastolic murmur pitch</th>\n",
       "      <th>Diastolic murmur quality</th>\n",
       "      <th>Campaign</th>\n",
       "      <th>Additional ID</th>\n",
       "    </tr>\n",
       "  </thead>\n",
       "  <tbody>\n",
       "    <tr>\n",
       "      <th>0</th>\n",
       "      <td>2530</td>\n",
       "      <td>AV+PV+TV+MV</td>\n",
       "      <td>Child</td>\n",
       "      <td>Female</td>\n",
       "      <td>98.0</td>\n",
       "      <td>15.9</td>\n",
       "      <td>False</td>\n",
       "      <td>Absent</td>\n",
       "      <td>NaN</td>\n",
       "      <td>NaN</td>\n",
       "      <td>...</td>\n",
       "      <td>NaN</td>\n",
       "      <td>NaN</td>\n",
       "      <td>NaN</td>\n",
       "      <td>NaN</td>\n",
       "      <td>NaN</td>\n",
       "      <td>NaN</td>\n",
       "      <td>NaN</td>\n",
       "      <td>NaN</td>\n",
       "      <td>CC2015</td>\n",
       "      <td>NaN</td>\n",
       "    </tr>\n",
       "    <tr>\n",
       "      <th>1</th>\n",
       "      <td>9979</td>\n",
       "      <td>AV+PV+TV+MV</td>\n",
       "      <td>Child</td>\n",
       "      <td>Female</td>\n",
       "      <td>103.0</td>\n",
       "      <td>13.1</td>\n",
       "      <td>False</td>\n",
       "      <td>Present</td>\n",
       "      <td>AV+MV+PV+TV</td>\n",
       "      <td>TV</td>\n",
       "      <td>...</td>\n",
       "      <td>III/VI</td>\n",
       "      <td>High</td>\n",
       "      <td>Harsh</td>\n",
       "      <td>NaN</td>\n",
       "      <td>NaN</td>\n",
       "      <td>NaN</td>\n",
       "      <td>NaN</td>\n",
       "      <td>NaN</td>\n",
       "      <td>CC2015</td>\n",
       "      <td>NaN</td>\n",
       "    </tr>\n",
       "    <tr>\n",
       "      <th>3</th>\n",
       "      <td>13918</td>\n",
       "      <td>AV+PV+TV+MV</td>\n",
       "      <td>Child</td>\n",
       "      <td>Male</td>\n",
       "      <td>98.0</td>\n",
       "      <td>15.9</td>\n",
       "      <td>False</td>\n",
       "      <td>Present</td>\n",
       "      <td>TV</td>\n",
       "      <td>TV</td>\n",
       "      <td>...</td>\n",
       "      <td>I/VI</td>\n",
       "      <td>Low</td>\n",
       "      <td>Blowing</td>\n",
       "      <td>NaN</td>\n",
       "      <td>NaN</td>\n",
       "      <td>NaN</td>\n",
       "      <td>NaN</td>\n",
       "      <td>NaN</td>\n",
       "      <td>CC2015</td>\n",
       "      <td>NaN</td>\n",
       "    </tr>\n",
       "    <tr>\n",
       "      <th>4</th>\n",
       "      <td>14241</td>\n",
       "      <td>AV+PV+TV+MV</td>\n",
       "      <td>Child</td>\n",
       "      <td>Male</td>\n",
       "      <td>87.0</td>\n",
       "      <td>11.2</td>\n",
       "      <td>False</td>\n",
       "      <td>Present</td>\n",
       "      <td>AV+MV+PV+TV</td>\n",
       "      <td>PV</td>\n",
       "      <td>...</td>\n",
       "      <td>II/VI</td>\n",
       "      <td>Low</td>\n",
       "      <td>Harsh</td>\n",
       "      <td>NaN</td>\n",
       "      <td>NaN</td>\n",
       "      <td>NaN</td>\n",
       "      <td>NaN</td>\n",
       "      <td>NaN</td>\n",
       "      <td>CC2015</td>\n",
       "      <td>NaN</td>\n",
       "    </tr>\n",
       "    <tr>\n",
       "      <th>5</th>\n",
       "      <td>14998</td>\n",
       "      <td>AV+PV+TV+MV</td>\n",
       "      <td>Child</td>\n",
       "      <td>Male</td>\n",
       "      <td>NaN</td>\n",
       "      <td>NaN</td>\n",
       "      <td>False</td>\n",
       "      <td>Absent</td>\n",
       "      <td>NaN</td>\n",
       "      <td>NaN</td>\n",
       "      <td>...</td>\n",
       "      <td>NaN</td>\n",
       "      <td>NaN</td>\n",
       "      <td>NaN</td>\n",
       "      <td>NaN</td>\n",
       "      <td>NaN</td>\n",
       "      <td>NaN</td>\n",
       "      <td>NaN</td>\n",
       "      <td>NaN</td>\n",
       "      <td>CC2015</td>\n",
       "      <td>NaN</td>\n",
       "    </tr>\n",
       "  </tbody>\n",
       "</table>\n",
       "<p>5 rows × 22 columns</p>\n",
       "</div>"
      ],
      "text/plain": [
       "   Patient ID    Locations    Age     Sex  Height  Weight  Pregnancy status  \\\n",
       "0        2530  AV+PV+TV+MV  Child  Female    98.0    15.9             False   \n",
       "1        9979  AV+PV+TV+MV  Child  Female   103.0    13.1             False   \n",
       "3       13918  AV+PV+TV+MV  Child    Male    98.0    15.9             False   \n",
       "4       14241  AV+PV+TV+MV  Child    Male    87.0    11.2             False   \n",
       "5       14998  AV+PV+TV+MV  Child    Male     NaN     NaN             False   \n",
       "\n",
       "    Murmur Murmur locations Most audible location  ...  \\\n",
       "0   Absent              NaN                   NaN  ...   \n",
       "1  Present      AV+MV+PV+TV                    TV  ...   \n",
       "3  Present               TV                    TV  ...   \n",
       "4  Present      AV+MV+PV+TV                    PV  ...   \n",
       "5   Absent              NaN                   NaN  ...   \n",
       "\n",
       "  Systolic murmur grading Systolic murmur pitch Systolic murmur quality  \\\n",
       "0                     NaN                   NaN                     NaN   \n",
       "1                  III/VI                  High                   Harsh   \n",
       "3                    I/VI                   Low                 Blowing   \n",
       "4                   II/VI                   Low                   Harsh   \n",
       "5                     NaN                   NaN                     NaN   \n",
       "\n",
       "  Diastolic murmur timing Diastolic murmur shape Diastolic murmur grading  \\\n",
       "0                     NaN                    NaN                      NaN   \n",
       "1                     NaN                    NaN                      NaN   \n",
       "3                     NaN                    NaN                      NaN   \n",
       "4                     NaN                    NaN                      NaN   \n",
       "5                     NaN                    NaN                      NaN   \n",
       "\n",
       "  Diastolic murmur pitch Diastolic murmur quality Campaign Additional ID  \n",
       "0                    NaN                      NaN   CC2015           NaN  \n",
       "1                    NaN                      NaN   CC2015           NaN  \n",
       "3                    NaN                      NaN   CC2015           NaN  \n",
       "4                    NaN                      NaN   CC2015           NaN  \n",
       "5                    NaN                      NaN   CC2015           NaN  \n",
       "\n",
       "[5 rows x 22 columns]"
      ]
     },
     "execution_count": 21,
     "metadata": {},
     "output_type": "execute_result"
    }
   ],
   "source": [
    "df.head()"
   ]
  },
  {
   "cell_type": "code",
   "execution_count": 40,
   "metadata": {},
   "outputs": [],
   "source": [
    "# Определение порядка объединения файлов\n",
    "order = ['MV', 'AV', 'PV', 'Ph', 'TV']\n",
    "directory = '../data/CDPD/training_data/'\n",
    "\n",
    "def combine_audio(filename):\n",
    "    # Получение списка файлов для текущей строки\n",
    "    files_to_combine = []\n",
    "    for location in order:\n",
    "        file_name = f\"{directory}{filename}_{location}.wav\"\n",
    "        if os.path.exists(file_name):\n",
    "            files_to_combine.append(file_name)\n",
    "    \n",
    "    # Объединение файлов\n",
    "    combined_audio = AudioSegment.empty()\n",
    "    for file in files_to_combine:\n",
    "        audio = AudioSegment.from_wav(file)\n",
    "        combined_audio += audio\n",
    "    \n",
    "    # Сохранение объединенного аудио\n",
    "    output_file_name = f\"{directory}{filename}_combined.wav\"\n",
    "    combined_audio.export(output_file_name, format=\"wav\")\n",
    "    return output_file_name\n",
    "\n",
    "# Применение функции к каждой строке\n",
    "# df.apply(combine_audio, axis=1)\n"
   ]
  },
  {
   "cell_type": "code",
   "execution_count": 52,
   "metadata": {},
   "outputs": [],
   "source": [
    "\n",
    "def load_audio_data(file_names):\n",
    "    X = []\n",
    "    for file_name in tqdm(file_names):\n",
    "        # Объединение аудиофайлов\n",
    "        combined_file_name = combine_audio(file_name)\n",
    "        \n",
    "        # Загрузка объединенного аудиофайла и извлечение признаков\n",
    "        audio, sr = librosa.load(combined_file_name)\n",
    "        mfcc = librosa.feature.mfcc(y=audio, sr=sr)\n",
    "        mfcc_mean = np.mean(mfcc, axis=1)\n",
    "        \n",
    "        # Удаление временного объединенного файла\n",
    "        os.remove(combined_file_name)\n",
    "        \n",
    "        X.append(mfcc_mean)\n",
    "    \n",
    "    return np.array(X)"
   ]
  },
  {
   "cell_type": "markdown",
   "metadata": {},
   "source": [
    "## load cda"
   ]
  },
  {
   "cell_type": "code",
   "execution_count": 65,
   "metadata": {},
   "outputs": [],
   "source": [
    "patients = \"../data/Пациенты.csv\"\n",
    "norm_dir = \"../data/норма\"\n",
    "patology_dir = \"../data/патология\""
   ]
  },
  {
   "cell_type": "code",
   "execution_count": 66,
   "metadata": {},
   "outputs": [],
   "source": [
    "def find_wav_files(directory):\n",
    "    X = []\n",
    "\n",
    "    for root, dirs, files in os.walk(directory):\n",
    "        for file in files:\n",
    "            if file.endswith(\".wav\"):\n",
    "                audio, sr = librosa.load(os.path.join(root, file))\n",
    "                mfcc = librosa.feature.mfcc(y=audio, sr=sr)\n",
    "                mfcc_mean = np.mean(mfcc, axis=1)\n",
    "                \n",
    "                X.append(mfcc_mean)\n",
    "    \n",
    "    return X"
   ]
  },
  {
   "cell_type": "markdown",
   "metadata": {},
   "source": [
    "## prepare data"
   ]
  },
  {
   "cell_type": "code",
   "execution_count": 76,
   "metadata": {},
   "outputs": [],
   "source": [
    "cda = find_wav_files(norm_dir)\n",
    "norm = len(cda)\n",
    "cda.extend(find_wav_files(patology_dir))\n",
    "patology = len(cda) - norm\n",
    "\n",
    "cda = np.array(cda)\n",
    "cda_labels = [1]* norm + [0] * patology"
   ]
  },
  {
   "cell_type": "code",
   "execution_count": null,
   "metadata": {},
   "outputs": [],
   "source": [
    "file_names_cdpd = list(df['Patient ID']) \n",
    "\n",
    "# 1 - patology, 0 - normal\n",
    "cdpd_data = load_audio_data(file_names_cdpd)\n",
    "cdpd_labels = np.array(df['Murmur'].apply(lambda x: 1 if x=='Absent' else 0))"
   ]
  },
  {
   "cell_type": "code",
   "execution_count": 79,
   "metadata": {},
   "outputs": [],
   "source": [
    "# Разделение на обучающую и тестовую выборки\n",
    "X_train, X_test, y_train, y_test = train_test_split(cdpd_data, cdpd_labels, test_size=0.2, random_state=42)\n",
    "\n",
    "# Масштабирование признаков\n",
    "scaler = StandardScaler()\n",
    "X_train_scaled = scaler.fit_transform(X_train)\n",
    "X_test_scaled = scaler.transform(X_test)"
   ]
  },
  {
   "cell_type": "code",
   "execution_count": 80,
   "metadata": {},
   "outputs": [
    {
     "name": "stdout",
     "output_type": "stream",
     "text": [
      "Новые размеры тестовых данных:\n",
      "X_test shape: (119, 20)\n",
      "y_test shape: (119,)\n",
      "X_test_cdatest shape: (170, 20)\n",
      "y_test_cdatest shape: (170,)\n"
     ]
    }
   ],
   "source": [
    "# Добавление новых данных в тестовую выборку\n",
    "X_test_cdatest = np.vstack((X_test, cda))\n",
    "y_test_cdatest = np.concatenate((y_test, cda_labels))\n",
    "\n",
    "X_test_scaled_cdatest = scaler.transform(X_test_cdatest)\n",
    "\n",
    "print(\"Новые размеры тестовых данных:\")\n",
    "print(f\"X_test shape: {X_test.shape}\")\n",
    "print(f\"y_test shape: {y_test.shape}\")\n",
    "print(f\"X_test_cdatest shape: {X_test_cdatest.shape}\")\n",
    "print(f\"y_test_cdatest shape: {y_test_cdatest.shape}\")"
   ]
  },
  {
   "cell_type": "code",
   "execution_count": 90,
   "metadata": {},
   "outputs": [],
   "source": [
    "# cdpd cda train test\n",
    "X_train_cda, X_test_cda, y_train_cda, y_test_cda = train_test_split(cda, cda_labels, test_size=0.2, random_state=42)\n",
    "\n",
    "\n",
    "X_train_cdpd_cda = np.vstack((X_train, X_train_cda))\n",
    "y_train_cdpd_cda = np.concatenate((y_train, y_train_cda))\n",
    "X_test_cdpd_cda = np.vstack((X_test, X_test_cda))\n",
    "y_test_cdpd_cda = np.concatenate((y_test, y_test_cda))\n",
    "\n",
    "scaler = StandardScaler()\n",
    "X_train_scaled_cdpd_cda = scaler.fit_transform(X_train_cdpd_cda)\n",
    "X_test_scaled_cdpd_cda = scaler.transform(X_test_cdpd_cda)"
   ]
  },
  {
   "cell_type": "markdown",
   "metadata": {},
   "source": [
    "## models"
   ]
  },
  {
   "cell_type": "code",
   "execution_count": 84,
   "metadata": {},
   "outputs": [],
   "source": [
    "models = {\n",
    "    'LogisticRegression': {\n",
    "        'model': LogisticRegression(max_iter=1000),\n",
    "        'params': {\n",
    "            'C': [0.1, 1, 10],\n",
    "            'penalty': ['l2']\n",
    "        }\n",
    "    },\n",
    "    'RandomForest': {\n",
    "        'model': RandomForestClassifier(),\n",
    "        'params': {\n",
    "            'n_estimators': [50, 100, 200],\n",
    "            'max_depth': [None, 5, 10]\n",
    "        }\n",
    "    },\n",
    "    'GradientBoosting': {\n",
    "        'model': GradientBoostingClassifier(),\n",
    "        'params': {\n",
    "            'n_estimators': [50, 100, 200],\n",
    "            'learning_rate': [0.1, 0.5, 1]\n",
    "        }\n",
    "    },\n",
    "    'SVC': {\n",
    "        'model': SVC(probability=True),\n",
    "        'params': {\n",
    "            'C': [0.1, 1, 10],\n",
    "            'kernel': ['linear', 'rbf']\n",
    "        }\n",
    "    }\n",
    "}"
   ]
  },
  {
   "cell_type": "markdown",
   "metadata": {},
   "source": [
    "## experiments"
   ]
  },
  {
   "cell_type": "markdown",
   "metadata": {},
   "source": [
    "### cdpd full"
   ]
  },
  {
   "cell_type": "code",
   "execution_count": 81,
   "metadata": {},
   "outputs": [],
   "source": [
    "def train_val(config, X_train_scaled, X_test_scaled, y_train, y_test):\n",
    "    results = {}\n",
    "    for name, config in models.items():\n",
    "        grid_search = GridSearchCV(config['model'], config['params'], cv=5)\n",
    "        grid_search.fit(X_train_scaled, y_train)\n",
    "        \n",
    "        best_model = grid_search.best_estimator_\n",
    "        y_pred = best_model.predict(X_test_scaled)\n",
    "        y_pred_proba = best_model.predict_proba(X_test_scaled)[:, 1]\n",
    "        \n",
    "        accuracy = accuracy_score(y_test, y_pred)\n",
    "        f1 = f1_score(y_test, y_pred)\n",
    "        # пресижн и рекол хде, вы шо\n",
    "        auc = roc_auc_score(y_test, y_pred_proba)\n",
    "        \n",
    "        results[name] = {\n",
    "            'Accuracy': accuracy,\n",
    "            'F1-score': f1,\n",
    "            'AUC-ROC': auc,\n",
    "            'Best params': grid_search.best_params_\n",
    "        }\n",
    "\n",
    "    # Вывод результатов\n",
    "    for model_name, metrics in results.items():\n",
    "        print(f\"Модель: {model_name}\")\n",
    "        print(f\"Accuracy: {metrics['Accuracy']:.3f}\")\n",
    "        print(f\"F1-score: {metrics['F1-score']:.3f}\")\n",
    "        print(f\"AUC-ROC: {metrics['AUC-ROC']:.3f}\")\n",
    "        print(f\"Лучшие параметры: {metrics['Best params']}\")\n",
    "        print()"
   ]
  },
  {
   "cell_type": "markdown",
   "metadata": {},
   "source": [
    "### cdpd full"
   ]
  },
  {
   "cell_type": "code",
   "execution_count": 85,
   "metadata": {},
   "outputs": [
    {
     "name": "stdout",
     "output_type": "stream",
     "text": [
      "Модель: LogisticRegression\n",
      "Accuracy: 0.866\n",
      "F1-score: 0.922\n",
      "AUC-ROC: 0.724\n",
      "Лучшие параметры: {'C': 1, 'penalty': 'l2'}\n",
      "\n",
      "Модель: RandomForest\n",
      "Accuracy: 0.840\n",
      "F1-score: 0.905\n",
      "AUC-ROC: 0.728\n",
      "Лучшие параметры: {'max_depth': None, 'n_estimators': 50}\n",
      "\n",
      "Модель: GradientBoosting\n",
      "Accuracy: 0.798\n",
      "F1-score: 0.878\n",
      "AUC-ROC: 0.699\n",
      "Лучшие параметры: {'learning_rate': 1, 'n_estimators': 100}\n",
      "\n",
      "Модель: SVC\n",
      "Accuracy: 0.840\n",
      "F1-score: 0.906\n",
      "AUC-ROC: 0.739\n",
      "Лучшие параметры: {'C': 1, 'kernel': 'rbf'}\n",
      "\n"
     ]
    }
   ],
   "source": [
    "train_val(config,  X_train_scaled, X_test_scaled, y_train, y_test)"
   ]
  },
  {
   "cell_type": "markdown",
   "metadata": {},
   "source": [
    "### cdpd + cda test"
   ]
  },
  {
   "cell_type": "code",
   "execution_count": 86,
   "metadata": {},
   "outputs": [
    {
     "name": "stdout",
     "output_type": "stream",
     "text": [
      "Модель: LogisticRegression\n",
      "Accuracy: 0.629\n",
      "F1-score: 0.755\n",
      "AUC-ROC: 0.563\n",
      "Лучшие параметры: {'C': 1, 'penalty': 'l2'}\n",
      "\n",
      "Модель: RandomForest\n",
      "Accuracy: 0.618\n",
      "F1-score: 0.749\n",
      "AUC-ROC: 0.799\n",
      "Лучшие параметры: {'max_depth': 5, 'n_estimators': 100}\n",
      "\n",
      "Модель: GradientBoosting\n",
      "Accuracy: 0.576\n",
      "F1-score: 0.712\n",
      "AUC-ROC: 0.749\n",
      "Лучшие параметры: {'learning_rate': 0.5, 'n_estimators': 200}\n",
      "\n",
      "Модель: SVC\n",
      "Accuracy: 0.606\n",
      "F1-score: 0.739\n",
      "AUC-ROC: 0.809\n",
      "Лучшие параметры: {'C': 1, 'kernel': 'rbf'}\n",
      "\n"
     ]
    }
   ],
   "source": [
    "train_val(config,  X_train_scaled, X_test_scaled_cdatest, y_train, y_test_cdatest)"
   ]
  },
  {
   "cell_type": "markdown",
   "metadata": {},
   "source": [
    "### cdpd cda full"
   ]
  },
  {
   "cell_type": "code",
   "execution_count": 91,
   "metadata": {},
   "outputs": [
    {
     "name": "stdout",
     "output_type": "stream",
     "text": [
      "Модель: LogisticRegression\n",
      "Accuracy: 0.885\n",
      "F1-score: 0.927\n",
      "AUC-ROC: 0.806\n",
      "Лучшие параметры: {'C': 10, 'penalty': 'l2'}\n",
      "\n",
      "Модель: RandomForest\n",
      "Accuracy: 0.838\n",
      "F1-score: 0.897\n",
      "AUC-ROC: 0.807\n",
      "Лучшие параметры: {'max_depth': None, 'n_estimators': 200}\n",
      "\n",
      "Модель: GradientBoosting\n",
      "Accuracy: 0.808\n",
      "F1-score: 0.874\n",
      "AUC-ROC: 0.768\n",
      "Лучшие параметры: {'learning_rate': 0.5, 'n_estimators': 100}\n",
      "\n",
      "Модель: SVC\n",
      "Accuracy: 0.862\n",
      "F1-score: 0.913\n",
      "AUC-ROC: 0.825\n",
      "Лучшие параметры: {'C': 1, 'kernel': 'rbf'}\n",
      "\n"
     ]
    }
   ],
   "source": [
    "train_val(config, X_train_scaled_cdpd_cda, X_test_scaled_cdpd_cda, y_train_cdpd_cda, y_test_cdpd_cda)"
   ]
  },
  {
   "cell_type": "code",
   "execution_count": null,
   "metadata": {},
   "outputs": [],
   "source": []
  },
  {
   "cell_type": "markdown",
   "metadata": {},
   "source": [
    "### "
   ]
  }
 ],
 "metadata": {
  "kernelspec": {
   "display_name": "Python 3",
   "language": "python",
   "name": "python3"
  },
  "language_info": {
   "codemirror_mode": {
    "name": "ipython",
    "version": 3
   },
   "file_extension": ".py",
   "mimetype": "text/x-python",
   "name": "python",
   "nbconvert_exporter": "python",
   "pygments_lexer": "ipython3",
   "version": "3.undefined.undefined"
  }
 },
 "nbformat": 4,
 "nbformat_minor": 2
}
