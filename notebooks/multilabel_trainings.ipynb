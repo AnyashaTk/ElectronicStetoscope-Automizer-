{
 "cells": [
  {
   "cell_type": "code",
   "execution_count": 74,
   "metadata": {},
   "outputs": [],
   "source": [
    "import os\n",
    "import librosa\n",
    "import numpy as np\n",
    "import pandas as pd\n",
    "from tqdm import tqdm\n",
    "from pydub import AudioSegment\n",
    "\n",
    "from sklearn.model_selection import train_test_split\n",
    "from sklearn.linear_model import LogisticRegression\n",
    "from sklearn.ensemble import RandomForestClassifier, GradientBoostingClassifier\n",
    "from sklearn.svm import SVC\n",
    "from sklearn.metrics import accuracy_score, f1_score, roc_auc_score, precision_score, recall_score\n",
    "from sklearn.preprocessing import StandardScaler\n",
    "from sklearn.model_selection import GridSearchCV\n",
    "from sklearn.metrics import multilabel_confusion_matrix"
   ]
  },
  {
   "cell_type": "markdown",
   "metadata": {},
   "source": [
    "## CDPD"
   ]
  },
  {
   "cell_type": "code",
   "execution_count": 125,
   "metadata": {},
   "outputs": [
    {
     "data": {
      "text/plain": [
       "942"
      ]
     },
     "execution_count": 125,
     "metadata": {},
     "output_type": "execute_result"
    }
   ],
   "source": [
    "df = pd.read_csv('../data/CDPD/training_data.csv') \n",
    "len(df)"
   ]
  },
  {
   "cell_type": "markdown",
   "metadata": {},
   "source": [
    "Отделение данных, вообще нам нужны только данные, которые обязательно имеют в себе Аортальный и Митральный клапаны, или хотя бы один из них, поэтому мы только такие и берем, но посмотреть как может обучиться со всеми данными тоже интересно, поэтому таблицы метрик в конце файла есть и для всех данных и для отобранных"
   ]
  },
  {
   "cell_type": "code",
   "execution_count": 3,
   "metadata": {},
   "outputs": [
    {
     "data": {
      "text/plain": [
       "595"
      ]
     },
     "execution_count": 3,
     "metadata": {},
     "output_type": "execute_result"
    }
   ],
   "source": [
    "df = df[df['Locations'].isin(['AV+PV+TV+MV', 'AV+PV+MV', 'AV+AV+PV+PV+TV+MV', 'AV+MV+MV', \n",
    "                                        'AV+PV+MV+Phc+Phc', 'AV+PV+TV+TV+MV', 'AV+AV+MV+MV', 'AV+AV+PV+TV+MV', 'AV+PV+TV+MV+Phc', 'AV+AV+AV+MV', 'AV+AV+PV+TV+MV+MV', ])&(df['Murmur']!='Unknown')]\n",
    "len(df)"
   ]
  },
  {
   "cell_type": "code",
   "execution_count": 4,
   "metadata": {},
   "outputs": [
    {
     "data": {
      "text/plain": [
       "array(['AV+PV+TV+MV', 'AV+AV+PV+PV+TV+MV', 'AV+PV+MV', 'AV+MV+MV',\n",
       "       'AV+PV+MV+Phc+Phc', 'AV+PV+TV+TV+MV', 'AV+AV+MV+MV',\n",
       "       'AV+AV+PV+TV+MV', 'AV+PV+TV+MV+Phc', 'AV+AV+AV+MV',\n",
       "       'AV+AV+PV+TV+MV+MV'], dtype=object)"
      ]
     },
     "execution_count": 4,
     "metadata": {},
     "output_type": "execute_result"
    }
   ],
   "source": [
    "df['Locations'].unique()"
   ]
  },
  {
   "cell_type": "code",
   "execution_count": 5,
   "metadata": {},
   "outputs": [
    {
     "data": {
      "text/plain": [
       "array([nan, 'AV+MV+PV+TV', 'TV', 'MV+TV', 'MV+PV+TV', 'AV+PV+TV',\n",
       "       'AV+MV+PV', 'MV+PV', 'AV+MV+PV+Phc+TV', 'MV', 'AV+PV', 'PV',\n",
       "       'AV+TV', 'PV+TV', 'AV+MV', 'AV'], dtype=object)"
      ]
     },
     "execution_count": 5,
     "metadata": {},
     "output_type": "execute_result"
    }
   ],
   "source": [
    "df['Murmur locations'].unique()"
   ]
  },
  {
   "cell_type": "code",
   "execution_count": 6,
   "metadata": {},
   "outputs": [],
   "source": [
    "# Определение порядка объединения файлов\n",
    "order = ['MV', 'AV', 'PV', 'Ph', 'TV']\n",
    "directory = '../data/CDPD/training_data/'\n",
    "\n",
    "def combine_audio(filename):\n",
    "    # Получение списка файлов для текущей строки\n",
    "    files_to_combine = []\n",
    "    for location in order:\n",
    "        file_name = f\"{directory}{filename}_{location}.wav\"\n",
    "        if os.path.exists(file_name):\n",
    "            files_to_combine.append(file_name)\n",
    "    \n",
    "    # Объединение файлов\n",
    "    combined_audio = AudioSegment.empty()\n",
    "    for file in files_to_combine:\n",
    "        audio = AudioSegment.from_wav(file)\n",
    "        combined_audio += audio\n",
    "    \n",
    "    # Сохранение объединенного аудио\n",
    "    output_file_name = f\"{directory}{filename}_combined.wav\"\n",
    "    combined_audio.export(output_file_name, format=\"wav\")\n",
    "    return output_file_name\n",
    "\n",
    "def load_audio_data(file_names):\n",
    "    X = []\n",
    "    for i, file_name in enumerate(tqdm(file_names)):\n",
    "        # Объединение аудиофайлов\n",
    "        combined_file_name = combine_audio(file_name)\n",
    "        try:\n",
    "            # Загрузка объединенного аудиофайла и извлечение признаков\n",
    "            audio, sr = librosa.load(combined_file_name)\n",
    "            mfcc = librosa.feature.mfcc(y=audio, sr=sr)\n",
    "            mfcc_mean = np.mean(mfcc, axis=1)\n",
    "            \n",
    "            # Удаление временного объединенного файла\n",
    "            os.remove(combined_file_name)\n",
    "            \n",
    "            X.append(mfcc_mean)\n",
    "        except:\n",
    "            print(combined_file_name, i)\n",
    "            continue\n",
    "    \n",
    "    return np.array(X)"
   ]
  },
  {
   "cell_type": "markdown",
   "metadata": {},
   "source": [
    "## ACD "
   ]
  },
  {
   "cell_type": "code",
   "execution_count": 7,
   "metadata": {},
   "outputs": [],
   "source": [
    "patients = \"../data/Пациенты.csv\"\n",
    "norm_dir = \"../data/норма\"\n",
    "patology_dir = \"../data/патология\""
   ]
  },
  {
   "cell_type": "code",
   "execution_count": 8,
   "metadata": {},
   "outputs": [],
   "source": [
    "def find_wav_files(directory):\n",
    "    X = []\n",
    "    dir_path = []\n",
    "\n",
    "    for root, dirs, files in os.walk(directory):\n",
    "        for file in files:\n",
    "            if file.endswith(\".wav\"):\n",
    "                audio, sr = librosa.load(os.path.join(root, file))\n",
    "                mfcc = librosa.feature.mfcc(y=audio, sr=sr)\n",
    "                mfcc_mean = np.mean(mfcc, axis=1)\n",
    "                \n",
    "                X.append(mfcc_mean)\n",
    "                dir_path.append(root)\n",
    "    \n",
    "    return X, dir_path"
   ]
  },
  {
   "cell_type": "markdown",
   "metadata": {},
   "source": [
    "## prepare data"
   ]
  },
  {
   "cell_type": "code",
   "execution_count": 11,
   "metadata": {},
   "outputs": [],
   "source": [
    "# Norm - 0, MK patology - 1, AK patology - 2, Other patology - 3"
   ]
  },
  {
   "cell_type": "code",
   "execution_count": 90,
   "metadata": {},
   "outputs": [],
   "source": [
    "# загрузка датасета для мультилейбл\n",
    "cda, cda_paths = find_wav_files(norm_dir)\n",
    "norm = [[1, 0, 0, 0]] * len(cda_paths)\n",
    "patology_files, patology_paths = find_wav_files(patology_dir)\n",
    "cda.extend(patology_files)\n",
    "patology = []\n",
    "for i in patology_paths:\n",
    "    pat_label = [0, 0, 0, 0]\n",
    "    if 'МК' in i:\n",
    "        pat_label[1] = 1\n",
    "    if \"АК\" in i:\n",
    "        pat_label[2] = 1\n",
    "    if \"ТК\" in i or \"ЛА\" in i:\n",
    "        pat_label[3] = 1\n",
    "    patology.append(pat_label)\n",
    "\n",
    "cda = np.array(cda)\n",
    "cda_labels = norm + patology"
   ]
  },
  {
   "cell_type": "code",
   "execution_count": 91,
   "metadata": {},
   "outputs": [
    {
     "name": "stdout",
     "output_type": "stream",
     "text": [
      "51 51\n"
     ]
    }
   ],
   "source": [
    "print(len(cda), len(cda_labels))"
   ]
  },
  {
   "cell_type": "code",
   "execution_count": 14,
   "metadata": {},
   "outputs": [],
   "source": [
    "# я настроила правильную разметку в мультилейбл в сда, теперь надо также сделать для cdpd, потом просто бахнуть кучу обучений"
   ]
  },
  {
   "cell_type": "code",
   "execution_count": 15,
   "metadata": {},
   "outputs": [
    {
     "name": "stdout",
     "output_type": "stream",
     "text": [
      "Empty DataFrame\n",
      "Columns: [Patient ID, Locations, Age, Sex, Height, Weight, Pregnancy status, Murmur, Murmur locations, Most audible location, Systolic murmur timing, Systolic murmur shape, Systolic murmur grading, Systolic murmur pitch, Systolic murmur quality, Diastolic murmur timing, Diastolic murmur shape, Diastolic murmur grading, Diastolic murmur pitch, Diastolic murmur quality, Campaign, Additional ID]\n",
      "Index: []\n",
      "\n",
      "[0 rows x 22 columns]\n",
      "474 474 474\n"
     ]
    }
   ],
   "source": [
    "# к счастью нет строк где указано что есть патололгия но не указана какая\n",
    "print(df[(df['Murmur']=='Present')&(df['Murmur locations'].isna())])\n",
    "\n",
    "# и ровно там где нет патологии не просочилась лишняя инфа о локациях, все чисто, а значит мы можем стаить метки на основе одной колонки\n",
    "print(len(df[df['Murmur']=='Absent']), \n",
    "len(df[df['Murmur locations'].isna()]),\n",
    "len(df[(df['Murmur']=='Absent')&(df['Murmur locations'].isna())]))\n"
   ]
  },
  {
   "cell_type": "code",
   "execution_count": 16,
   "metadata": {},
   "outputs": [
    {
     "data": {
      "text/plain": [
       "array([nan, 'AV+MV+PV+TV', 'TV', 'MV+TV', 'MV+PV+TV', 'AV+PV+TV',\n",
       "       'AV+MV+PV', 'MV+PV', 'AV+MV+PV+Phc+TV', 'MV', 'AV+PV', 'PV',\n",
       "       'AV+TV', 'PV+TV', 'AV+MV', 'AV'], dtype=object)"
      ]
     },
     "execution_count": 16,
     "metadata": {},
     "output_type": "execute_result"
    }
   ],
   "source": [
    "df['Murmur locations'].unique()"
   ]
  },
  {
   "cell_type": "code",
   "execution_count": 126,
   "metadata": {},
   "outputs": [
    {
     "name": "stderr",
     "output_type": "stream",
     "text": [
      " 28%|██▊       | 266/942 [02:13<06:43,  1.67it/s]"
     ]
    },
    {
     "name": "stdout",
     "output_type": "stream",
     "text": [
      "../data/CDPD/training_data/50321_combined.wav 266\n"
     ]
    },
    {
     "name": "stderr",
     "output_type": "stream",
     "text": [
      "100%|██████████| 942/942 [07:09<00:00,  2.20it/s]\n"
     ]
    }
   ],
   "source": [
    "file_names_cdpd = list(df['Patient ID']) \n",
    "locations = list(df['Murmur locations'])\n",
    "\n",
    "# Absent = Normal = 0, Present - see loc, then 1-3 \n",
    "cdpd_data = load_audio_data(file_names_cdpd)"
   ]
  },
  {
   "cell_type": "code",
   "execution_count": 95,
   "metadata": {},
   "outputs": [
    {
     "data": {
      "text/plain": [
       "[nan,\n",
       " 'AV+MV+PV+TV',\n",
       " 'TV',\n",
       " 'AV+MV+PV+TV',\n",
       " nan,\n",
       " nan,\n",
       " nan,\n",
       " 'AV+MV+PV+TV',\n",
       " nan,\n",
       " 'MV+TV',\n",
       " 'MV+PV+TV',\n",
       " nan,\n",
       " nan,\n",
       " nan,\n",
       " nan,\n",
       " 'AV+MV+PV+TV',\n",
       " nan,\n",
       " 'AV+MV+PV+TV',\n",
       " 'MV+TV',\n",
       " 'AV+MV+PV+TV',\n",
       " 'MV+PV+TV',\n",
       " nan,\n",
       " nan,\n",
       " nan,\n",
       " 'AV+MV+PV+TV',\n",
       " nan,\n",
       " nan,\n",
       " nan,\n",
       " 'AV+MV+PV+TV',\n",
       " 'AV+MV+PV+TV',\n",
       " 'MV+PV+TV',\n",
       " nan,\n",
       " nan,\n",
       " nan,\n",
       " nan,\n",
       " nan,\n",
       " nan,\n",
       " 'AV+MV+PV+TV',\n",
       " 'AV+MV+PV+TV',\n",
       " nan,\n",
       " nan,\n",
       " nan,\n",
       " 'AV+PV+TV',\n",
       " 'MV+PV+TV',\n",
       " 'AV+MV+PV+TV',\n",
       " 'AV+MV+PV+TV',\n",
       " 'AV+MV+PV',\n",
       " nan,\n",
       " nan,\n",
       " nan,\n",
       " nan,\n",
       " nan,\n",
       " nan,\n",
       " nan,\n",
       " 'AV+MV+PV+TV',\n",
       " nan,\n",
       " nan,\n",
       " nan,\n",
       " nan,\n",
       " nan,\n",
       " nan,\n",
       " nan,\n",
       " nan,\n",
       " nan,\n",
       " 'AV+MV+PV+TV',\n",
       " nan,\n",
       " nan,\n",
       " nan,\n",
       " nan,\n",
       " nan,\n",
       " nan,\n",
       " nan,\n",
       " nan,\n",
       " nan,\n",
       " nan,\n",
       " nan,\n",
       " 'MV+PV',\n",
       " 'AV+MV+PV+TV',\n",
       " nan,\n",
       " nan,\n",
       " nan,\n",
       " nan,\n",
       " nan,\n",
       " nan,\n",
       " nan,\n",
       " nan,\n",
       " nan,\n",
       " nan,\n",
       " nan,\n",
       " nan,\n",
       " nan,\n",
       " nan,\n",
       " nan,\n",
       " 'MV+TV',\n",
       " nan,\n",
       " 'AV+MV+PV+TV',\n",
       " 'AV+PV+TV',\n",
       " nan,\n",
       " nan,\n",
       " nan,\n",
       " 'AV+MV+PV+TV',\n",
       " nan,\n",
       " nan,\n",
       " nan,\n",
       " nan,\n",
       " nan,\n",
       " 'AV+MV+PV+TV',\n",
       " nan,\n",
       " nan,\n",
       " 'AV+MV+PV+TV',\n",
       " 'AV+MV+PV+TV',\n",
       " nan,\n",
       " nan,\n",
       " nan,\n",
       " nan,\n",
       " nan,\n",
       " 'AV+PV+TV',\n",
       " 'AV+MV+PV+TV',\n",
       " nan,\n",
       " nan,\n",
       " nan,\n",
       " nan,\n",
       " nan,\n",
       " nan,\n",
       " nan,\n",
       " 'AV+MV+PV+TV',\n",
       " nan,\n",
       " nan,\n",
       " 'AV+PV+TV',\n",
       " nan,\n",
       " nan,\n",
       " nan,\n",
       " nan,\n",
       " nan,\n",
       " nan,\n",
       " nan,\n",
       " nan,\n",
       " nan,\n",
       " nan,\n",
       " 'TV',\n",
       " nan,\n",
       " nan,\n",
       " nan,\n",
       " 'AV+MV+PV',\n",
       " nan,\n",
       " 'AV+MV+PV+TV',\n",
       " nan,\n",
       " nan,\n",
       " nan,\n",
       " nan,\n",
       " nan,\n",
       " nan,\n",
       " nan,\n",
       " nan,\n",
       " nan,\n",
       " nan,\n",
       " nan,\n",
       " nan,\n",
       " nan,\n",
       " nan,\n",
       " nan,\n",
       " nan,\n",
       " nan,\n",
       " nan,\n",
       " nan,\n",
       " nan,\n",
       " 'MV+TV',\n",
       " nan,\n",
       " nan,\n",
       " nan,\n",
       " nan,\n",
       " nan,\n",
       " nan,\n",
       " nan,\n",
       " 'AV+MV+PV+TV',\n",
       " nan,\n",
       " nan,\n",
       " nan,\n",
       " nan,\n",
       " nan,\n",
       " nan,\n",
       " nan,\n",
       " nan,\n",
       " nan,\n",
       " nan,\n",
       " nan,\n",
       " nan,\n",
       " nan,\n",
       " nan,\n",
       " 'AV+MV+PV+Phc+TV',\n",
       " 'MV+PV+TV',\n",
       " nan,\n",
       " nan,\n",
       " nan,\n",
       " nan,\n",
       " 'MV+PV+TV',\n",
       " 'MV',\n",
       " nan,\n",
       " nan,\n",
       " nan,\n",
       " nan,\n",
       " nan,\n",
       " nan,\n",
       " nan,\n",
       " 'MV+TV',\n",
       " nan,\n",
       " nan,\n",
       " nan,\n",
       " nan,\n",
       " nan,\n",
       " nan,\n",
       " nan,\n",
       " nan,\n",
       " 'AV+PV',\n",
       " nan,\n",
       " nan,\n",
       " nan,\n",
       " nan,\n",
       " nan,\n",
       " nan,\n",
       " nan,\n",
       " nan,\n",
       " nan,\n",
       " nan,\n",
       " nan,\n",
       " nan,\n",
       " nan,\n",
       " nan,\n",
       " nan,\n",
       " nan,\n",
       " nan,\n",
       " nan,\n",
       " nan,\n",
       " 'AV+MV+PV+TV',\n",
       " 'MV+PV+TV',\n",
       " 'TV',\n",
       " nan,\n",
       " nan,\n",
       " nan,\n",
       " nan,\n",
       " nan,\n",
       " 'AV+MV+PV+TV',\n",
       " 'PV',\n",
       " nan,\n",
       " nan,\n",
       " nan,\n",
       " 'AV+MV+PV+TV',\n",
       " nan,\n",
       " nan,\n",
       " 'AV+MV+PV+TV',\n",
       " 'AV+MV+PV+TV',\n",
       " nan,\n",
       " nan,\n",
       " nan,\n",
       " 'AV+MV+PV+TV',\n",
       " nan,\n",
       " nan,\n",
       " nan,\n",
       " 'AV+MV+PV+TV',\n",
       " nan,\n",
       " nan,\n",
       " nan,\n",
       " nan,\n",
       " nan,\n",
       " 'MV',\n",
       " 'AV+MV+PV+TV',\n",
       " nan,\n",
       " nan,\n",
       " 'AV+MV+PV+TV',\n",
       " nan,\n",
       " 'AV+MV+PV+TV',\n",
       " 'AV+MV+PV+TV',\n",
       " nan,\n",
       " nan,\n",
       " nan,\n",
       " nan,\n",
       " nan,\n",
       " nan,\n",
       " 'AV+MV+PV+TV',\n",
       " nan,\n",
       " nan,\n",
       " nan,\n",
       " nan,\n",
       " 'AV+MV+PV+TV',\n",
       " 'MV+TV',\n",
       " 'AV+MV+PV+TV',\n",
       " nan,\n",
       " nan,\n",
       " nan,\n",
       " nan,\n",
       " nan,\n",
       " nan,\n",
       " nan,\n",
       " nan,\n",
       " 'AV+MV+PV+TV',\n",
       " nan,\n",
       " nan,\n",
       " nan,\n",
       " 'MV+PV+TV',\n",
       " nan,\n",
       " nan,\n",
       " nan,\n",
       " nan,\n",
       " nan,\n",
       " 'TV',\n",
       " nan,\n",
       " nan,\n",
       " nan,\n",
       " nan,\n",
       " nan,\n",
       " nan,\n",
       " nan,\n",
       " 'AV+MV+PV+TV',\n",
       " 'AV+MV+PV+TV',\n",
       " 'AV+MV+PV+TV',\n",
       " nan,\n",
       " 'AV+PV',\n",
       " nan,\n",
       " nan,\n",
       " 'MV+PV+TV',\n",
       " nan,\n",
       " nan,\n",
       " nan,\n",
       " nan,\n",
       " 'AV+MV+PV+TV',\n",
       " nan,\n",
       " nan,\n",
       " nan,\n",
       " nan,\n",
       " nan,\n",
       " nan,\n",
       " nan,\n",
       " 'AV+MV+PV+TV',\n",
       " nan,\n",
       " nan,\n",
       " 'AV+MV+PV+TV',\n",
       " 'MV+TV',\n",
       " nan,\n",
       " nan,\n",
       " nan,\n",
       " nan,\n",
       " nan,\n",
       " 'AV+MV+PV+TV',\n",
       " 'AV+MV+PV+TV',\n",
       " 'AV+TV',\n",
       " nan,\n",
       " nan,\n",
       " nan,\n",
       " nan,\n",
       " nan,\n",
       " nan,\n",
       " nan,\n",
       " nan,\n",
       " 'AV+MV+PV+TV',\n",
       " nan,\n",
       " nan,\n",
       " nan,\n",
       " 'PV+TV',\n",
       " nan,\n",
       " nan,\n",
       " nan,\n",
       " nan,\n",
       " nan,\n",
       " nan,\n",
       " nan,\n",
       " nan,\n",
       " nan,\n",
       " 'AV+MV+PV+TV',\n",
       " nan,\n",
       " nan,\n",
       " nan,\n",
       " nan,\n",
       " nan,\n",
       " nan,\n",
       " nan,\n",
       " nan,\n",
       " nan,\n",
       " nan,\n",
       " nan,\n",
       " 'MV+PV',\n",
       " nan,\n",
       " nan,\n",
       " nan,\n",
       " 'AV+PV',\n",
       " nan,\n",
       " nan,\n",
       " nan,\n",
       " nan,\n",
       " nan,\n",
       " nan,\n",
       " nan,\n",
       " nan,\n",
       " nan,\n",
       " nan,\n",
       " nan,\n",
       " 'AV+MV+PV+TV',\n",
       " nan,\n",
       " nan,\n",
       " nan,\n",
       " nan,\n",
       " nan,\n",
       " 'TV',\n",
       " 'AV+MV+PV+TV',\n",
       " nan,\n",
       " nan,\n",
       " nan,\n",
       " 'AV+MV+PV+TV',\n",
       " 'AV+MV+PV+TV',\n",
       " 'AV+MV+PV+TV',\n",
       " nan,\n",
       " nan,\n",
       " nan,\n",
       " nan,\n",
       " nan,\n",
       " nan,\n",
       " nan,\n",
       " nan,\n",
       " 'PV+TV',\n",
       " nan,\n",
       " nan,\n",
       " nan,\n",
       " nan,\n",
       " nan,\n",
       " 'AV+MV',\n",
       " nan,\n",
       " nan,\n",
       " nan,\n",
       " nan,\n",
       " nan,\n",
       " nan,\n",
       " nan,\n",
       " nan,\n",
       " nan,\n",
       " nan,\n",
       " nan,\n",
       " 'PV+TV',\n",
       " nan,\n",
       " nan,\n",
       " nan,\n",
       " nan,\n",
       " 'AV+MV+PV+TV',\n",
       " nan,\n",
       " nan,\n",
       " nan,\n",
       " nan,\n",
       " nan,\n",
       " nan,\n",
       " nan,\n",
       " nan,\n",
       " nan,\n",
       " nan,\n",
       " nan,\n",
       " nan,\n",
       " nan,\n",
       " nan,\n",
       " nan,\n",
       " nan,\n",
       " nan,\n",
       " nan,\n",
       " nan,\n",
       " nan,\n",
       " 'AV+MV+PV+TV',\n",
       " nan,\n",
       " nan,\n",
       " nan,\n",
       " nan,\n",
       " 'AV+MV+PV+TV',\n",
       " nan,\n",
       " nan,\n",
       " nan,\n",
       " 'PV+TV',\n",
       " 'AV+MV+PV+TV',\n",
       " nan,\n",
       " nan,\n",
       " 'AV+MV+PV+TV',\n",
       " 'TV',\n",
       " nan,\n",
       " 'PV+TV',\n",
       " nan,\n",
       " nan,\n",
       " nan,\n",
       " 'AV+MV+PV+TV',\n",
       " nan,\n",
       " nan,\n",
       " 'TV',\n",
       " nan,\n",
       " nan,\n",
       " 'AV+MV+PV+TV',\n",
       " 'AV+MV+PV+TV',\n",
       " nan,\n",
       " 'AV+MV+PV+TV',\n",
       " nan,\n",
       " nan,\n",
       " nan,\n",
       " nan,\n",
       " nan,\n",
       " 'TV',\n",
       " nan,\n",
       " 'AV+MV+PV+TV',\n",
       " nan,\n",
       " nan,\n",
       " nan,\n",
       " nan,\n",
       " nan,\n",
       " nan,\n",
       " 'AV+PV',\n",
       " nan,\n",
       " nan,\n",
       " nan,\n",
       " nan,\n",
       " nan,\n",
       " nan,\n",
       " nan,\n",
       " 'PV+TV',\n",
       " 'AV+MV+PV+TV',\n",
       " nan,\n",
       " nan,\n",
       " nan,\n",
       " nan,\n",
       " nan,\n",
       " nan,\n",
       " nan,\n",
       " nan,\n",
       " nan,\n",
       " nan,\n",
       " nan,\n",
       " nan,\n",
       " nan,\n",
       " nan,\n",
       " nan,\n",
       " nan,\n",
       " 'AV',\n",
       " 'AV+MV+PV+TV',\n",
       " nan,\n",
       " nan,\n",
       " nan,\n",
       " nan,\n",
       " nan,\n",
       " nan,\n",
       " nan,\n",
       " 'AV+MV+PV+TV',\n",
       " 'AV+MV+PV+TV',\n",
       " nan,\n",
       " nan,\n",
       " nan,\n",
       " nan,\n",
       " nan,\n",
       " nan,\n",
       " 'MV+PV+TV',\n",
       " nan,\n",
       " nan,\n",
       " nan,\n",
       " nan,\n",
       " nan,\n",
       " nan,\n",
       " nan,\n",
       " nan,\n",
       " nan,\n",
       " nan,\n",
       " nan,\n",
       " nan,\n",
       " nan,\n",
       " nan,\n",
       " nan,\n",
       " 'AV+MV+PV+TV',\n",
       " nan,\n",
       " nan,\n",
       " nan,\n",
       " nan,\n",
       " nan,\n",
       " nan,\n",
       " nan,\n",
       " nan,\n",
       " nan,\n",
       " nan,\n",
       " nan,\n",
       " nan,\n",
       " nan,\n",
       " nan,\n",
       " nan,\n",
       " nan,\n",
       " nan,\n",
       " nan,\n",
       " nan,\n",
       " nan,\n",
       " nan,\n",
       " nan,\n",
       " nan,\n",
       " nan,\n",
       " nan,\n",
       " nan,\n",
       " nan,\n",
       " nan,\n",
       " nan,\n",
       " 'MV+TV']"
      ]
     },
     "execution_count": 95,
     "metadata": {},
     "output_type": "execute_result"
    }
   ],
   "source": [
    "locations\n"
   ]
  },
  {
   "cell_type": "code",
   "execution_count": 128,
   "metadata": {},
   "outputs": [],
   "source": [
    "cdpd_labels = []\n",
    "for i in locations:\n",
    "    pat_label = [0, 0, 0, 0]\n",
    "    if type(i) != type('some_str'):\n",
    "        pat_label[0] = 1\n",
    "    else:\n",
    "        if 'MV' in i:\n",
    "            pat_label[1] = 1\n",
    "        if \"AV\" in i:\n",
    "            pat_label[2] = 1\n",
    "        if \"PV\" in i or \"Phc\" in i or \"TV\" in i:\n",
    "            pat_label[3] = 1\n",
    "    cdpd_labels.append(pat_label)"
   ]
  },
  {
   "cell_type": "code",
   "execution_count": 129,
   "metadata": {},
   "outputs": [],
   "source": [
    "del cdpd_labels[267] # [141] # [267]"
   ]
  },
  {
   "cell_type": "code",
   "execution_count": 130,
   "metadata": {},
   "outputs": [],
   "source": [
    "cdpd_labels = np.array(cdpd_labels)"
   ]
  },
  {
   "cell_type": "code",
   "execution_count": 131,
   "metadata": {},
   "outputs": [
    {
     "name": "stdout",
     "output_type": "stream",
     "text": [
      "941 941\n"
     ]
    }
   ],
   "source": [
    "print(len(cdpd_data), len(cdpd_labels))"
   ]
  },
  {
   "cell_type": "code",
   "execution_count": 132,
   "metadata": {},
   "outputs": [
    {
     "data": {
      "text/plain": [
       "array([[1, 0, 0, 0],\n",
       "       [0, 1, 1, 1],\n",
       "       [1, 0, 0, 0],\n",
       "       ...,\n",
       "       [0, 1, 0, 1],\n",
       "       [1, 0, 0, 0],\n",
       "       [1, 0, 0, 0]])"
      ]
     },
     "execution_count": 132,
     "metadata": {},
     "output_type": "execute_result"
    }
   ],
   "source": [
    "cdpd_labels"
   ]
  },
  {
   "cell_type": "code",
   "execution_count": 133,
   "metadata": {},
   "outputs": [
    {
     "data": {
      "text/plain": [
       "(941, 20)"
      ]
     },
     "execution_count": 133,
     "metadata": {},
     "output_type": "execute_result"
    }
   ],
   "source": [
    "cdpd_data.shape"
   ]
  },
  {
   "cell_type": "code",
   "execution_count": null,
   "metadata": {},
   "outputs": [],
   "source": []
  },
  {
   "cell_type": "markdown",
   "metadata": {},
   "source": [
    "## data"
   ]
  },
  {
   "cell_type": "code",
   "execution_count": 134,
   "metadata": {},
   "outputs": [],
   "source": [
    "# big_data, big_labels = cdpd_data, cdpd_labels"
   ]
  },
  {
   "cell_type": "code",
   "execution_count": 124,
   "metadata": {},
   "outputs": [],
   "source": [
    "# little_data, little_labels = cdpd_data, cdpd_labels"
   ]
  },
  {
   "cell_type": "code",
   "execution_count": 143,
   "metadata": {},
   "outputs": [],
   "source": [
    "cdpd_data, cdpd_labels = little_data, little_labels "
   ]
  },
  {
   "cell_type": "code",
   "execution_count": 144,
   "metadata": {},
   "outputs": [],
   "source": [
    "# CDPD data\n",
    "X_train, X_test, y_train, y_test = train_test_split(cdpd_data, cdpd_labels, test_size=0.2, random_state=42)\n",
    "\n",
    "scaler = StandardScaler()\n",
    "X_train_scaled = scaler.fit_transform(X_train)\n",
    "X_test_scaled = scaler.transform(X_test)"
   ]
  },
  {
   "cell_type": "code",
   "execution_count": 103,
   "metadata": {},
   "outputs": [
    {
     "data": {
      "text/plain": [
       "['./models/standard_scaler.pkl']"
      ]
     },
     "execution_count": 103,
     "metadata": {},
     "output_type": "execute_result"
    }
   ],
   "source": [
    "joblib.dump(scaler, \"./models/standard_scaler.pkl\")"
   ]
  },
  {
   "cell_type": "code",
   "execution_count": 42,
   "metadata": {},
   "outputs": [],
   "source": [
    "import matplotlib.pyplot as plt"
   ]
  },
  {
   "cell_type": "code",
   "execution_count": 104,
   "metadata": {},
   "outputs": [],
   "source": [
    "def classes_balance(data):\n",
    "    count_per_class = np.sum(data, axis=0)\n",
    "    print(\"Количество примеров с каждым классом:\")\n",
    "    for i, count in enumerate(count_per_class, 1):\n",
    "        print(f\"Класс {i}: {count}\")\n",
    "\n",
    "    # Считаем количество классов в каждом примере (суммируем по строкам)\n",
    "    class_counts_per_sample = np.sum(data, axis=1)\n",
    "\n",
    "    # Примеры с ровно 2 классами\n",
    "    count_exactly_two = np.sum(class_counts_per_sample == 2)\n",
    "    print(f\"\\nКоличество примеров с ровно 2 классами: {count_exactly_two}\")\n",
    "\n",
    "    # Примеры с 2 и более классами\n",
    "    count_two_or_more = np.sum(class_counts_per_sample >= 2)\n",
    "    print(f\"Количество примеров с 2 и более классами: {count_two_or_more}\")"
   ]
  },
  {
   "cell_type": "code",
   "execution_count": 85,
   "metadata": {},
   "outputs": [
    {
     "name": "stderr",
     "output_type": "stream",
     "text": [
      "/var/folders/bd/zdhwq3v13q12sq0_ry8dk2d80000gn/T/ipykernel_11412/503647061.py:14: FutureWarning: \n",
      "\n",
      "Passing `palette` without assigning `hue` is deprecated and will be removed in v0.14.0. Assign the `x` variable to `hue` and set `legend=False` for the same effect.\n",
      "\n",
      "  sns.barplot(x=class_labels, y=count_per_class, palette=\"viridis\")\n"
     ]
    },
    {
     "data": {
      "image/png": "[encoded data removed]",
      "text/plain": [
       "<Figure size 800x500 with 1 Axes>"
      ]
     },
     "metadata": {},
     "output_type": "display_data"
    },
    {
     "name": "stderr",
     "output_type": "stream",
     "text": [
      "/var/folders/bd/zdhwq3v13q12sq0_ry8dk2d80000gn/T/ipykernel_11412/503647061.py:22: FutureWarning: \n",
      "\n",
      "Passing `palette` without assigning `hue` is deprecated and will be removed in v0.14.0. Assign the `x` variable to `hue` and set `legend=False` for the same effect.\n",
      "\n",
      "  sns.barplot(x=[\"Ровно 2 класса\", \"2 и более классов\"],\n"
     ]
    },
    {
     "data": {
      "image/png": "[encoded data removed]",
      "text/plain": [
       "<Figure size 600x400 with 1 Axes>"
      ]
     },
     "metadata": {},
     "output_type": "display_data"
    }
   ],
   "source": [
    "# count_per_class = np.sum(y_train, axis=0)\n",
    "# class_labels = [f'Класс {i+1}' for i in range(y_train.shape[1])]\n",
    "\n",
    "# # Подсчёт количества классов на примерах\n",
    "# class_counts_per_sample = np.sum(y_train, axis=1)\n",
    "# count_exactly_two = np.sum(class_counts_per_sample == 2)\n",
    "# count_two_or_more = np.sum(class_counts_per_sample >= 2)\n",
    "\n",
    "# # Настройка стиля\n",
    "# sns.set_theme(style=\"whitegrid\")\n",
    "\n",
    "# # Рисуем столбчатую диаграмму по классам\n",
    "# plt.figure(figsize=(8,5))\n",
    "# sns.barplot(x=class_labels, y=count_per_class, palette=\"viridis\")\n",
    "# plt.title(\"Количество примеров с каждым классом\")\n",
    "# plt.ylabel(\"Количество примеров\")\n",
    "# plt.xlabel(\"Классы\")\n",
    "# plt.show()\n",
    "\n",
    "# # Рисуем отдельный график для количества примеров с 2 и более классами\n",
    "# plt.figure(figsize=(6,4))\n",
    "# sns.barplot(x=[\"Ровно 2 класса\", \"2 и более классов\"],\n",
    "#             y=[count_exactly_two, count_two_or_more],\n",
    "#             palette=\"magma\")\n",
    "# plt.title(\"Количество примеров с несколькими классами\")\n",
    "# plt.ylabel(\"Количество примеров\")\n",
    "# plt.show()"
   ]
  },
  {
   "cell_type": "code",
   "execution_count": 43,
   "metadata": {},
   "outputs": [
    {
     "data": {
      "image/png": "[encoded data removed]",
      "text/plain": [
       "<Figure size 640x480 with 1 Axes>"
      ]
     },
     "metadata": {},
     "output_type": "display_data"
    }
   ],
   "source": [
    "counts = y_train.sum(axis=0)\n",
    "\n",
    "# Создаём подписи классов (если есть)\n",
    "class_labels = [f'Class {i}' for i in range(1, y_train.shape[1] + 1)]\n",
    "\n",
    "# Строим столбчатую диаграмму\n",
    "plt.bar(class_labels, counts)\n",
    "plt.xlabel('Классы')\n",
    "plt.ylabel('Количество элементов')\n",
    "plt.title('Распределение элементов по классам')\n",
    "plt.show()"
   ]
  },
  {
   "cell_type": "code",
   "execution_count": 44,
   "metadata": {},
   "outputs": [
    {
     "data": {
      "image/png": "[encoded data removed]",
      "text/plain": [
       "<Figure size 640x480 with 1 Axes>"
      ]
     },
     "metadata": {},
     "output_type": "display_data"
    }
   ],
   "source": [
    "counts = y_test.sum(axis=0)\n",
    "\n",
    "# Создаём подписи классов (если есть)\n",
    "class_labels = [f'Class {i}' for i in range(1, y_test.shape[1] + 1)]\n",
    "\n",
    "# Строим столбчатую диаграмму\n",
    "plt.bar(class_labels, counts)\n",
    "plt.xlabel('Классы')\n",
    "plt.ylabel('Количество элементов')\n",
    "plt.title('Распределение элементов по классам')\n",
    "plt.show()"
   ]
  },
  {
   "cell_type": "code",
   "execution_count": 145,
   "metadata": {},
   "outputs": [
    {
     "name": "stdout",
     "output_type": "stream",
     "text": [
      "Новые размеры тестовых данных:\n",
      "for full cdpd test:  (475, 20) (119, 20)\n",
      "X_test shape: (119, 20)\n",
      "y_test shape: (119, 4)\n",
      "X_test_cdatest shape: (170, 20)\n",
      "y_test_cdatest shape: (170, 4)\n"
     ]
    }
   ],
   "source": [
    "# Добавление cda в тестовую выборку\n",
    "\n",
    "X_test_cdatest = np.vstack((X_test, cda))\n",
    "y_test_cdatest = np.concatenate((y_test, cda_labels))\n",
    "\n",
    "X_test_scaled_cdatest = scaler.transform(X_test_cdatest)\n",
    "\n",
    "print(\"Новые размеры тестовых данных:\")\n",
    "print('for full cdpd test: ', X_train_scaled.shape, X_test_scaled.shape, )\n",
    "print(f\"X_test shape: {X_test.shape}\")\n",
    "print(f\"y_test shape: {y_test.shape}\")\n",
    "print(f\"X_test_cdatest shape: {X_test_cdatest.shape}\")\n",
    "print(f\"y_test_cdatest shape: {y_test_cdatest.shape}\")"
   ]
  },
  {
   "cell_type": "code",
   "execution_count": 146,
   "metadata": {},
   "outputs": [],
   "source": [
    "# cdpd cda train test\n",
    "X_train_cda, X_test_cda, y_train_cda, y_test_cda = train_test_split(cda, cda_labels, test_size=0.2, random_state=42)\n",
    "\n",
    "\n",
    "X_train_cdpd_cda = np.vstack((X_train, X_train_cda))\n",
    "y_train_cdpd_cda = np.concatenate((y_train, y_train_cda))\n",
    "X_test_cdpd_cda = np.vstack((X_test, X_test_cda))\n",
    "y_test_cdpd_cda = np.concatenate((y_test, y_test_cda))\n",
    "\n",
    "scaler = StandardScaler()\n",
    "X_train_scaled_cdpd_cda = scaler.fit_transform(X_train_cdpd_cda)\n",
    "X_test_scaled_cdpd_cda = scaler.transform(X_test_cdpd_cda)"
   ]
  },
  {
   "cell_type": "code",
   "execution_count": 147,
   "metadata": {},
   "outputs": [
    {
     "name": "stdout",
     "output_type": "stream",
     "text": [
      "Количество примеров с каждым классом:\n",
      "Класс 1: 382\n",
      "Класс 2: 112\n",
      "Класс 3: 82\n",
      "Класс 4: 124\n",
      "\n",
      "Количество примеров с ровно 2 классами: 47\n",
      "Количество примеров с 2 и более классами: 116\n"
     ]
    }
   ],
   "source": [
    "classes_balance(y_train_cdpd_cda)"
   ]
  },
  {
   "cell_type": "code",
   "execution_count": 148,
   "metadata": {},
   "outputs": [
    {
     "name": "stdout",
     "output_type": "stream",
     "text": [
      "Количество примеров с каждым классом:\n",
      "Класс 1: 94\n",
      "Класс 2: 31\n",
      "Класс 3: 14\n",
      "Класс 4: 31\n",
      "\n",
      "Количество примеров с ровно 2 классами: 14\n",
      "Количество примеров с 2 и более классами: 27\n"
     ]
    }
   ],
   "source": [
    "classes_balance(y_test_cdpd_cda)"
   ]
  },
  {
   "cell_type": "code",
   "execution_count": 149,
   "metadata": {},
   "outputs": [
    {
     "data": {
      "image/png": "[encoded data removed]",
      "text/plain": [
       "<Figure size 640x480 with 1 Axes>"
      ]
     },
     "metadata": {},
     "output_type": "display_data"
    }
   ],
   "source": [
    "counts = y_train_cdpd_cda.sum(axis=0)\n",
    "\n",
    "# Создаём подписи классов (если есть)\n",
    "class_labels = [f'Class {i}' for i in range(1, y_test.shape[1] + 1)]\n",
    "\n",
    "# Строим столбчатую диаграмму\n",
    "plt.bar(class_labels, counts)\n",
    "plt.xlabel('Классы')\n",
    "plt.ylabel('Количество элементов')\n",
    "plt.title('Распределение элементов по классам')\n",
    "plt.show()"
   ]
  },
  {
   "cell_type": "code",
   "execution_count": 150,
   "metadata": {},
   "outputs": [
    {
     "data": {
      "text/plain": [
       "['./models/multilabel_standard_scaler.pkl']"
      ]
     },
     "execution_count": 150,
     "metadata": {},
     "output_type": "execute_result"
    }
   ],
   "source": [
    "joblib.dump(scaler, \"./models/multilabel_standard_scaler.pkl\")"
   ]
  },
  {
   "cell_type": "markdown",
   "metadata": {},
   "source": [
    "## models"
   ]
  },
  {
   "cell_type": "code",
   "execution_count": 151,
   "metadata": {},
   "outputs": [],
   "source": [
    "import numpy as np\n",
    "from sklearn.model_selection import train_test_split, GridSearchCV\n",
    "from sklearn.preprocessing import StandardScaler\n",
    "from sklearn.metrics import accuracy_score, f1_score, precision_score, recall_score, confusion_matrix, make_scorer\n",
    "from sklearn.multioutput import MultiOutputClassifier\n",
    "from sklearn.ensemble import RandomForestClassifier, GradientBoostingClassifier\n",
    "from sklearn.linear_model import LogisticRegression\n",
    "from sklearn.svm import SVC\n",
    "import joblib\n",
    "import torch\n",
    "import torch.nn as nn\n",
    "from torch.utils.data import DataLoader, TensorDataset\n",
    "import torch.optim as optim"
   ]
  },
  {
   "cell_type": "code",
   "execution_count": 112,
   "metadata": {},
   "outputs": [],
   "source": [
    "import numpy as np\n",
    "import matplotlib.pyplot as plt\n",
    "import seaborn as sns\n",
    "from sklearn.metrics import multilabel_confusion_matrix\n",
    "\n",
    "def show_matrix(mcm, class_names):\n",
    "    n_classes = len(class_names)\n",
    "    n_cols = 2\n",
    "    n_rows = (n_classes + n_cols - 1) // n_cols  # округление вверх\n",
    "\n",
    "    fig, axes = plt.subplots(n_rows, n_cols, figsize=(10, 4 * n_rows))\n",
    "\n",
    "    # Если axes двумерный, преобразуем в 1D для удобства итерации\n",
    "    axes = axes.flatten() if n_classes > 1 else [axes]\n",
    "\n",
    "    for i, (cm, label) in enumerate(zip(mcm, class_names)):\n",
    "        sns.heatmap(cm, annot=True, fmt='d', cmap='Blues', cbar=False,\n",
    "                    xticklabels=['Pred 0', 'Pred 1'],\n",
    "                    yticklabels=['True 0', 'True 1'],\n",
    "                    ax=axes[i])\n",
    "        axes[i].set_title(f'Confusion Matrix for {label}')\n",
    "        axes[i].set_xlabel('Predicted label')\n",
    "        axes[i].set_ylabel('True label')\n",
    "\n",
    "    # Скрываем пустые подграфики, если классов нечётное число\n",
    "    for j in range(i + 1, len(axes)):\n",
    "        fig.delaxes(axes[j])\n",
    "\n",
    "    plt.tight_layout()\n",
    "    plt.show()\n"
   ]
  },
  {
   "cell_type": "code",
   "execution_count": 113,
   "metadata": {},
   "outputs": [],
   "source": [
    "def specificity_score(y_true, y_pred):\n",
    "    cm = confusion_matrix(y_true.ravel(), y_pred.ravel())\n",
    "    tn = cm[0, 0]\n",
    "    fp = cm[0, 1]\n",
    "    return tn / (tn + fp)\n",
    "\n",
    "def get_metrics(y_true, y_pred):\n",
    "    return {\n",
    "        \"accuracy\": accuracy_score(y_true, y_pred),\n",
    "        \"f1\": f1_score(y_true, y_pred, average='weighted'),\n",
    "        \"precision\": precision_score(y_true, y_pred, average='weighted'),\n",
    "        \"recall\": recall_score(y_true, y_pred, average='weighted'),\n",
    "        \"specificity\": specificity_score(y_true, y_pred),\n",
    "    },  multilabel_confusion_matrix(y_true, y_pred)"
   ]
  },
  {
   "cell_type": "code",
   "execution_count": 114,
   "metadata": {},
   "outputs": [],
   "source": [
    "param_grids = {\n",
    "    'LogisticRegression': {'C': [0.1, 1, 10], 'penalty': ['l1', 'l2']},\n",
    "    \"RandomForest\": {\"estimator__n_estimators\": [100, 200]},\n",
    "    \"GradientBoosting\": {\"estimator__n_estimators\": [100], \"estimator__learning_rate\": [0.1, 0.05]},\n",
    "    \"LogisticRegression\": {\"estimator__C\": [1.0, 0.1]},\n",
    "    \"SVM\": {\"estimator__C\": [1.0], \"estimator__kernel\": ['linear', 'rbf']},\n",
    "}\n",
    "\n",
    "base_models = {\n",
    "    'LogisticRegression':  LogisticRegression(max_iter=1000, random_state=42),\n",
    "    \"RandomForest\": RandomForestClassifier(random_state=42),\n",
    "    \"GradientBoosting\": GradientBoostingClassifier(random_state=42),\n",
    "    \"LogisticRegression\": LogisticRegression(max_iter=1000, random_state=42),\n",
    "    \"SVM\": SVC(probability=True, random_state=42),\n",
    "}"
   ]
  },
  {
   "cell_type": "code",
   "execution_count": 115,
   "metadata": {},
   "outputs": [],
   "source": [
    "def train(X_train_scaled, X_test_scaled, y_train, y_test, experiment=''):\n",
    "    results = {}\n",
    "    matrixes = {}\n",
    "    for name, model in base_models.items():\n",
    "        print(f\"Training {name}...\")\n",
    "        grid = GridSearchCV(\n",
    "            MultiOutputClassifier(model),\n",
    "            param_grid=param_grids[name],\n",
    "            scoring=make_scorer(f1_score, average='weighted'),\n",
    "            cv=3\n",
    "        )\n",
    "        grid.fit(X_train_scaled, y_train)\n",
    "        best_model = grid.best_estimator_\n",
    "        y_pred = best_model.predict(X_test_scaled)\n",
    "        results[name], matrixes[name] = get_metrics(y_test, y_pred)\n",
    "        joblib.dump(best_model, f\"./models/multilabel_{experiment}_{name}_best_model.pkl\")\n",
    "    return pd.DataFrame(results), matrixes\n",
    "\n"
   ]
  },
  {
   "cell_type": "markdown",
   "metadata": {},
   "source": [
    "## full cdpd"
   ]
  },
  {
   "cell_type": "code",
   "execution_count": 118,
   "metadata": {},
   "outputs": [
    {
     "name": "stdout",
     "output_type": "stream",
     "text": [
      "Training LogisticRegression...\n",
      "Training RandomForest...\n",
      "Training GradientBoosting...\n",
      "Training SVM...\n"
     ]
    }
   ],
   "source": [
    "results, matrixes_cdpd = train(X_train_scaled, X_test_scaled, y_train, y_test, experiment='cdpd')"
   ]
  },
  {
   "cell_type": "code",
   "execution_count": 119,
   "metadata": {},
   "outputs": [
    {
     "data": {
      "text/html": [
       "<div>\n",
       "<style scoped>\n",
       "    .dataframe tbody tr th:only-of-type {\n",
       "        vertical-align: middle;\n",
       "    }\n",
       "\n",
       "    .dataframe tbody tr th {\n",
       "        vertical-align: top;\n",
       "    }\n",
       "\n",
       "    .dataframe thead th {\n",
       "        text-align: right;\n",
       "    }\n",
       "</style>\n",
       "<table border=\"1\" class=\"dataframe\">\n",
       "  <thead>\n",
       "    <tr style=\"text-align: right;\">\n",
       "      <th></th>\n",
       "      <th>LogisticRegression</th>\n",
       "      <th>RandomForest</th>\n",
       "      <th>GradientBoosting</th>\n",
       "      <th>SVM</th>\n",
       "    </tr>\n",
       "  </thead>\n",
       "  <tbody>\n",
       "    <tr>\n",
       "      <th>accuracy</th>\n",
       "      <td>0.798319</td>\n",
       "      <td>0.781513</td>\n",
       "      <td>0.722689</td>\n",
       "      <td>0.815126</td>\n",
       "    </tr>\n",
       "    <tr>\n",
       "      <th>f1</th>\n",
       "      <td>0.754758</td>\n",
       "      <td>0.692125</td>\n",
       "      <td>0.708596</td>\n",
       "      <td>0.748827</td>\n",
       "    </tr>\n",
       "    <tr>\n",
       "      <th>precision</th>\n",
       "      <td>0.831504</td>\n",
       "      <td>0.758678</td>\n",
       "      <td>0.729668</td>\n",
       "      <td>0.862905</td>\n",
       "    </tr>\n",
       "    <tr>\n",
       "      <th>recall</th>\n",
       "      <td>0.746667</td>\n",
       "      <td>0.700000</td>\n",
       "      <td>0.713333</td>\n",
       "      <td>0.746667</td>\n",
       "    </tr>\n",
       "    <tr>\n",
       "      <th>specificity</th>\n",
       "      <td>0.935583</td>\n",
       "      <td>0.914110</td>\n",
       "      <td>0.898773</td>\n",
       "      <td>0.938650</td>\n",
       "    </tr>\n",
       "  </tbody>\n",
       "</table>\n",
       "</div>"
      ],
      "text/plain": [
       "             LogisticRegression  RandomForest  GradientBoosting       SVM\n",
       "accuracy               0.798319      0.781513          0.722689  0.815126\n",
       "f1                     0.754758      0.692125          0.708596  0.748827\n",
       "precision              0.831504      0.758678          0.729668  0.862905\n",
       "recall                 0.746667      0.700000          0.713333  0.746667\n",
       "specificity            0.935583      0.914110          0.898773  0.938650"
      ]
     },
     "execution_count": 119,
     "metadata": {},
     "output_type": "execute_result"
    }
   ],
   "source": [
    "# с отобранными по локациям данными правильными\n",
    "results"
   ]
  },
  {
   "cell_type": "code",
   "execution_count": 52,
   "metadata": {},
   "outputs": [
    {
     "data": {
      "text/html": [
       "<div>\n",
       "<style scoped>\n",
       "    .dataframe tbody tr th:only-of-type {\n",
       "        vertical-align: middle;\n",
       "    }\n",
       "\n",
       "    .dataframe tbody tr th {\n",
       "        vertical-align: top;\n",
       "    }\n",
       "\n",
       "    .dataframe thead th {\n",
       "        text-align: right;\n",
       "    }\n",
       "</style>\n",
       "<table border=\"1\" class=\"dataframe\">\n",
       "  <thead>\n",
       "    <tr style=\"text-align: right;\">\n",
       "      <th></th>\n",
       "      <th>LogisticRegression</th>\n",
       "      <th>RandomForest</th>\n",
       "      <th>GradientBoosting</th>\n",
       "      <th>SVM</th>\n",
       "    </tr>\n",
       "  </thead>\n",
       "  <tbody>\n",
       "    <tr>\n",
       "      <th>accuracy</th>\n",
       "      <td>0.815126</td>\n",
       "      <td>0.806723</td>\n",
       "      <td>0.773109</td>\n",
       "      <td>0.831933</td>\n",
       "    </tr>\n",
       "    <tr>\n",
       "      <th>f1</th>\n",
       "      <td>0.791556</td>\n",
       "      <td>0.769370</td>\n",
       "      <td>0.777522</td>\n",
       "      <td>0.795591</td>\n",
       "    </tr>\n",
       "    <tr>\n",
       "      <th>precision</th>\n",
       "      <td>0.798942</td>\n",
       "      <td>0.793532</td>\n",
       "      <td>0.761104</td>\n",
       "      <td>0.807023</td>\n",
       "    </tr>\n",
       "    <tr>\n",
       "      <th>recall</th>\n",
       "      <td>0.823529</td>\n",
       "      <td>0.806723</td>\n",
       "      <td>0.806723</td>\n",
       "      <td>0.840336</td>\n",
       "    </tr>\n",
       "    <tr>\n",
       "      <th>specificity</th>\n",
       "      <td>0.949580</td>\n",
       "      <td>0.943978</td>\n",
       "      <td>0.941176</td>\n",
       "      <td>0.946779</td>\n",
       "    </tr>\n",
       "  </tbody>\n",
       "</table>\n",
       "</div>"
      ],
      "text/plain": [
       "             LogisticRegression  RandomForest  GradientBoosting       SVM\n",
       "accuracy               0.815126      0.806723          0.773109  0.831933\n",
       "f1                     0.791556      0.769370          0.777522  0.795591\n",
       "precision              0.798942      0.793532          0.761104  0.807023\n",
       "recall                 0.823529      0.806723          0.806723  0.840336\n",
       "specificity            0.949580      0.943978          0.941176  0.946779"
      ]
     },
     "execution_count": 52,
     "metadata": {},
     "output_type": "execute_result"
    }
   ],
   "source": [
    "# с отобранными по локациям данными\n",
    "results"
   ]
  },
  {
   "cell_type": "code",
   "execution_count": null,
   "metadata": {},
   "outputs": [
    {
     "data": {
      "text/html": [
       "<div>\n",
       "<style scoped>\n",
       "    .dataframe tbody tr th:only-of-type {\n",
       "        vertical-align: middle;\n",
       "    }\n",
       "\n",
       "    .dataframe tbody tr th {\n",
       "        vertical-align: top;\n",
       "    }\n",
       "\n",
       "    .dataframe thead th {\n",
       "        text-align: right;\n",
       "    }\n",
       "</style>\n",
       "<table border=\"1\" class=\"dataframe\">\n",
       "  <thead>\n",
       "    <tr style=\"text-align: right;\">\n",
       "      <th></th>\n",
       "      <th>LogisticRegression</th>\n",
       "      <th>RandomForest</th>\n",
       "      <th>GradientBoosting</th>\n",
       "      <th>SVM</th>\n",
       "    </tr>\n",
       "  </thead>\n",
       "  <tbody>\n",
       "    <tr>\n",
       "      <th>accuracy</th>\n",
       "      <td>0.809524</td>\n",
       "      <td>0.798942</td>\n",
       "      <td>0.798942</td>\n",
       "      <td>0.809524</td>\n",
       "    </tr>\n",
       "    <tr>\n",
       "      <th>f1</th>\n",
       "      <td>0.319519</td>\n",
       "      <td>0.296090</td>\n",
       "      <td>0.341331</td>\n",
       "      <td>0.285004</td>\n",
       "    </tr>\n",
       "    <tr>\n",
       "      <th>precision</th>\n",
       "      <td>0.424306</td>\n",
       "      <td>0.453911</td>\n",
       "      <td>0.456897</td>\n",
       "      <td>0.453552</td>\n",
       "    </tr>\n",
       "    <tr>\n",
       "      <th>recall</th>\n",
       "      <td>0.308667</td>\n",
       "      <td>0.288070</td>\n",
       "      <td>0.319197</td>\n",
       "      <td>0.284483</td>\n",
       "    </tr>\n",
       "    <tr>\n",
       "      <th>specificity</th>\n",
       "      <td>0.941799</td>\n",
       "      <td>0.941799</td>\n",
       "      <td>0.941799</td>\n",
       "      <td>0.940035</td>\n",
       "    </tr>\n",
       "  </tbody>\n",
       "</table>\n",
       "</div>"
      ],
      "text/plain": [
       "             LogisticRegression  RandomForest  GradientBoosting       SVM\n",
       "accuracy               0.809524      0.798942          0.798942  0.809524\n",
       "f1                     0.319519      0.296090          0.341331  0.285004\n",
       "precision              0.424306      0.453911          0.456897  0.453552\n",
       "recall                 0.308667      0.288070          0.319197  0.284483\n",
       "specificity            0.941799      0.941799          0.941799  0.940035"
      ]
     },
     "execution_count": 119,
     "metadata": {},
     "output_type": "execute_result"
    }
   ],
   "source": [
    "# со всеми данными\n",
    "results"
   ]
  },
  {
   "cell_type": "markdown",
   "metadata": {},
   "source": [
    "## cdpd + cda test"
   ]
  },
  {
   "cell_type": "code",
   "execution_count": 120,
   "metadata": {},
   "outputs": [
    {
     "name": "stdout",
     "output_type": "stream",
     "text": [
      "Training LogisticRegression...\n",
      "Training RandomForest...\n",
      "Training GradientBoosting...\n",
      "Training SVM...\n"
     ]
    }
   ],
   "source": [
    "results_cdpd_cdatest, matrixes_cdatest = train(X_train_scaled, X_test_scaled_cdatest, y_train, y_test_cdatest, experiment='cdpd_cdatest')"
   ]
  },
  {
   "cell_type": "code",
   "execution_count": 121,
   "metadata": {},
   "outputs": [
    {
     "data": {
      "text/html": [
       "<div>\n",
       "<style scoped>\n",
       "    .dataframe tbody tr th:only-of-type {\n",
       "        vertical-align: middle;\n",
       "    }\n",
       "\n",
       "    .dataframe tbody tr th {\n",
       "        vertical-align: top;\n",
       "    }\n",
       "\n",
       "    .dataframe thead th {\n",
       "        text-align: right;\n",
       "    }\n",
       "</style>\n",
       "<table border=\"1\" class=\"dataframe\">\n",
       "  <thead>\n",
       "    <tr style=\"text-align: right;\">\n",
       "      <th></th>\n",
       "      <th>LogisticRegression</th>\n",
       "      <th>RandomForest</th>\n",
       "      <th>GradientBoosting</th>\n",
       "      <th>SVM</th>\n",
       "    </tr>\n",
       "  </thead>\n",
       "  <tbody>\n",
       "    <tr>\n",
       "      <th>accuracy</th>\n",
       "      <td>0.576471</td>\n",
       "      <td>0.552941</td>\n",
       "      <td>0.511765</td>\n",
       "      <td>0.588235</td>\n",
       "    </tr>\n",
       "    <tr>\n",
       "      <th>f1</th>\n",
       "      <td>0.424400</td>\n",
       "      <td>0.431950</td>\n",
       "      <td>0.415274</td>\n",
       "      <td>0.416214</td>\n",
       "    </tr>\n",
       "    <tr>\n",
       "      <th>precision</th>\n",
       "      <td>0.700624</td>\n",
       "      <td>0.604308</td>\n",
       "      <td>0.559735</td>\n",
       "      <td>0.784610</td>\n",
       "    </tr>\n",
       "    <tr>\n",
       "      <th>recall</th>\n",
       "      <td>0.460000</td>\n",
       "      <td>0.472000</td>\n",
       "      <td>0.468000</td>\n",
       "      <td>0.460000</td>\n",
       "    </tr>\n",
       "    <tr>\n",
       "      <th>specificity</th>\n",
       "      <td>0.839535</td>\n",
       "      <td>0.788372</td>\n",
       "      <td>0.762791</td>\n",
       "      <td>0.841860</td>\n",
       "    </tr>\n",
       "  </tbody>\n",
       "</table>\n",
       "</div>"
      ],
      "text/plain": [
       "             LogisticRegression  RandomForest  GradientBoosting       SVM\n",
       "accuracy               0.576471      0.552941          0.511765  0.588235\n",
       "f1                     0.424400      0.431950          0.415274  0.416214\n",
       "precision              0.700624      0.604308          0.559735  0.784610\n",
       "recall                 0.460000      0.472000          0.468000  0.460000\n",
       "specificity            0.839535      0.788372          0.762791  0.841860"
      ]
     },
     "execution_count": 121,
     "metadata": {},
     "output_type": "execute_result"
    }
   ],
   "source": [
    "# с отобранными по локациям данными правильными\n",
    "results_cdpd_cdatest"
   ]
  },
  {
   "cell_type": "code",
   "execution_count": 54,
   "metadata": {},
   "outputs": [
    {
     "data": {
      "text/html": [
       "<div>\n",
       "<style scoped>\n",
       "    .dataframe tbody tr th:only-of-type {\n",
       "        vertical-align: middle;\n",
       "    }\n",
       "\n",
       "    .dataframe tbody tr th {\n",
       "        vertical-align: top;\n",
       "    }\n",
       "\n",
       "    .dataframe thead th {\n",
       "        text-align: right;\n",
       "    }\n",
       "</style>\n",
       "<table border=\"1\" class=\"dataframe\">\n",
       "  <thead>\n",
       "    <tr style=\"text-align: right;\">\n",
       "      <th></th>\n",
       "      <th>LogisticRegression</th>\n",
       "      <th>RandomForest</th>\n",
       "      <th>GradientBoosting</th>\n",
       "      <th>SVM</th>\n",
       "    </tr>\n",
       "  </thead>\n",
       "  <tbody>\n",
       "    <tr>\n",
       "      <th>accuracy</th>\n",
       "      <td>0.588235</td>\n",
       "      <td>0.576471</td>\n",
       "      <td>0.541176</td>\n",
       "      <td>0.600000</td>\n",
       "    </tr>\n",
       "    <tr>\n",
       "      <th>f1</th>\n",
       "      <td>0.488203</td>\n",
       "      <td>0.511619</td>\n",
       "      <td>0.483136</td>\n",
       "      <td>0.489658</td>\n",
       "    </tr>\n",
       "    <tr>\n",
       "      <th>precision</th>\n",
       "      <td>0.638663</td>\n",
       "      <td>0.661924</td>\n",
       "      <td>0.541866</td>\n",
       "      <td>0.677368</td>\n",
       "    </tr>\n",
       "    <tr>\n",
       "      <th>recall</th>\n",
       "      <td>0.594118</td>\n",
       "      <td>0.605882</td>\n",
       "      <td>0.588235</td>\n",
       "      <td>0.605882</td>\n",
       "    </tr>\n",
       "    <tr>\n",
       "      <th>specificity</th>\n",
       "      <td>0.870588</td>\n",
       "      <td>0.870588</td>\n",
       "      <td>0.770588</td>\n",
       "      <td>0.868627</td>\n",
       "    </tr>\n",
       "  </tbody>\n",
       "</table>\n",
       "</div>"
      ],
      "text/plain": [
       "             LogisticRegression  RandomForest  GradientBoosting       SVM\n",
       "accuracy               0.588235      0.576471          0.541176  0.600000\n",
       "f1                     0.488203      0.511619          0.483136  0.489658\n",
       "precision              0.638663      0.661924          0.541866  0.677368\n",
       "recall                 0.594118      0.605882          0.588235  0.605882\n",
       "specificity            0.870588      0.870588          0.770588  0.868627"
      ]
     },
     "execution_count": 54,
     "metadata": {},
     "output_type": "execute_result"
    }
   ],
   "source": [
    "# с отобранными по локациям данными\n",
    "results_cdpd_cdatest"
   ]
  },
  {
   "cell_type": "code",
   "execution_count": null,
   "metadata": {},
   "outputs": [
    {
     "data": {
      "text/html": [
       "<div>\n",
       "<style scoped>\n",
       "    .dataframe tbody tr th:only-of-type {\n",
       "        vertical-align: middle;\n",
       "    }\n",
       "\n",
       "    .dataframe tbody tr th {\n",
       "        vertical-align: top;\n",
       "    }\n",
       "\n",
       "    .dataframe thead th {\n",
       "        text-align: right;\n",
       "    }\n",
       "</style>\n",
       "<table border=\"1\" class=\"dataframe\">\n",
       "  <thead>\n",
       "    <tr style=\"text-align: right;\">\n",
       "      <th></th>\n",
       "      <th>LogisticRegression</th>\n",
       "      <th>RandomForest</th>\n",
       "      <th>GradientBoosting</th>\n",
       "      <th>SVM</th>\n",
       "    </tr>\n",
       "  </thead>\n",
       "  <tbody>\n",
       "    <tr>\n",
       "      <th>accuracy</th>\n",
       "      <td>0.809524</td>\n",
       "      <td>0.798942</td>\n",
       "      <td>0.798942</td>\n",
       "      <td>0.809524</td>\n",
       "    </tr>\n",
       "    <tr>\n",
       "      <th>f1</th>\n",
       "      <td>0.319519</td>\n",
       "      <td>0.296090</td>\n",
       "      <td>0.341331</td>\n",
       "      <td>0.285004</td>\n",
       "    </tr>\n",
       "    <tr>\n",
       "      <th>precision</th>\n",
       "      <td>0.424306</td>\n",
       "      <td>0.453911</td>\n",
       "      <td>0.456897</td>\n",
       "      <td>0.453552</td>\n",
       "    </tr>\n",
       "    <tr>\n",
       "      <th>recall</th>\n",
       "      <td>0.308667</td>\n",
       "      <td>0.288070</td>\n",
       "      <td>0.319197</td>\n",
       "      <td>0.284483</td>\n",
       "    </tr>\n",
       "    <tr>\n",
       "      <th>specificity</th>\n",
       "      <td>0.941799</td>\n",
       "      <td>0.941799</td>\n",
       "      <td>0.941799</td>\n",
       "      <td>0.940035</td>\n",
       "    </tr>\n",
       "  </tbody>\n",
       "</table>\n",
       "</div>"
      ],
      "text/plain": [
       "             LogisticRegression  RandomForest  GradientBoosting       SVM\n",
       "accuracy               0.809524      0.798942          0.798942  0.809524\n",
       "f1                     0.319519      0.296090          0.341331  0.285004\n",
       "precision              0.424306      0.453911          0.456897  0.453552\n",
       "recall                 0.308667      0.288070          0.319197  0.284483\n",
       "specificity            0.941799      0.941799          0.941799  0.940035"
      ]
     },
     "execution_count": 121,
     "metadata": {},
     "output_type": "execute_result"
    }
   ],
   "source": [
    "# со всеми данными\n",
    "results_cdpd_cdatest"
   ]
  },
  {
   "cell_type": "markdown",
   "metadata": {},
   "source": [
    "## cdpd cda full"
   ]
  },
  {
   "cell_type": "code",
   "execution_count": 152,
   "metadata": {},
   "outputs": [
    {
     "name": "stdout",
     "output_type": "stream",
     "text": [
      "Training LogisticRegression...\n",
      "Training RandomForest...\n",
      "Training GradientBoosting...\n",
      "Training SVM...\n"
     ]
    }
   ],
   "source": [
    "results_cdpd_cda, matrixes = train(X_train_scaled_cdpd_cda, X_test_scaled_cdpd_cda, y_train_cdpd_cda, y_test_cdpd_cda, experiment='cdpd_cda')"
   ]
  },
  {
   "cell_type": "code",
   "execution_count": 141,
   "metadata": {},
   "outputs": [
    {
     "data": {
      "text/html": [
       "<div>\n",
       "<style scoped>\n",
       "    .dataframe tbody tr th:only-of-type {\n",
       "        vertical-align: middle;\n",
       "    }\n",
       "\n",
       "    .dataframe tbody tr th {\n",
       "        vertical-align: top;\n",
       "    }\n",
       "\n",
       "    .dataframe thead th {\n",
       "        text-align: right;\n",
       "    }\n",
       "</style>\n",
       "<table border=\"1\" class=\"dataframe\">\n",
       "  <thead>\n",
       "    <tr style=\"text-align: right;\">\n",
       "      <th></th>\n",
       "      <th>LogisticRegression</th>\n",
       "      <th>RandomForest</th>\n",
       "      <th>GradientBoosting</th>\n",
       "      <th>SVM</th>\n",
       "    </tr>\n",
       "  </thead>\n",
       "  <tbody>\n",
       "    <tr>\n",
       "      <th>accuracy</th>\n",
       "      <td>0.760000</td>\n",
       "      <td>0.775000</td>\n",
       "      <td>0.750000</td>\n",
       "      <td>0.780000</td>\n",
       "    </tr>\n",
       "    <tr>\n",
       "      <th>f1</th>\n",
       "      <td>0.661618</td>\n",
       "      <td>0.701543</td>\n",
       "      <td>0.705447</td>\n",
       "      <td>0.666563</td>\n",
       "    </tr>\n",
       "    <tr>\n",
       "      <th>precision</th>\n",
       "      <td>0.772174</td>\n",
       "      <td>0.833645</td>\n",
       "      <td>0.779425</td>\n",
       "      <td>0.753372</td>\n",
       "    </tr>\n",
       "    <tr>\n",
       "      <th>recall</th>\n",
       "      <td>0.669323</td>\n",
       "      <td>0.701195</td>\n",
       "      <td>0.709163</td>\n",
       "      <td>0.685259</td>\n",
       "    </tr>\n",
       "    <tr>\n",
       "      <th>specificity</th>\n",
       "      <td>0.923497</td>\n",
       "      <td>0.930783</td>\n",
       "      <td>0.921676</td>\n",
       "      <td>0.928962</td>\n",
       "    </tr>\n",
       "  </tbody>\n",
       "</table>\n",
       "</div>"
      ],
      "text/plain": [
       "             LogisticRegression  RandomForest  GradientBoosting       SVM\n",
       "accuracy               0.760000      0.775000          0.750000  0.780000\n",
       "f1                     0.661618      0.701543          0.705447  0.666563\n",
       "precision              0.772174      0.833645          0.779425  0.753372\n",
       "recall                 0.669323      0.701195          0.709163  0.685259\n",
       "specificity            0.923497      0.930783          0.921676  0.928962"
      ]
     },
     "execution_count": 141,
     "metadata": {},
     "output_type": "execute_result"
    }
   ],
   "source": [
    "# со всеми данными правильными данными\n",
    "results_cdpd_cda"
   ]
  },
  {
   "cell_type": "code",
   "execution_count": 142,
   "metadata": {},
   "outputs": [
    {
     "data": {
      "image/png": "[encoded data removed]",
      "text/plain": [
       "<Figure size 1000x800 with 4 Axes>"
      ]
     },
     "metadata": {},
     "output_type": "display_data"
    }
   ],
   "source": [
    "# со всеми данными правильными данными\n",
    "show_matrix(matrixes['GradientBoosting'], ['Norm', 'MK patology', 'AK patology', 'other patology'])"
   ]
  },
  {
   "cell_type": "code",
   "execution_count": 122,
   "metadata": {},
   "outputs": [
    {
     "data": {
      "text/html": [
       "<div>\n",
       "<style scoped>\n",
       "    .dataframe tbody tr th:only-of-type {\n",
       "        vertical-align: middle;\n",
       "    }\n",
       "\n",
       "    .dataframe tbody tr th {\n",
       "        vertical-align: top;\n",
       "    }\n",
       "\n",
       "    .dataframe thead th {\n",
       "        text-align: right;\n",
       "    }\n",
       "</style>\n",
       "<table border=\"1\" class=\"dataframe\">\n",
       "  <thead>\n",
       "    <tr style=\"text-align: right;\">\n",
       "      <th></th>\n",
       "      <th>LogisticRegression</th>\n",
       "      <th>RandomForest</th>\n",
       "      <th>GradientBoosting</th>\n",
       "      <th>SVM</th>\n",
       "    </tr>\n",
       "  </thead>\n",
       "  <tbody>\n",
       "    <tr>\n",
       "      <th>accuracy</th>\n",
       "      <td>0.769231</td>\n",
       "      <td>0.746154</td>\n",
       "      <td>0.707692</td>\n",
       "      <td>0.761538</td>\n",
       "    </tr>\n",
       "    <tr>\n",
       "      <th>f1</th>\n",
       "      <td>0.759088</td>\n",
       "      <td>0.710983</td>\n",
       "      <td>0.755922</td>\n",
       "      <td>0.713968</td>\n",
       "    </tr>\n",
       "    <tr>\n",
       "      <th>precision</th>\n",
       "      <td>0.830435</td>\n",
       "      <td>0.772518</td>\n",
       "      <td>0.780758</td>\n",
       "      <td>0.745546</td>\n",
       "    </tr>\n",
       "    <tr>\n",
       "      <th>recall</th>\n",
       "      <td>0.735294</td>\n",
       "      <td>0.694118</td>\n",
       "      <td>0.747059</td>\n",
       "      <td>0.711765</td>\n",
       "    </tr>\n",
       "    <tr>\n",
       "      <th>specificity</th>\n",
       "      <td>0.931429</td>\n",
       "      <td>0.911429</td>\n",
       "      <td>0.900000</td>\n",
       "      <td>0.897143</td>\n",
       "    </tr>\n",
       "  </tbody>\n",
       "</table>\n",
       "</div>"
      ],
      "text/plain": [
       "             LogisticRegression  RandomForest  GradientBoosting       SVM\n",
       "accuracy               0.769231      0.746154          0.707692  0.761538\n",
       "f1                     0.759088      0.710983          0.755922  0.713968\n",
       "precision              0.830435      0.772518          0.780758  0.745546\n",
       "recall                 0.735294      0.694118          0.747059  0.711765\n",
       "specificity            0.931429      0.911429          0.900000  0.897143"
      ]
     },
     "execution_count": 122,
     "metadata": {},
     "output_type": "execute_result"
    }
   ],
   "source": [
    "# с отобранными по локациям данными и правильными данными\n",
    "results_cdpd_cda"
   ]
  },
  {
   "cell_type": "code",
   "execution_count": 56,
   "metadata": {},
   "outputs": [
    {
     "data": {
      "text/html": [
       "<div>\n",
       "<style scoped>\n",
       "    .dataframe tbody tr th:only-of-type {\n",
       "        vertical-align: middle;\n",
       "    }\n",
       "\n",
       "    .dataframe tbody tr th {\n",
       "        vertical-align: top;\n",
       "    }\n",
       "\n",
       "    .dataframe thead th {\n",
       "        text-align: right;\n",
       "    }\n",
       "</style>\n",
       "<table border=\"1\" class=\"dataframe\">\n",
       "  <thead>\n",
       "    <tr style=\"text-align: right;\">\n",
       "      <th></th>\n",
       "      <th>LogisticRegression</th>\n",
       "      <th>RandomForest</th>\n",
       "      <th>GradientBoosting</th>\n",
       "      <th>SVM</th>\n",
       "    </tr>\n",
       "  </thead>\n",
       "  <tbody>\n",
       "    <tr>\n",
       "      <th>accuracy</th>\n",
       "      <td>0.815385</td>\n",
       "      <td>0.792308</td>\n",
       "      <td>0.800000</td>\n",
       "      <td>0.807692</td>\n",
       "    </tr>\n",
       "    <tr>\n",
       "      <th>f1</th>\n",
       "      <td>0.806499</td>\n",
       "      <td>0.782180</td>\n",
       "      <td>0.813804</td>\n",
       "      <td>0.783651</td>\n",
       "    </tr>\n",
       "    <tr>\n",
       "      <th>precision</th>\n",
       "      <td>0.825899</td>\n",
       "      <td>0.805087</td>\n",
       "      <td>0.814764</td>\n",
       "      <td>0.781171</td>\n",
       "    </tr>\n",
       "    <tr>\n",
       "      <th>recall</th>\n",
       "      <td>0.815385</td>\n",
       "      <td>0.792308</td>\n",
       "      <td>0.823077</td>\n",
       "      <td>0.807692</td>\n",
       "    </tr>\n",
       "    <tr>\n",
       "      <th>specificity</th>\n",
       "      <td>0.953846</td>\n",
       "      <td>0.946154</td>\n",
       "      <td>0.951282</td>\n",
       "      <td>0.938462</td>\n",
       "    </tr>\n",
       "  </tbody>\n",
       "</table>\n",
       "</div>"
      ],
      "text/plain": [
       "             LogisticRegression  RandomForest  GradientBoosting       SVM\n",
       "accuracy               0.815385      0.792308          0.800000  0.807692\n",
       "f1                     0.806499      0.782180          0.813804  0.783651\n",
       "precision              0.825899      0.805087          0.814764  0.781171\n",
       "recall                 0.815385      0.792308          0.823077  0.807692\n",
       "specificity            0.953846      0.946154          0.951282  0.938462"
      ]
     },
     "execution_count": 56,
     "metadata": {},
     "output_type": "execute_result"
    }
   ],
   "source": [
    "# с отобранными по локациям данными\n",
    "results_cdpd_cda"
   ]
  },
  {
   "cell_type": "code",
   "execution_count": 64,
   "metadata": {},
   "outputs": [
    {
     "data": {
      "text/plain": [
       "dict_keys(['LogisticRegression', 'RandomForest', 'GradientBoosting', 'SVM'])"
      ]
     },
     "execution_count": 64,
     "metadata": {},
     "output_type": "execute_result"
    }
   ],
   "source": [
    "matrixes.keys()"
   ]
  },
  {
   "cell_type": "code",
   "execution_count": 123,
   "metadata": {},
   "outputs": [
    {
     "data": {
      "image/png": "[encoded data removed]",
      "text/plain": [
       "<Figure size 1000x800 with 4 Axes>"
      ]
     },
     "metadata": {},
     "output_type": "display_data"
    }
   ],
   "source": [
    "show_matrix(matrixes['GradientBoosting'], ['Norm', 'MK patology', 'AK patology', 'other patology'])"
   ]
  },
  {
   "cell_type": "code",
   "execution_count": null,
   "metadata": {},
   "outputs": [
    {
     "data": {
      "text/html": [
       "<div>\n",
       "<style scoped>\n",
       "    .dataframe tbody tr th:only-of-type {\n",
       "        vertical-align: middle;\n",
       "    }\n",
       "\n",
       "    .dataframe tbody tr th {\n",
       "        vertical-align: top;\n",
       "    }\n",
       "\n",
       "    .dataframe thead th {\n",
       "        text-align: right;\n",
       "    }\n",
       "</style>\n",
       "<table border=\"1\" class=\"dataframe\">\n",
       "  <thead>\n",
       "    <tr style=\"text-align: right;\">\n",
       "      <th></th>\n",
       "      <th>LogisticRegression</th>\n",
       "      <th>RandomForest</th>\n",
       "      <th>GradientBoosting</th>\n",
       "      <th>SVM</th>\n",
       "    </tr>\n",
       "  </thead>\n",
       "  <tbody>\n",
       "    <tr>\n",
       "      <th>accuracy</th>\n",
       "      <td>0.795000</td>\n",
       "      <td>0.815000</td>\n",
       "      <td>0.825000</td>\n",
       "      <td>0.820000</td>\n",
       "    </tr>\n",
       "    <tr>\n",
       "      <th>f1</th>\n",
       "      <td>0.347637</td>\n",
       "      <td>0.377733</td>\n",
       "      <td>0.397286</td>\n",
       "      <td>0.359418</td>\n",
       "    </tr>\n",
       "    <tr>\n",
       "      <th>precision</th>\n",
       "      <td>0.434722</td>\n",
       "      <td>0.453911</td>\n",
       "      <td>0.459538</td>\n",
       "      <td>0.451351</td>\n",
       "    </tr>\n",
       "    <tr>\n",
       "      <th>recall</th>\n",
       "      <td>0.330789</td>\n",
       "      <td>0.357466</td>\n",
       "      <td>0.374539</td>\n",
       "      <td>0.343750</td>\n",
       "    </tr>\n",
       "    <tr>\n",
       "      <th>specificity</th>\n",
       "      <td>0.940000</td>\n",
       "      <td>0.945000</td>\n",
       "      <td>0.950000</td>\n",
       "      <td>0.940000</td>\n",
       "    </tr>\n",
       "  </tbody>\n",
       "</table>\n",
       "</div>"
      ],
      "text/plain": [
       "             LogisticRegression  RandomForest  GradientBoosting       SVM\n",
       "accuracy               0.795000      0.815000          0.825000  0.820000\n",
       "f1                     0.347637      0.377733          0.397286  0.359418\n",
       "precision              0.434722      0.453911          0.459538  0.451351\n",
       "recall                 0.330789      0.357466          0.374539  0.343750\n",
       "specificity            0.940000      0.945000          0.950000  0.940000"
      ]
     },
     "execution_count": 124,
     "metadata": {},
     "output_type": "execute_result"
    }
   ],
   "source": [
    "# со всеми данными\n",
    "results_cdpd_cda"
   ]
  },
  {
   "cell_type": "code",
   "execution_count": null,
   "metadata": {},
   "outputs": [],
   "source": []
  }
 ],
 "metadata": {
  "kernelspec": {
   "display_name": ".venv",
   "language": "python",
   "name": "python3"
  },
  "language_info": {
   "codemirror_mode": {
    "name": "ipython",
    "version": 3
   },
   "file_extension": ".py",
   "mimetype": "text/x-python",
   "name": "python",
   "nbconvert_exporter": "python",
   "pygments_lexer": "ipython3",
   "version": "3.11.8"
  }
 },
 "nbformat": 4,
 "nbformat_minor": 2
}
