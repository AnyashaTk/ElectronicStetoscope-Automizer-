{
 "cells": [
  {
   "cell_type": "code",
   "execution_count": 74,
   "metadata": {},
   "outputs": [],
   "source": [
    "import os\n",
    "import librosa\n",
    "import numpy as np\n",
    "import pandas as pd\n",
    "from tqdm import tqdm\n",
    "from pydub import AudioSegment\n",
    "\n",
    "from sklearn.model_selection import train_test_split\n",
    "from sklearn.linear_model import LogisticRegression\n",
    "from sklearn.ensemble import RandomForestClassifier, GradientBoostingClassifier\n",
    "from sklearn.svm import SVC\n",
    "from sklearn.metrics import accuracy_score, f1_score, roc_auc_score, precision_score, recall_score\n",
    "from sklearn.preprocessing import StandardScaler\n",
    "from sklearn.model_selection import GridSearchCV\n",
    "from sklearn.metrics import multilabel_confusion_matrix"
   ]
  },
  {
   "cell_type": "markdown",
   "metadata": {},
   "source": [
    "## CDPD"
   ]
  },
  {
   "cell_type": "code",
   "execution_count": 2,
   "metadata": {},
   "outputs": [
    {
     "data": {
      "text/plain": [
       "942"
      ]
     },
     "execution_count": 2,
     "metadata": {},
     "output_type": "execute_result"
    }
   ],
   "source": [
    "df = pd.read_csv('../data/CDPD/training_data.csv') \n",
    "len(df)"
   ]
  },
  {
   "cell_type": "markdown",
   "metadata": {},
   "source": [
    "Отделение данных, вообще нам нужны только данные, которые обязательно имеют в себе Аортальный и Митральный клапаны, или хотя бы один из них, поэтому мы только такие и берем, но посмотреть как может обучиться со всеми данными тоже интересно, поэтому таблицы метрик в конце файла есть и для всех данных и для отобранных"
   ]
  },
  {
   "cell_type": "code",
   "execution_count": 3,
   "metadata": {},
   "outputs": [
    {
     "data": {
      "text/plain": [
       "595"
      ]
     },
     "execution_count": 3,
     "metadata": {},
     "output_type": "execute_result"
    }
   ],
   "source": [
    "df = df[df['Locations'].isin(['AV+PV+TV+MV', 'AV+PV+MV', 'AV+AV+PV+PV+TV+MV', 'AV+MV+MV', \n",
    "                                        'AV+PV+MV+Phc+Phc', 'AV+PV+TV+TV+MV', 'AV+AV+MV+MV', 'AV+AV+PV+TV+MV', 'AV+PV+TV+MV+Phc', 'AV+AV+AV+MV', 'AV+AV+PV+TV+MV+MV', ])&(df['Murmur']!='Unknown')]\n",
    "len(df)"
   ]
  },
  {
   "cell_type": "code",
   "execution_count": 4,
   "metadata": {},
   "outputs": [
    {
     "data": {
      "text/plain": [
       "array(['AV+PV+TV+MV', 'AV+AV+PV+PV+TV+MV', 'AV+PV+MV', 'AV+MV+MV',\n",
       "       'AV+PV+MV+Phc+Phc', 'AV+PV+TV+TV+MV', 'AV+AV+MV+MV',\n",
       "       'AV+AV+PV+TV+MV', 'AV+PV+TV+MV+Phc', 'AV+AV+AV+MV',\n",
       "       'AV+AV+PV+TV+MV+MV'], dtype=object)"
      ]
     },
     "execution_count": 4,
     "metadata": {},
     "output_type": "execute_result"
    }
   ],
   "source": [
    "df['Locations'].unique()"
   ]
  },
  {
   "cell_type": "code",
   "execution_count": 5,
   "metadata": {},
   "outputs": [
    {
     "data": {
      "text/plain": [
       "array([nan, 'AV+MV+PV+TV', 'TV', 'MV+TV', 'MV+PV+TV', 'AV+PV+TV',\n",
       "       'AV+MV+PV', 'MV+PV', 'AV+MV+PV+Phc+TV', 'MV', 'AV+PV', 'PV',\n",
       "       'AV+TV', 'PV+TV', 'AV+MV', 'AV'], dtype=object)"
      ]
     },
     "execution_count": 5,
     "metadata": {},
     "output_type": "execute_result"
    }
   ],
   "source": [
    "df['Murmur locations'].unique()"
   ]
  },
  {
   "cell_type": "code",
   "execution_count": 6,
   "metadata": {},
   "outputs": [],
   "source": [
    "# Определение порядка объединения файлов\n",
    "order = ['MV', 'AV', 'PV', 'Ph', 'TV']\n",
    "directory = '../data/CDPD/training_data/'\n",
    "\n",
    "def combine_audio(filename):\n",
    "    # Получение списка файлов для текущей строки\n",
    "    files_to_combine = []\n",
    "    for location in order:\n",
    "        file_name = f\"{directory}{filename}_{location}.wav\"\n",
    "        if os.path.exists(file_name):\n",
    "            files_to_combine.append(file_name)\n",
    "    \n",
    "    # Объединение файлов\n",
    "    combined_audio = AudioSegment.empty()\n",
    "    for file in files_to_combine:\n",
    "        audio = AudioSegment.from_wav(file)\n",
    "        combined_audio += audio\n",
    "    \n",
    "    # Сохранение объединенного аудио\n",
    "    output_file_name = f\"{directory}{filename}_combined.wav\"\n",
    "    combined_audio.export(output_file_name, format=\"wav\")\n",
    "    return output_file_name\n",
    "\n",
    "def load_audio_data(file_names):\n",
    "    X = []\n",
    "    for i, file_name in enumerate(tqdm(file_names)):\n",
    "        # Объединение аудиофайлов\n",
    "        combined_file_name = combine_audio(file_name)\n",
    "        try:\n",
    "            # Загрузка объединенного аудиофайла и извлечение признаков\n",
    "            audio, sr = librosa.load(combined_file_name)\n",
    "            mfcc = librosa.feature.mfcc(y=audio, sr=sr)\n",
    "            mfcc_mean = np.mean(mfcc, axis=1)\n",
    "            \n",
    "            # Удаление временного объединенного файла\n",
    "            os.remove(combined_file_name)\n",
    "            \n",
    "            X.append(mfcc_mean)\n",
    "        except:\n",
    "            print(combined_file_name, i)\n",
    "            continue\n",
    "    \n",
    "    return np.array(X)"
   ]
  },
  {
   "cell_type": "markdown",
   "metadata": {},
   "source": [
    "## ACD "
   ]
  },
  {
   "cell_type": "code",
   "execution_count": 7,
   "metadata": {},
   "outputs": [],
   "source": [
    "patients = \"../data/Пациенты.csv\"\n",
    "norm_dir = \"../data/норма\"\n",
    "patology_dir = \"../data/патология\""
   ]
  },
  {
   "cell_type": "code",
   "execution_count": 8,
   "metadata": {},
   "outputs": [],
   "source": [
    "def find_wav_files(directory):\n",
    "    X = []\n",
    "    dir_path = []\n",
    "\n",
    "    for root, dirs, files in os.walk(directory):\n",
    "        for file in files:\n",
    "            if file.endswith(\".wav\"):\n",
    "                audio, sr = librosa.load(os.path.join(root, file))\n",
    "                mfcc = librosa.feature.mfcc(y=audio, sr=sr)\n",
    "                mfcc_mean = np.mean(mfcc, axis=1)\n",
    "                \n",
    "                X.append(mfcc_mean)\n",
    "                dir_path.append(root)\n",
    "    \n",
    "    return X, dir_path"
   ]
  },
  {
   "cell_type": "markdown",
   "metadata": {},
   "source": [
    "## prepare data"
   ]
  },
  {
   "cell_type": "code",
   "execution_count": 9,
   "metadata": {},
   "outputs": [
    {
     "data": {
      "text/plain": [
       "False"
      ]
     },
     "execution_count": 9,
     "metadata": {},
     "output_type": "execute_result"
    }
   ],
   "source": [
    "# english\n",
    "\"МК\"==\"MK\""
   ]
  },
  {
   "cell_type": "code",
   "execution_count": 10,
   "metadata": {},
   "outputs": [
    {
     "data": {
      "text/plain": [
       "True"
      ]
     },
     "execution_count": 10,
     "metadata": {},
     "output_type": "execute_result"
    }
   ],
   "source": [
    "# russian\n",
    "\"МК\"==\"МК\""
   ]
  },
  {
   "cell_type": "code",
   "execution_count": 11,
   "metadata": {},
   "outputs": [],
   "source": [
    "# Norm - 0, MK patology - 1, AK patology - 2, Other patology - 3"
   ]
  },
  {
   "cell_type": "code",
   "execution_count": 12,
   "metadata": {},
   "outputs": [],
   "source": [
    "# загрузка датасета для мультилейбл\n",
    "cda, cda_paths = find_wav_files(norm_dir)\n",
    "norm = [[1, 0, 0, 0]] * len(cda_paths)\n",
    "patology_files, patology_paths = find_wav_files(patology_dir)\n",
    "cda.extend(patology_files)\n",
    "patology = []\n",
    "for i in patology_paths:\n",
    "    pat_label = [0, 0, 0, 0]\n",
    "    if 'МК' in i:\n",
    "        pat_label[1] = 1\n",
    "    elif \"АК\" in i:\n",
    "        pat_label[2] = 1\n",
    "    else:\n",
    "        pat_label[3] = 1\n",
    "    patology.append(pat_label)\n",
    "\n",
    "cda = np.array(cda)\n",
    "cda_labels = norm + patology"
   ]
  },
  {
   "cell_type": "code",
   "execution_count": 13,
   "metadata": {},
   "outputs": [
    {
     "name": "stdout",
     "output_type": "stream",
     "text": [
      "51 51\n"
     ]
    }
   ],
   "source": [
    "print(len(cda), len(cda_labels))"
   ]
  },
  {
   "cell_type": "code",
   "execution_count": 14,
   "metadata": {},
   "outputs": [],
   "source": [
    "# я настроила правильную разметку в мультилейбл в сда, теперь надо также сделать для cdpd, потом просто бахнуть кучу обучений"
   ]
  },
  {
   "cell_type": "code",
   "execution_count": 15,
   "metadata": {},
   "outputs": [
    {
     "name": "stdout",
     "output_type": "stream",
     "text": [
      "Empty DataFrame\n",
      "Columns: [Patient ID, Locations, Age, Sex, Height, Weight, Pregnancy status, Murmur, Murmur locations, Most audible location, Systolic murmur timing, Systolic murmur shape, Systolic murmur grading, Systolic murmur pitch, Systolic murmur quality, Diastolic murmur timing, Diastolic murmur shape, Diastolic murmur grading, Diastolic murmur pitch, Diastolic murmur quality, Campaign, Additional ID]\n",
      "Index: []\n",
      "\n",
      "[0 rows x 22 columns]\n",
      "474 474 474\n"
     ]
    }
   ],
   "source": [
    "# к счастью нет строк где указано что есть патололгия но не указана какая\n",
    "print(df[(df['Murmur']=='Present')&(df['Murmur locations'].isna())])\n",
    "\n",
    "# и ровно там где нет патологии не просочилась лишняя инфа о локациях, все чисто, а значит мы можем стаить метки на основе одной колонки\n",
    "print(len(df[df['Murmur']=='Absent']), \n",
    "len(df[df['Murmur locations'].isna()]),\n",
    "len(df[(df['Murmur']=='Absent')&(df['Murmur locations'].isna())]))\n"
   ]
  },
  {
   "cell_type": "code",
   "execution_count": 16,
   "metadata": {},
   "outputs": [
    {
     "data": {
      "text/plain": [
       "array([nan, 'AV+MV+PV+TV', 'TV', 'MV+TV', 'MV+PV+TV', 'AV+PV+TV',\n",
       "       'AV+MV+PV', 'MV+PV', 'AV+MV+PV+Phc+TV', 'MV', 'AV+PV', 'PV',\n",
       "       'AV+TV', 'PV+TV', 'AV+MV', 'AV'], dtype=object)"
      ]
     },
     "execution_count": 16,
     "metadata": {},
     "output_type": "execute_result"
    }
   ],
   "source": [
    "df['Murmur locations'].unique()"
   ]
  },
  {
   "cell_type": "code",
   "execution_count": 17,
   "metadata": {},
   "outputs": [
    {
     "name": "stderr",
     "output_type": "stream",
     "text": [
      "  0%|          | 0/595 [00:00<?, ?it/s]"
     ]
    },
    {
     "name": "stderr",
     "output_type": "stream",
     "text": [
      " 24%|██▎       | 140/595 [01:25<05:09,  1.47it/s]"
     ]
    },
    {
     "name": "stdout",
     "output_type": "stream",
     "text": [
      "../data/CDPD/training_data/50321_combined.wav 140\n"
     ]
    },
    {
     "name": "stderr",
     "output_type": "stream",
     "text": [
      "100%|██████████| 595/595 [05:09<00:00,  1.92it/s]\n"
     ]
    }
   ],
   "source": [
    "file_names_cdpd = list(df['Patient ID']) \n",
    "locations = list(df['Murmur locations'])\n",
    "\n",
    "# Absent = Normal = 0, Present - see loc, then 1-3 \n",
    "cdpd_data = load_audio_data(file_names_cdpd)"
   ]
  },
  {
   "cell_type": "code",
   "execution_count": 35,
   "metadata": {},
   "outputs": [],
   "source": [
    "cdpd_labels = []\n",
    "for i in locations:\n",
    "    pat_label = [0, 0, 0, 0]\n",
    "    if type(i) != type('some_str'):\n",
    "        pat_label[0] = 1\n",
    "    elif 'MV' in i:\n",
    "        pat_label[1] = 1\n",
    "    elif \"AV\" in i:\n",
    "        pat_label[2] = 1\n",
    "    else:\n",
    "        pat_label[3] = 1\n",
    "    cdpd_labels.append(pat_label)"
   ]
  },
  {
   "cell_type": "code",
   "execution_count": 36,
   "metadata": {},
   "outputs": [],
   "source": [
    "del cdpd_labels[141] # [267]"
   ]
  },
  {
   "cell_type": "code",
   "execution_count": 37,
   "metadata": {},
   "outputs": [],
   "source": [
    "cdpd_labels = np.array(cdpd_labels)"
   ]
  },
  {
   "cell_type": "code",
   "execution_count": 38,
   "metadata": {},
   "outputs": [
    {
     "name": "stdout",
     "output_type": "stream",
     "text": [
      "594 594\n"
     ]
    }
   ],
   "source": [
    "print(len(cdpd_data), len(cdpd_labels))"
   ]
  },
  {
   "cell_type": "code",
   "execution_count": 39,
   "metadata": {},
   "outputs": [
    {
     "data": {
      "text/plain": [
       "array([[1, 0, 0, 0],\n",
       "       [0, 1, 0, 0],\n",
       "       [0, 0, 0, 1],\n",
       "       ...,\n",
       "       [1, 0, 0, 0],\n",
       "       [1, 0, 0, 0],\n",
       "       [0, 1, 0, 0]])"
      ]
     },
     "execution_count": 39,
     "metadata": {},
     "output_type": "execute_result"
    }
   ],
   "source": [
    "cdpd_labels"
   ]
  },
  {
   "cell_type": "code",
   "execution_count": 40,
   "metadata": {},
   "outputs": [
    {
     "data": {
      "text/plain": [
       "(594, 20)"
      ]
     },
     "execution_count": 40,
     "metadata": {},
     "output_type": "execute_result"
    }
   ],
   "source": [
    "cdpd_data.shape"
   ]
  },
  {
   "cell_type": "code",
   "execution_count": null,
   "metadata": {},
   "outputs": [],
   "source": []
  },
  {
   "cell_type": "markdown",
   "metadata": {},
   "source": [
    "## data"
   ]
  },
  {
   "cell_type": "code",
   "execution_count": 41,
   "metadata": {},
   "outputs": [],
   "source": [
    "# CDPD data\n",
    "X_train, X_test, y_train, y_test = train_test_split(cdpd_data, cdpd_labels, test_size=0.2, random_state=42)\n",
    "\n",
    "scaler = StandardScaler()\n",
    "X_train_scaled = scaler.fit_transform(X_train)\n",
    "X_test_scaled = scaler.transform(X_test)"
   ]
  },
  {
   "cell_type": "code",
   "execution_count": null,
   "metadata": {},
   "outputs": [],
   "source": [
    "joblib.dump(scaler, \"./models/standard_scaler.pkl\")"
   ]
  },
  {
   "cell_type": "code",
   "execution_count": 42,
   "metadata": {},
   "outputs": [],
   "source": [
    "import matplotlib.pyplot as plt"
   ]
  },
  {
   "cell_type": "code",
   "execution_count": 43,
   "metadata": {},
   "outputs": [
    {
     "data": {
      "image/png": "[encoded data removed]",
      "text/plain": [
       "<Figure size 640x480 with 1 Axes>"
      ]
     },
     "metadata": {},
     "output_type": "display_data"
    }
   ],
   "source": [
    "counts = y_train.sum(axis=0)\n",
    "\n",
    "# Создаём подписи классов (если есть)\n",
    "class_labels = [f'Class {i}' for i in range(1, y_train.shape[1] + 1)]\n",
    "\n",
    "# Строим столбчатую диаграмму\n",
    "plt.bar(class_labels, counts)\n",
    "plt.xlabel('Классы')\n",
    "plt.ylabel('Количество элементов')\n",
    "plt.title('Распределение элементов по классам')\n",
    "plt.show()"
   ]
  },
  {
   "cell_type": "code",
   "execution_count": 44,
   "metadata": {},
   "outputs": [
    {
     "data": {
      "image/png": "[encoded data removed]",
      "text/plain": [
       "<Figure size 640x480 with 1 Axes>"
      ]
     },
     "metadata": {},
     "output_type": "display_data"
    }
   ],
   "source": [
    "counts = y_test.sum(axis=0)\n",
    "\n",
    "# Создаём подписи классов (если есть)\n",
    "class_labels = [f'Class {i}' for i in range(1, y_test.shape[1] + 1)]\n",
    "\n",
    "# Строим столбчатую диаграмму\n",
    "plt.bar(class_labels, counts)\n",
    "plt.xlabel('Классы')\n",
    "plt.ylabel('Количество элементов')\n",
    "plt.title('Распределение элементов по классам')\n",
    "plt.show()"
   ]
  },
  {
   "cell_type": "code",
   "execution_count": 45,
   "metadata": {},
   "outputs": [
    {
     "name": "stdout",
     "output_type": "stream",
     "text": [
      "Новые размеры тестовых данных:\n",
      "for full cdpd test:  (475, 20) (119, 20)\n",
      "X_test shape: (119, 20)\n",
      "y_test shape: (119, 4)\n",
      "X_test_cdatest shape: (170, 20)\n",
      "y_test_cdatest shape: (170, 4)\n"
     ]
    }
   ],
   "source": [
    "# Добавление cda в тестовую выборку\n",
    "\n",
    "X_test_cdatest = np.vstack((X_test, cda))\n",
    "y_test_cdatest = np.concatenate((y_test, cda_labels))\n",
    "\n",
    "X_test_scaled_cdatest = scaler.transform(X_test_cdatest)\n",
    "\n",
    "print(\"Новые размеры тестовых данных:\")\n",
    "print('for full cdpd test: ', X_train_scaled.shape, X_test_scaled.shape, )\n",
    "print(f\"X_test shape: {X_test.shape}\")\n",
    "print(f\"y_test shape: {y_test.shape}\")\n",
    "print(f\"X_test_cdatest shape: {X_test_cdatest.shape}\")\n",
    "print(f\"y_test_cdatest shape: {y_test_cdatest.shape}\")"
   ]
  },
  {
   "cell_type": "code",
   "execution_count": 57,
   "metadata": {},
   "outputs": [],
   "source": [
    "# cdpd cda train test\n",
    "X_train_cda, X_test_cda, y_train_cda, y_test_cda = train_test_split(cda, cda_labels, test_size=0.2, random_state=42)\n",
    "\n",
    "\n",
    "X_train_cdpd_cda = np.vstack((X_train, X_train_cda))\n",
    "y_train_cdpd_cda = np.concatenate((y_train, y_train_cda))\n",
    "X_test_cdpd_cda = np.vstack((X_test, X_test_cda))\n",
    "y_test_cdpd_cda = np.concatenate((y_test, y_test_cda))\n",
    "\n",
    "scaler = StandardScaler()\n",
    "X_train_scaled_cdpd_cda = scaler.fit_transform(X_train_cdpd_cda)\n",
    "X_test_scaled_cdpd_cda = scaler.transform(X_test_cdpd_cda)"
   ]
  },
  {
   "cell_type": "code",
   "execution_count": 58,
   "metadata": {},
   "outputs": [
    {
     "data": {
      "text/plain": [
       "['./models/multilabel_standard_scaler.pkl']"
      ]
     },
     "execution_count": 58,
     "metadata": {},
     "output_type": "execute_result"
    }
   ],
   "source": [
    "joblib.dump(scaler, \"./models/multilabel_standard_scaler.pkl\")"
   ]
  },
  {
   "cell_type": "markdown",
   "metadata": {},
   "source": [
    "## models"
   ]
  },
  {
   "cell_type": "code",
   "execution_count": 47,
   "metadata": {},
   "outputs": [],
   "source": [
    "import numpy as np\n",
    "from sklearn.model_selection import train_test_split, GridSearchCV\n",
    "from sklearn.preprocessing import StandardScaler\n",
    "from sklearn.metrics import accuracy_score, f1_score, precision_score, recall_score, confusion_matrix, make_scorer\n",
    "from sklearn.multioutput import MultiOutputClassifier\n",
    "from sklearn.ensemble import RandomForestClassifier, GradientBoostingClassifier\n",
    "from sklearn.linear_model import LogisticRegression\n",
    "from sklearn.svm import SVC\n",
    "import joblib\n",
    "import torch\n",
    "import torch.nn as nn\n",
    "from torch.utils.data import DataLoader, TensorDataset\n",
    "import torch.optim as optim"
   ]
  },
  {
   "cell_type": "code",
   "execution_count": 79,
   "metadata": {},
   "outputs": [],
   "source": [
    "import numpy as np\n",
    "import matplotlib.pyplot as plt\n",
    "import seaborn as sns\n",
    "from sklearn.metrics import multilabel_confusion_matrix\n",
    "\n",
    "def show_matrix(mcm, class_names):\n",
    "    for i, (cm, label) in enumerate(zip(mcm, class_names)):\n",
    "        plt.figure(figsize=(3, 2))\n",
    "        sns.heatmap(cm, annot=True, fmt='d', cmap='Blues', cbar=False,\n",
    "                    xticklabels=['Pred 0', 'Pred 1'],\n",
    "                    yticklabels=['True 0', 'True 1'])\n",
    "        plt.title(f'Confusion Matrix for {label}')\n",
    "        plt.xlabel('Predicted label')\n",
    "        plt.ylabel('True label')\n",
    "        plt.show()\n"
   ]
  },
  {
   "cell_type": "code",
   "execution_count": 75,
   "metadata": {},
   "outputs": [],
   "source": [
    "def specificity_score(y_true, y_pred):\n",
    "    cm = confusion_matrix(y_true.ravel(), y_pred.ravel())\n",
    "    tn = cm[0, 0]\n",
    "    fp = cm[0, 1]\n",
    "    return tn / (tn + fp)\n",
    "\n",
    "def get_metrics(y_true, y_pred):\n",
    "    return {\n",
    "        \"accuracy\": accuracy_score(y_true, y_pred),\n",
    "        \"f1\": f1_score(y_true, y_pred, average='weighted'),\n",
    "        \"precision\": precision_score(y_true, y_pred, average='weighted'),\n",
    "        \"recall\": recall_score(y_true, y_pred, average='weighted'),\n",
    "        \"specificity\": specificity_score(y_true, y_pred),\n",
    "    },  multilabel_confusion_matrix(y_true, y_pred)"
   ]
  },
  {
   "cell_type": "code",
   "execution_count": 70,
   "metadata": {},
   "outputs": [],
   "source": [
    "param_grids = {\n",
    "    'LogisticRegression': {'C': [0.1, 1, 10], 'penalty': ['l1', 'l2']},\n",
    "    \"RandomForest\": {\"estimator__n_estimators\": [100, 200]},\n",
    "    \"GradientBoosting\": {\"estimator__n_estimators\": [100], \"estimator__learning_rate\": [0.1, 0.05]},\n",
    "    \"LogisticRegression\": {\"estimator__C\": [1.0, 0.1]},\n",
    "    \"SVM\": {\"estimator__C\": [1.0], \"estimator__kernel\": ['linear', 'rbf']},\n",
    "}\n",
    "\n",
    "base_models = {\n",
    "    'LogisticRegression':  LogisticRegression(max_iter=1000, random_state=42),\n",
    "    \"RandomForest\": RandomForestClassifier(random_state=42),\n",
    "    \"GradientBoosting\": GradientBoostingClassifier(random_state=42),\n",
    "    \"LogisticRegression\": LogisticRegression(max_iter=1000, random_state=42),\n",
    "    \"SVM\": SVC(probability=True, random_state=42),\n",
    "}"
   ]
  },
  {
   "cell_type": "code",
   "execution_count": 71,
   "metadata": {},
   "outputs": [],
   "source": [
    "def train(X_train_scaled, X_test_scaled, y_train, y_test, experiment=''):\n",
    "    results = {}\n",
    "    matrixes = {}\n",
    "    for name, model in base_models.items():\n",
    "        print(f\"Training {name}...\")\n",
    "        grid = GridSearchCV(\n",
    "            MultiOutputClassifier(model),\n",
    "            param_grid=param_grids[name],\n",
    "            scoring=make_scorer(f1_score, average='weighted'),\n",
    "            cv=3\n",
    "        )\n",
    "        grid.fit(X_train_scaled, y_train)\n",
    "        best_model = grid.best_estimator_\n",
    "        y_pred = best_model.predict(X_test_scaled)\n",
    "        results[name], matrixes[name] = get_metrics(y_test, y_pred)\n",
    "        joblib.dump(best_model, f\"./models/multilabel_{experiment}_{name}_best_model.pkl\")\n",
    "    return pd.DataFrame(results), matrixes\n",
    "\n"
   ]
  },
  {
   "cell_type": "markdown",
   "metadata": {},
   "source": [
    "## full cdpd"
   ]
  },
  {
   "cell_type": "code",
   "execution_count": 51,
   "metadata": {},
   "outputs": [
    {
     "name": "stdout",
     "output_type": "stream",
     "text": [
      "Training LogisticRegression...\n",
      "Training RandomForest...\n"
     ]
    },
    {
     "name": "stderr",
     "output_type": "stream",
     "text": [
      "/Users/annatekuceva/PycharmProjects/stetoscope/ElectronicStetoscope-Automizer-/.venv/lib/python3.11/site-packages/sklearn/metrics/_classification.py:1565: UndefinedMetricWarning: Precision is ill-defined and being set to 0.0 in labels with no predicted samples. Use `zero_division` parameter to control this behavior.\n",
      "  _warn_prf(average, modifier, f\"{metric.capitalize()} is\", len(result))\n",
      "/Users/annatekuceva/PycharmProjects/stetoscope/ElectronicStetoscope-Automizer-/.venv/lib/python3.11/site-packages/sklearn/metrics/_classification.py:1565: UndefinedMetricWarning: Precision is ill-defined and being set to 0.0 in labels with no predicted samples. Use `zero_division` parameter to control this behavior.\n",
      "  _warn_prf(average, modifier, f\"{metric.capitalize()} is\", len(result))\n"
     ]
    },
    {
     "name": "stdout",
     "output_type": "stream",
     "text": [
      "Training GradientBoosting...\n"
     ]
    },
    {
     "name": "stderr",
     "output_type": "stream",
     "text": [
      "/Users/annatekuceva/PycharmProjects/stetoscope/ElectronicStetoscope-Automizer-/.venv/lib/python3.11/site-packages/sklearn/metrics/_classification.py:1565: UndefinedMetricWarning: Precision is ill-defined and being set to 0.0 in labels with no predicted samples. Use `zero_division` parameter to control this behavior.\n",
      "  _warn_prf(average, modifier, f\"{metric.capitalize()} is\", len(result))\n"
     ]
    },
    {
     "name": "stdout",
     "output_type": "stream",
     "text": [
      "Training SVM...\n"
     ]
    },
    {
     "name": "stderr",
     "output_type": "stream",
     "text": [
      "/Users/annatekuceva/PycharmProjects/stetoscope/ElectronicStetoscope-Automizer-/.venv/lib/python3.11/site-packages/sklearn/metrics/_classification.py:1565: UndefinedMetricWarning: Precision is ill-defined and being set to 0.0 in labels with no predicted samples. Use `zero_division` parameter to control this behavior.\n",
      "  _warn_prf(average, modifier, f\"{metric.capitalize()} is\", len(result))\n"
     ]
    }
   ],
   "source": [
    "results = train(X_train_scaled, X_test_scaled, y_train, y_test, experiment='cdpd')"
   ]
  },
  {
   "cell_type": "code",
   "execution_count": 52,
   "metadata": {},
   "outputs": [
    {
     "data": {
      "text/html": [
       "<div>\n",
       "<style scoped>\n",
       "    .dataframe tbody tr th:only-of-type {\n",
       "        vertical-align: middle;\n",
       "    }\n",
       "\n",
       "    .dataframe tbody tr th {\n",
       "        vertical-align: top;\n",
       "    }\n",
       "\n",
       "    .dataframe thead th {\n",
       "        text-align: right;\n",
       "    }\n",
       "</style>\n",
       "<table border=\"1\" class=\"dataframe\">\n",
       "  <thead>\n",
       "    <tr style=\"text-align: right;\">\n",
       "      <th></th>\n",
       "      <th>LogisticRegression</th>\n",
       "      <th>RandomForest</th>\n",
       "      <th>GradientBoosting</th>\n",
       "      <th>SVM</th>\n",
       "    </tr>\n",
       "  </thead>\n",
       "  <tbody>\n",
       "    <tr>\n",
       "      <th>accuracy</th>\n",
       "      <td>0.815126</td>\n",
       "      <td>0.806723</td>\n",
       "      <td>0.773109</td>\n",
       "      <td>0.831933</td>\n",
       "    </tr>\n",
       "    <tr>\n",
       "      <th>f1</th>\n",
       "      <td>0.791556</td>\n",
       "      <td>0.769370</td>\n",
       "      <td>0.777522</td>\n",
       "      <td>0.795591</td>\n",
       "    </tr>\n",
       "    <tr>\n",
       "      <th>precision</th>\n",
       "      <td>0.798942</td>\n",
       "      <td>0.793532</td>\n",
       "      <td>0.761104</td>\n",
       "      <td>0.807023</td>\n",
       "    </tr>\n",
       "    <tr>\n",
       "      <th>recall</th>\n",
       "      <td>0.823529</td>\n",
       "      <td>0.806723</td>\n",
       "      <td>0.806723</td>\n",
       "      <td>0.840336</td>\n",
       "    </tr>\n",
       "    <tr>\n",
       "      <th>specificity</th>\n",
       "      <td>0.949580</td>\n",
       "      <td>0.943978</td>\n",
       "      <td>0.941176</td>\n",
       "      <td>0.946779</td>\n",
       "    </tr>\n",
       "  </tbody>\n",
       "</table>\n",
       "</div>"
      ],
      "text/plain": [
       "             LogisticRegression  RandomForest  GradientBoosting       SVM\n",
       "accuracy               0.815126      0.806723          0.773109  0.831933\n",
       "f1                     0.791556      0.769370          0.777522  0.795591\n",
       "precision              0.798942      0.793532          0.761104  0.807023\n",
       "recall                 0.823529      0.806723          0.806723  0.840336\n",
       "specificity            0.949580      0.943978          0.941176  0.946779"
      ]
     },
     "execution_count": 52,
     "metadata": {},
     "output_type": "execute_result"
    }
   ],
   "source": [
    "# с отобранными по локациям данными\n",
    "results"
   ]
  },
  {
   "cell_type": "code",
   "execution_count": null,
   "metadata": {},
   "outputs": [
    {
     "data": {
      "text/html": [
       "<div>\n",
       "<style scoped>\n",
       "    .dataframe tbody tr th:only-of-type {\n",
       "        vertical-align: middle;\n",
       "    }\n",
       "\n",
       "    .dataframe tbody tr th {\n",
       "        vertical-align: top;\n",
       "    }\n",
       "\n",
       "    .dataframe thead th {\n",
       "        text-align: right;\n",
       "    }\n",
       "</style>\n",
       "<table border=\"1\" class=\"dataframe\">\n",
       "  <thead>\n",
       "    <tr style=\"text-align: right;\">\n",
       "      <th></th>\n",
       "      <th>LogisticRegression</th>\n",
       "      <th>RandomForest</th>\n",
       "      <th>GradientBoosting</th>\n",
       "      <th>SVM</th>\n",
       "    </tr>\n",
       "  </thead>\n",
       "  <tbody>\n",
       "    <tr>\n",
       "      <th>accuracy</th>\n",
       "      <td>0.809524</td>\n",
       "      <td>0.798942</td>\n",
       "      <td>0.798942</td>\n",
       "      <td>0.809524</td>\n",
       "    </tr>\n",
       "    <tr>\n",
       "      <th>f1</th>\n",
       "      <td>0.319519</td>\n",
       "      <td>0.296090</td>\n",
       "      <td>0.341331</td>\n",
       "      <td>0.285004</td>\n",
       "    </tr>\n",
       "    <tr>\n",
       "      <th>precision</th>\n",
       "      <td>0.424306</td>\n",
       "      <td>0.453911</td>\n",
       "      <td>0.456897</td>\n",
       "      <td>0.453552</td>\n",
       "    </tr>\n",
       "    <tr>\n",
       "      <th>recall</th>\n",
       "      <td>0.308667</td>\n",
       "      <td>0.288070</td>\n",
       "      <td>0.319197</td>\n",
       "      <td>0.284483</td>\n",
       "    </tr>\n",
       "    <tr>\n",
       "      <th>specificity</th>\n",
       "      <td>0.941799</td>\n",
       "      <td>0.941799</td>\n",
       "      <td>0.941799</td>\n",
       "      <td>0.940035</td>\n",
       "    </tr>\n",
       "  </tbody>\n",
       "</table>\n",
       "</div>"
      ],
      "text/plain": [
       "             LogisticRegression  RandomForest  GradientBoosting       SVM\n",
       "accuracy               0.809524      0.798942          0.798942  0.809524\n",
       "f1                     0.319519      0.296090          0.341331  0.285004\n",
       "precision              0.424306      0.453911          0.456897  0.453552\n",
       "recall                 0.308667      0.288070          0.319197  0.284483\n",
       "specificity            0.941799      0.941799          0.941799  0.940035"
      ]
     },
     "execution_count": 119,
     "metadata": {},
     "output_type": "execute_result"
    }
   ],
   "source": [
    "# со всеми данными\n",
    "results"
   ]
  },
  {
   "cell_type": "markdown",
   "metadata": {},
   "source": [
    "## cdpd + cda test"
   ]
  },
  {
   "cell_type": "code",
   "execution_count": 53,
   "metadata": {},
   "outputs": [
    {
     "name": "stdout",
     "output_type": "stream",
     "text": [
      "Training LogisticRegression...\n",
      "Training RandomForest...\n"
     ]
    },
    {
     "name": "stderr",
     "output_type": "stream",
     "text": [
      "/Users/annatekuceva/PycharmProjects/stetoscope/ElectronicStetoscope-Automizer-/.venv/lib/python3.11/site-packages/sklearn/metrics/_classification.py:1565: UndefinedMetricWarning: Precision is ill-defined and being set to 0.0 in labels with no predicted samples. Use `zero_division` parameter to control this behavior.\n",
      "  _warn_prf(average, modifier, f\"{metric.capitalize()} is\", len(result))\n",
      "/Users/annatekuceva/PycharmProjects/stetoscope/ElectronicStetoscope-Automizer-/.venv/lib/python3.11/site-packages/sklearn/metrics/_classification.py:1565: UndefinedMetricWarning: Precision is ill-defined and being set to 0.0 in labels with no predicted samples. Use `zero_division` parameter to control this behavior.\n",
      "  _warn_prf(average, modifier, f\"{metric.capitalize()} is\", len(result))\n"
     ]
    },
    {
     "name": "stdout",
     "output_type": "stream",
     "text": [
      "Training GradientBoosting...\n"
     ]
    },
    {
     "name": "stderr",
     "output_type": "stream",
     "text": [
      "/Users/annatekuceva/PycharmProjects/stetoscope/ElectronicStetoscope-Automizer-/.venv/lib/python3.11/site-packages/sklearn/metrics/_classification.py:1565: UndefinedMetricWarning: Precision is ill-defined and being set to 0.0 in labels with no predicted samples. Use `zero_division` parameter to control this behavior.\n",
      "  _warn_prf(average, modifier, f\"{metric.capitalize()} is\", len(result))\n"
     ]
    },
    {
     "name": "stdout",
     "output_type": "stream",
     "text": [
      "Training SVM...\n"
     ]
    },
    {
     "name": "stderr",
     "output_type": "stream",
     "text": [
      "/Users/annatekuceva/PycharmProjects/stetoscope/ElectronicStetoscope-Automizer-/.venv/lib/python3.11/site-packages/sklearn/metrics/_classification.py:1565: UndefinedMetricWarning: Precision is ill-defined and being set to 0.0 in labels with no predicted samples. Use `zero_division` parameter to control this behavior.\n",
      "  _warn_prf(average, modifier, f\"{metric.capitalize()} is\", len(result))\n"
     ]
    }
   ],
   "source": [
    "results_cdpd_cdatest = train(X_train_scaled, X_test_scaled_cdatest, y_train, y_test_cdatest, experiment='cdpd_cdatest')"
   ]
  },
  {
   "cell_type": "code",
   "execution_count": 54,
   "metadata": {},
   "outputs": [
    {
     "data": {
      "text/html": [
       "<div>\n",
       "<style scoped>\n",
       "    .dataframe tbody tr th:only-of-type {\n",
       "        vertical-align: middle;\n",
       "    }\n",
       "\n",
       "    .dataframe tbody tr th {\n",
       "        vertical-align: top;\n",
       "    }\n",
       "\n",
       "    .dataframe thead th {\n",
       "        text-align: right;\n",
       "    }\n",
       "</style>\n",
       "<table border=\"1\" class=\"dataframe\">\n",
       "  <thead>\n",
       "    <tr style=\"text-align: right;\">\n",
       "      <th></th>\n",
       "      <th>LogisticRegression</th>\n",
       "      <th>RandomForest</th>\n",
       "      <th>GradientBoosting</th>\n",
       "      <th>SVM</th>\n",
       "    </tr>\n",
       "  </thead>\n",
       "  <tbody>\n",
       "    <tr>\n",
       "      <th>accuracy</th>\n",
       "      <td>0.588235</td>\n",
       "      <td>0.576471</td>\n",
       "      <td>0.541176</td>\n",
       "      <td>0.600000</td>\n",
       "    </tr>\n",
       "    <tr>\n",
       "      <th>f1</th>\n",
       "      <td>0.488203</td>\n",
       "      <td>0.511619</td>\n",
       "      <td>0.483136</td>\n",
       "      <td>0.489658</td>\n",
       "    </tr>\n",
       "    <tr>\n",
       "      <th>precision</th>\n",
       "      <td>0.638663</td>\n",
       "      <td>0.661924</td>\n",
       "      <td>0.541866</td>\n",
       "      <td>0.677368</td>\n",
       "    </tr>\n",
       "    <tr>\n",
       "      <th>recall</th>\n",
       "      <td>0.594118</td>\n",
       "      <td>0.605882</td>\n",
       "      <td>0.588235</td>\n",
       "      <td>0.605882</td>\n",
       "    </tr>\n",
       "    <tr>\n",
       "      <th>specificity</th>\n",
       "      <td>0.870588</td>\n",
       "      <td>0.870588</td>\n",
       "      <td>0.770588</td>\n",
       "      <td>0.868627</td>\n",
       "    </tr>\n",
       "  </tbody>\n",
       "</table>\n",
       "</div>"
      ],
      "text/plain": [
       "             LogisticRegression  RandomForest  GradientBoosting       SVM\n",
       "accuracy               0.588235      0.576471          0.541176  0.600000\n",
       "f1                     0.488203      0.511619          0.483136  0.489658\n",
       "precision              0.638663      0.661924          0.541866  0.677368\n",
       "recall                 0.594118      0.605882          0.588235  0.605882\n",
       "specificity            0.870588      0.870588          0.770588  0.868627"
      ]
     },
     "execution_count": 54,
     "metadata": {},
     "output_type": "execute_result"
    }
   ],
   "source": [
    "# с отобранными по локациям данными\n",
    "results_cdpd_cdatest"
   ]
  },
  {
   "cell_type": "code",
   "execution_count": null,
   "metadata": {},
   "outputs": [
    {
     "data": {
      "text/html": [
       "<div>\n",
       "<style scoped>\n",
       "    .dataframe tbody tr th:only-of-type {\n",
       "        vertical-align: middle;\n",
       "    }\n",
       "\n",
       "    .dataframe tbody tr th {\n",
       "        vertical-align: top;\n",
       "    }\n",
       "\n",
       "    .dataframe thead th {\n",
       "        text-align: right;\n",
       "    }\n",
       "</style>\n",
       "<table border=\"1\" class=\"dataframe\">\n",
       "  <thead>\n",
       "    <tr style=\"text-align: right;\">\n",
       "      <th></th>\n",
       "      <th>LogisticRegression</th>\n",
       "      <th>RandomForest</th>\n",
       "      <th>GradientBoosting</th>\n",
       "      <th>SVM</th>\n",
       "    </tr>\n",
       "  </thead>\n",
       "  <tbody>\n",
       "    <tr>\n",
       "      <th>accuracy</th>\n",
       "      <td>0.809524</td>\n",
       "      <td>0.798942</td>\n",
       "      <td>0.798942</td>\n",
       "      <td>0.809524</td>\n",
       "    </tr>\n",
       "    <tr>\n",
       "      <th>f1</th>\n",
       "      <td>0.319519</td>\n",
       "      <td>0.296090</td>\n",
       "      <td>0.341331</td>\n",
       "      <td>0.285004</td>\n",
       "    </tr>\n",
       "    <tr>\n",
       "      <th>precision</th>\n",
       "      <td>0.424306</td>\n",
       "      <td>0.453911</td>\n",
       "      <td>0.456897</td>\n",
       "      <td>0.453552</td>\n",
       "    </tr>\n",
       "    <tr>\n",
       "      <th>recall</th>\n",
       "      <td>0.308667</td>\n",
       "      <td>0.288070</td>\n",
       "      <td>0.319197</td>\n",
       "      <td>0.284483</td>\n",
       "    </tr>\n",
       "    <tr>\n",
       "      <th>specificity</th>\n",
       "      <td>0.941799</td>\n",
       "      <td>0.941799</td>\n",
       "      <td>0.941799</td>\n",
       "      <td>0.940035</td>\n",
       "    </tr>\n",
       "  </tbody>\n",
       "</table>\n",
       "</div>"
      ],
      "text/plain": [
       "             LogisticRegression  RandomForest  GradientBoosting       SVM\n",
       "accuracy               0.809524      0.798942          0.798942  0.809524\n",
       "f1                     0.319519      0.296090          0.341331  0.285004\n",
       "precision              0.424306      0.453911          0.456897  0.453552\n",
       "recall                 0.308667      0.288070          0.319197  0.284483\n",
       "specificity            0.941799      0.941799          0.941799  0.940035"
      ]
     },
     "execution_count": 121,
     "metadata": {},
     "output_type": "execute_result"
    }
   ],
   "source": [
    "# со всеми данными\n",
    "results_cdpd_cdatest"
   ]
  },
  {
   "cell_type": "markdown",
   "metadata": {},
   "source": [
    "## cdpd cda full"
   ]
  },
  {
   "cell_type": "code",
   "execution_count": 76,
   "metadata": {},
   "outputs": [
    {
     "name": "stdout",
     "output_type": "stream",
     "text": [
      "Training LogisticRegression...\n",
      "Training RandomForest...\n"
     ]
    },
    {
     "name": "stderr",
     "output_type": "stream",
     "text": [
      "/Users/annatekuceva/PycharmProjects/stetoscope/ElectronicStetoscope-Automizer-/.venv/lib/python3.11/site-packages/sklearn/metrics/_classification.py:1565: UndefinedMetricWarning: Precision is ill-defined and being set to 0.0 in labels with no predicted samples. Use `zero_division` parameter to control this behavior.\n",
      "  _warn_prf(average, modifier, f\"{metric.capitalize()} is\", len(result))\n",
      "/Users/annatekuceva/PycharmProjects/stetoscope/ElectronicStetoscope-Automizer-/.venv/lib/python3.11/site-packages/sklearn/metrics/_classification.py:1565: UndefinedMetricWarning: Precision is ill-defined and being set to 0.0 in labels with no predicted samples. Use `zero_division` parameter to control this behavior.\n",
      "  _warn_prf(average, modifier, f\"{metric.capitalize()} is\", len(result))\n"
     ]
    },
    {
     "name": "stdout",
     "output_type": "stream",
     "text": [
      "Training GradientBoosting...\n"
     ]
    },
    {
     "name": "stderr",
     "output_type": "stream",
     "text": [
      "/Users/annatekuceva/PycharmProjects/stetoscope/ElectronicStetoscope-Automizer-/.venv/lib/python3.11/site-packages/sklearn/metrics/_classification.py:1565: UndefinedMetricWarning: Precision is ill-defined and being set to 0.0 in labels with no predicted samples. Use `zero_division` parameter to control this behavior.\n",
      "  _warn_prf(average, modifier, f\"{metric.capitalize()} is\", len(result))\n"
     ]
    },
    {
     "name": "stdout",
     "output_type": "stream",
     "text": [
      "Training SVM...\n"
     ]
    },
    {
     "name": "stderr",
     "output_type": "stream",
     "text": [
      "/Users/annatekuceva/PycharmProjects/stetoscope/ElectronicStetoscope-Automizer-/.venv/lib/python3.11/site-packages/sklearn/metrics/_classification.py:1565: UndefinedMetricWarning: Precision is ill-defined and being set to 0.0 in labels with no predicted samples. Use `zero_division` parameter to control this behavior.\n",
      "  _warn_prf(average, modifier, f\"{metric.capitalize()} is\", len(result))\n"
     ]
    }
   ],
   "source": [
    "results_cdpd_cda, matrixes = train(X_train_scaled_cdpd_cda, X_test_scaled_cdpd_cda, y_train_cdpd_cda, y_test_cdpd_cda, experiment='cdpd_cda')"
   ]
  },
  {
   "cell_type": "code",
   "execution_count": 56,
   "metadata": {},
   "outputs": [
    {
     "data": {
      "text/html": [
       "<div>\n",
       "<style scoped>\n",
       "    .dataframe tbody tr th:only-of-type {\n",
       "        vertical-align: middle;\n",
       "    }\n",
       "\n",
       "    .dataframe tbody tr th {\n",
       "        vertical-align: top;\n",
       "    }\n",
       "\n",
       "    .dataframe thead th {\n",
       "        text-align: right;\n",
       "    }\n",
       "</style>\n",
       "<table border=\"1\" class=\"dataframe\">\n",
       "  <thead>\n",
       "    <tr style=\"text-align: right;\">\n",
       "      <th></th>\n",
       "      <th>LogisticRegression</th>\n",
       "      <th>RandomForest</th>\n",
       "      <th>GradientBoosting</th>\n",
       "      <th>SVM</th>\n",
       "    </tr>\n",
       "  </thead>\n",
       "  <tbody>\n",
       "    <tr>\n",
       "      <th>accuracy</th>\n",
       "      <td>0.815385</td>\n",
       "      <td>0.792308</td>\n",
       "      <td>0.800000</td>\n",
       "      <td>0.807692</td>\n",
       "    </tr>\n",
       "    <tr>\n",
       "      <th>f1</th>\n",
       "      <td>0.806499</td>\n",
       "      <td>0.782180</td>\n",
       "      <td>0.813804</td>\n",
       "      <td>0.783651</td>\n",
       "    </tr>\n",
       "    <tr>\n",
       "      <th>precision</th>\n",
       "      <td>0.825899</td>\n",
       "      <td>0.805087</td>\n",
       "      <td>0.814764</td>\n",
       "      <td>0.781171</td>\n",
       "    </tr>\n",
       "    <tr>\n",
       "      <th>recall</th>\n",
       "      <td>0.815385</td>\n",
       "      <td>0.792308</td>\n",
       "      <td>0.823077</td>\n",
       "      <td>0.807692</td>\n",
       "    </tr>\n",
       "    <tr>\n",
       "      <th>specificity</th>\n",
       "      <td>0.953846</td>\n",
       "      <td>0.946154</td>\n",
       "      <td>0.951282</td>\n",
       "      <td>0.938462</td>\n",
       "    </tr>\n",
       "  </tbody>\n",
       "</table>\n",
       "</div>"
      ],
      "text/plain": [
       "             LogisticRegression  RandomForest  GradientBoosting       SVM\n",
       "accuracy               0.815385      0.792308          0.800000  0.807692\n",
       "f1                     0.806499      0.782180          0.813804  0.783651\n",
       "precision              0.825899      0.805087          0.814764  0.781171\n",
       "recall                 0.815385      0.792308          0.823077  0.807692\n",
       "specificity            0.953846      0.946154          0.951282  0.938462"
      ]
     },
     "execution_count": 56,
     "metadata": {},
     "output_type": "execute_result"
    }
   ],
   "source": [
    "# с отобранными по локациям данными\n",
    "results_cdpd_cda"
   ]
  },
  {
   "cell_type": "code",
   "execution_count": 64,
   "metadata": {},
   "outputs": [
    {
     "data": {
      "text/plain": [
       "dict_keys(['LogisticRegression', 'RandomForest', 'GradientBoosting', 'SVM'])"
      ]
     },
     "execution_count": 64,
     "metadata": {},
     "output_type": "execute_result"
    }
   ],
   "source": [
    "matrixes.keys()"
   ]
  },
  {
   "cell_type": "code",
   "execution_count": 80,
   "metadata": {},
   "outputs": [
    {
     "data": {
      "image/png": "[encoded data removed]",
      "text/plain": [
       "<Figure size 400x300 with 1 Axes>"
      ]
     },
     "metadata": {},
     "output_type": "display_data"
    },
    {
     "data": {
      "image/png": "[encoded data removed]",
      "text/plain": [
       "<Figure size 400x300 with 1 Axes>"
      ]
     },
     "metadata": {},
     "output_type": "display_data"
    },
    {
     "data": {
      "image/png": "[encoded data removed]",
      "text/plain": [
       "<Figure size 400x300 with 1 Axes>"
      ]
     },
     "metadata": {},
     "output_type": "display_data"
    },
    {
     "data": {
      "image/png": "[encoded data removed]",
      "text/plain": [
       "<Figure size 400x300 with 1 Axes>"
      ]
     },
     "metadata": {},
     "output_type": "display_data"
    }
   ],
   "source": [
    "show_matrix(matrixes['GradientBoosting'], ['Norm', 'MK patology', 'AK patology', 'other patology'])"
   ]
  },
  {
   "cell_type": "code",
   "execution_count": null,
   "metadata": {},
   "outputs": [
    {
     "data": {
      "text/html": [
       "<div>\n",
       "<style scoped>\n",
       "    .dataframe tbody tr th:only-of-type {\n",
       "        vertical-align: middle;\n",
       "    }\n",
       "\n",
       "    .dataframe tbody tr th {\n",
       "        vertical-align: top;\n",
       "    }\n",
       "\n",
       "    .dataframe thead th {\n",
       "        text-align: right;\n",
       "    }\n",
       "</style>\n",
       "<table border=\"1\" class=\"dataframe\">\n",
       "  <thead>\n",
       "    <tr style=\"text-align: right;\">\n",
       "      <th></th>\n",
       "      <th>LogisticRegression</th>\n",
       "      <th>RandomForest</th>\n",
       "      <th>GradientBoosting</th>\n",
       "      <th>SVM</th>\n",
       "    </tr>\n",
       "  </thead>\n",
       "  <tbody>\n",
       "    <tr>\n",
       "      <th>accuracy</th>\n",
       "      <td>0.795000</td>\n",
       "      <td>0.815000</td>\n",
       "      <td>0.825000</td>\n",
       "      <td>0.820000</td>\n",
       "    </tr>\n",
       "    <tr>\n",
       "      <th>f1</th>\n",
       "      <td>0.347637</td>\n",
       "      <td>0.377733</td>\n",
       "      <td>0.397286</td>\n",
       "      <td>0.359418</td>\n",
       "    </tr>\n",
       "    <tr>\n",
       "      <th>precision</th>\n",
       "      <td>0.434722</td>\n",
       "      <td>0.453911</td>\n",
       "      <td>0.459538</td>\n",
       "      <td>0.451351</td>\n",
       "    </tr>\n",
       "    <tr>\n",
       "      <th>recall</th>\n",
       "      <td>0.330789</td>\n",
       "      <td>0.357466</td>\n",
       "      <td>0.374539</td>\n",
       "      <td>0.343750</td>\n",
       "    </tr>\n",
       "    <tr>\n",
       "      <th>specificity</th>\n",
       "      <td>0.940000</td>\n",
       "      <td>0.945000</td>\n",
       "      <td>0.950000</td>\n",
       "      <td>0.940000</td>\n",
       "    </tr>\n",
       "  </tbody>\n",
       "</table>\n",
       "</div>"
      ],
      "text/plain": [
       "             LogisticRegression  RandomForest  GradientBoosting       SVM\n",
       "accuracy               0.795000      0.815000          0.825000  0.820000\n",
       "f1                     0.347637      0.377733          0.397286  0.359418\n",
       "precision              0.434722      0.453911          0.459538  0.451351\n",
       "recall                 0.330789      0.357466          0.374539  0.343750\n",
       "specificity            0.940000      0.945000          0.950000  0.940000"
      ]
     },
     "execution_count": 124,
     "metadata": {},
     "output_type": "execute_result"
    }
   ],
   "source": [
    "# со всеми данными\n",
    "results_cdpd_cda"
   ]
  },
  {
   "cell_type": "code",
   "execution_count": null,
   "metadata": {},
   "outputs": [],
   "source": []
  }
 ],
 "metadata": {
  "kernelspec": {
   "display_name": ".venv",
   "language": "python",
   "name": "python3"
  },
  "language_info": {
   "codemirror_mode": {
    "name": "ipython",
    "version": 3
   },
   "file_extension": ".py",
   "mimetype": "text/x-python",
   "name": "python",
   "nbconvert_exporter": "python",
   "pygments_lexer": "ipython3",
   "version": "3.11.8"
  }
 },
 "nbformat": 4,
 "nbformat_minor": 2
}
